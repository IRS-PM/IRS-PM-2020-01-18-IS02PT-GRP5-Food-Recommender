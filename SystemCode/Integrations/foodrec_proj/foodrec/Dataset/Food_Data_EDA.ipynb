{
 "cells": [
  {
   "cell_type": "markdown",
   "metadata": {},
   "source": [
    "<h1>ISR-MR-2020-01-18-IS02PT-GROUP5 Food Reccomendation Project</h1>\n",
    "<h2>Food Data Exploration</h2>"
   ]
  },
  {
   "cell_type": "markdown",
   "metadata": {},
   "source": [
    "<h3>Import packages</h3>\n",
    "<ul>\n",
    "    <li>Pandas</li>\n",
    "    <li>Numpy</li>\n",
    "</ul>\n",
    "<em>Remove display width.</em>"
   ]
  },
  {
   "cell_type": "code",
   "execution_count": 98,
   "metadata": {},
   "outputs": [],
   "source": [
    "import pandas as pd\n",
    "import numpy as np\n",
    "\n",
    "# Remove limit of display width, so require horizontal scroll bar\n",
    "pd.set_option('display.max_colwidth', 0)"
   ]
  },
  {
   "cell_type": "markdown",
   "metadata": {},
   "source": [
    "<h3>Load food data</h3>\n",
    "<ul>\n",
    "    <li>Display data information</li>\n",
    "    <li>Display 1st 5 rows of data</li>\n",
    "</ul>"
   ]
  },
  {
   "cell_type": "code",
   "execution_count": 99,
   "metadata": {},
   "outputs": [
    {
     "output_type": "stream",
     "name": "stdout",
     "text": "<class 'pandas.core.frame.DataFrame'>\nRangeIndex: 3920 entries, 0 to 3919\nData columns (total 15 columns):\n #   Column                      Non-Null Count  Dtype  \n---  ------                      --------------  -----  \n 0   FoodName                    3920 non-null   object \n 1   FoodGroup                   3920 non-null   object \n 2   FoodSubGroup                3920 non-null   object \n 3   PerServingHouseholdMeasure  3920 non-null   object \n 4   CarbohydrateAmount_g        3920 non-null   float64\n 5   CholesterolAmount_mg        3445 non-null   float64\n 6   DietaryFibreAmount_g        3817 non-null   float64\n 7   EnergyAmount_kcal           3920 non-null   float64\n 8   GlycemicIndexAmount         101 non-null    float64\n 9   ProteinAmount_g             3917 non-null   float64\n 10  SugarAmount_g               3265 non-null   float64\n 11  MonounsaturatedFatAmount_g  3565 non-null   float64\n 12  PolyunsaturatedFatAmount_g  3590 non-null   float64\n 13  SaturatedFatAmount_g        3669 non-null   float64\n 14  TotalFatAmount_g            3912 non-null   float64\ndtypes: float64(11), object(4)\nmemory usage: 459.5+ KB\n"
    },
    {
     "output_type": "display_data",
     "data": {
      "text/plain": "None"
     },
     "metadata": {}
    },
    {
     "output_type": "display_data",
     "data": {
      "text/plain": "                               FoodName  \\\n0  2-in-1 coffee powder, with creamer     \n1  2-in-1 coffee powder, with sugar       \n2  3 in 1 ready to drink coffee instant   \n3  3-in-1 cereal                          \n4  3-in-1 coffee powder                   \n\n                                    FoodGroup             FoodSubGroup  \\\n0  BEVERAGES                                   Non-alcoholic beverages   \n1  BEVERAGES                                   Non-alcoholic beverages   \n2  BEVERAGES                                   Non-alcoholic beverages   \n3  CEREAL AND CEREAL PRODUCTS                  Breakfast cereals         \n4  MIXED ETHNIC DISHES, ANALYZED IN SINGAPORE  Beverages                 \n\n  PerServingHouseholdMeasure  CarbohydrateAmount_g  CholesterolAmount_mg  \\\n0  Packet (12g)               7.79                  0.16                   \n1  Sachet (15g)               13.28                NaN                     \n2  Can (240g)                 14.16                 3.36                   \n3  Sachet (30g)               13.11                 1.80                   \n4  Sachet (20g)               9.31                  0.50                   \n\n   DietaryFibreAmount_g  EnergyAmount_kcal  GlycemicIndexAmount  \\\n0  0.46                  56.28             NaN                    \n1  1.20                  60.60             NaN                    \n2  0.24                  81.60             NaN                    \n3  1.17                  89.10              23.1                  \n4  0.00                  65.40             NaN                    \n\n   ProteinAmount_g  SugarAmount_g  MonounsaturatedFatAmount_g  \\\n0  0.82             1.28           0.33                         \n1  0.87             10.17          0.06                         \n2  2.40             14.16          0.34                         \n3  2.37             5.91           0.90                         \n4  1.13             9.31           0.24                         \n\n   PolyunsaturatedFatAmount_g  SaturatedFatAmount_g  TotalFatAmount_g  \n0  0.04                        1.95                  2.44              \n1  0.17                        0.20                  0.45              \n2  0.05                        1.30                  1.92              \n3  0.21                        1.74                  3.03              \n4  0.02                        2.22                  2.62              ",
      "text/html": "<div>\n<style scoped>\n    .dataframe tbody tr th:only-of-type {\n        vertical-align: middle;\n    }\n\n    .dataframe tbody tr th {\n        vertical-align: top;\n    }\n\n    .dataframe thead th {\n        text-align: right;\n    }\n</style>\n<table border=\"1\" class=\"dataframe\">\n  <thead>\n    <tr style=\"text-align: right;\">\n      <th></th>\n      <th>FoodName</th>\n      <th>FoodGroup</th>\n      <th>FoodSubGroup</th>\n      <th>PerServingHouseholdMeasure</th>\n      <th>CarbohydrateAmount_g</th>\n      <th>CholesterolAmount_mg</th>\n      <th>DietaryFibreAmount_g</th>\n      <th>EnergyAmount_kcal</th>\n      <th>GlycemicIndexAmount</th>\n      <th>ProteinAmount_g</th>\n      <th>SugarAmount_g</th>\n      <th>MonounsaturatedFatAmount_g</th>\n      <th>PolyunsaturatedFatAmount_g</th>\n      <th>SaturatedFatAmount_g</th>\n      <th>TotalFatAmount_g</th>\n    </tr>\n  </thead>\n  <tbody>\n    <tr>\n      <th>0</th>\n      <td>2-in-1 coffee powder, with creamer</td>\n      <td>BEVERAGES</td>\n      <td>Non-alcoholic beverages</td>\n      <td>Packet (12g)</td>\n      <td>7.79</td>\n      <td>0.16</td>\n      <td>0.46</td>\n      <td>56.28</td>\n      <td>NaN</td>\n      <td>0.82</td>\n      <td>1.28</td>\n      <td>0.33</td>\n      <td>0.04</td>\n      <td>1.95</td>\n      <td>2.44</td>\n    </tr>\n    <tr>\n      <th>1</th>\n      <td>2-in-1 coffee powder, with sugar</td>\n      <td>BEVERAGES</td>\n      <td>Non-alcoholic beverages</td>\n      <td>Sachet (15g)</td>\n      <td>13.28</td>\n      <td>NaN</td>\n      <td>1.20</td>\n      <td>60.60</td>\n      <td>NaN</td>\n      <td>0.87</td>\n      <td>10.17</td>\n      <td>0.06</td>\n      <td>0.17</td>\n      <td>0.20</td>\n      <td>0.45</td>\n    </tr>\n    <tr>\n      <th>2</th>\n      <td>3 in 1 ready to drink coffee instant</td>\n      <td>BEVERAGES</td>\n      <td>Non-alcoholic beverages</td>\n      <td>Can (240g)</td>\n      <td>14.16</td>\n      <td>3.36</td>\n      <td>0.24</td>\n      <td>81.60</td>\n      <td>NaN</td>\n      <td>2.40</td>\n      <td>14.16</td>\n      <td>0.34</td>\n      <td>0.05</td>\n      <td>1.30</td>\n      <td>1.92</td>\n    </tr>\n    <tr>\n      <th>3</th>\n      <td>3-in-1 cereal</td>\n      <td>CEREAL AND CEREAL PRODUCTS</td>\n      <td>Breakfast cereals</td>\n      <td>Sachet (30g)</td>\n      <td>13.11</td>\n      <td>1.80</td>\n      <td>1.17</td>\n      <td>89.10</td>\n      <td>23.1</td>\n      <td>2.37</td>\n      <td>5.91</td>\n      <td>0.90</td>\n      <td>0.21</td>\n      <td>1.74</td>\n      <td>3.03</td>\n    </tr>\n    <tr>\n      <th>4</th>\n      <td>3-in-1 coffee powder</td>\n      <td>MIXED ETHNIC DISHES, ANALYZED IN SINGAPORE</td>\n      <td>Beverages</td>\n      <td>Sachet (20g)</td>\n      <td>9.31</td>\n      <td>0.50</td>\n      <td>0.00</td>\n      <td>65.40</td>\n      <td>NaN</td>\n      <td>1.13</td>\n      <td>9.31</td>\n      <td>0.24</td>\n      <td>0.02</td>\n      <td>2.22</td>\n      <td>2.62</td>\n    </tr>\n  </tbody>\n</table>\n</div>"
     },
     "metadata": {}
    }
   ],
   "source": [
    "data = pd.read_csv(\"FoodDatabase_HC2.csv\")\n",
    "display(data.info())\n",
    "display(data.head())"
   ]
  },
  {
   "cell_type": "markdown",
   "metadata": {},
   "source": [
    "<h3>Goal: To categorise food into Vegetarian, Vegan, Halal, Contains beef</h3>\n",
    "<ul>\n",
    "    <li><h5>Vegan</h5></li>\n",
    "    <ul>\n",
    "        <li>No meat, fish, or poultry</li>\n",
    "        <li>No animal products and by-products, for example</li>\n",
    "        <ul>\n",
    "            <li>eggs</li>\n",
    "            <li>dairy products</li>\n",
    "            <li>honey</li>\n",
    "        </ul>\n",
    "    </ul>\n",
    "    <li><h5>Vegetarian</h5></li>\n",
    "    <ul>\n",
    "        <li><strong>Vegan</strong> food</li>\n",
    "        <li>No meat, fish or poultry</li>\n",
    "    </ul>\n",
    "    <li><h5>Halal</h5></li>\n",
    "    <ul>\n",
    "        <li><strong>Vegetarian</strong> food</li>\n",
    "        <li>No alcohol</li>\n",
    "        <li>No pork</li>\n",
    "        <li>Halal certified <em>(choose Malay food names?)</em></li>\n",
    "    </ul>\n",
    "    <li><h5>Contains beef</h5></li>\n",
    "    <ul>\n",
    "        <li>Not for Hindus</li>\n",
    "        <li>Not for Buddhists</li>\n",
    "    </ul>\n",
    "</ul>"
   ]
  },
  {
   "cell_type": "markdown",
   "metadata": {},
   "source": [
    "<h4>Add 4 binary columns, [Vegan, Vegetarian, Halal, ContainsBeef</h4>\n",
    "<ul>\n",
    "    <li>Vegan (fill value = True)</li>\n",
    "    <li>Vegetarian (fill value = True)</li>\n",
    "    <li>Halal (fill value = True)</li>\n",
    "    <li>ContainsBeef (fill value = False)</li>\n",
    "</ul>"
   ]
  },
  {
   "cell_type": "code",
   "execution_count": 100,
   "metadata": {},
   "outputs": [
    {
     "output_type": "stream",
     "name": "stdout",
     "text": "<class 'pandas.core.frame.DataFrame'>\nRangeIndex: 3920 entries, 0 to 3919\nData columns (total 19 columns):\n #   Column                      Non-Null Count  Dtype  \n---  ------                      --------------  -----  \n 0   FoodName                    3920 non-null   object \n 1   FoodGroup                   3920 non-null   object \n 2   FoodSubGroup                3920 non-null   object \n 3   PerServingHouseholdMeasure  3920 non-null   object \n 4   CarbohydrateAmount_g        3920 non-null   float64\n 5   CholesterolAmount_mg        3445 non-null   float64\n 6   DietaryFibreAmount_g        3817 non-null   float64\n 7   EnergyAmount_kcal           3920 non-null   float64\n 8   GlycemicIndexAmount         101 non-null    float64\n 9   ProteinAmount_g             3917 non-null   float64\n 10  SugarAmount_g               3265 non-null   float64\n 11  MonounsaturatedFatAmount_g  3565 non-null   float64\n 12  PolyunsaturatedFatAmount_g  3590 non-null   float64\n 13  SaturatedFatAmount_g        3669 non-null   float64\n 14  TotalFatAmount_g            3912 non-null   float64\n 15  Vegan                       3920 non-null   bool   \n 16  Vegetarian                  3920 non-null   bool   \n 17  Halal                       3920 non-null   bool   \n 18  ContainsBeef                3920 non-null   bool   \ndtypes: bool(4), float64(11), object(4)\nmemory usage: 474.8+ KB\n"
    },
    {
     "output_type": "display_data",
     "data": {
      "text/plain": "None"
     },
     "metadata": {}
    }
   ],
   "source": [
    "data['Vegan']=True\n",
    "data['Vegetarian']=True\n",
    "data['Halal']=True\n",
    "data['ContainsBeef']=False\n",
    "display(data.info())"
   ]
  },
  {
   "cell_type": "markdown",
   "metadata": {},
   "source": [
    "<h4>Extract columns that describes the food</h4>"
   ]
  },
  {
   "cell_type": "code",
   "execution_count": 101,
   "metadata": {},
   "outputs": [
    {
     "output_type": "display_data",
     "data": {
      "text/plain": "                               FoodName  \\\n0  2-in-1 coffee powder, with creamer     \n1  2-in-1 coffee powder, with sugar       \n2  3 in 1 ready to drink coffee instant   \n3  3-in-1 cereal                          \n4  3-in-1 coffee powder                   \n\n                                    FoodGroup             FoodSubGroup  \n0  BEVERAGES                                   Non-alcoholic beverages  \n1  BEVERAGES                                   Non-alcoholic beverages  \n2  BEVERAGES                                   Non-alcoholic beverages  \n3  CEREAL AND CEREAL PRODUCTS                  Breakfast cereals        \n4  MIXED ETHNIC DISHES, ANALYZED IN SINGAPORE  Beverages                ",
      "text/html": "<div>\n<style scoped>\n    .dataframe tbody tr th:only-of-type {\n        vertical-align: middle;\n    }\n\n    .dataframe tbody tr th {\n        vertical-align: top;\n    }\n\n    .dataframe thead th {\n        text-align: right;\n    }\n</style>\n<table border=\"1\" class=\"dataframe\">\n  <thead>\n    <tr style=\"text-align: right;\">\n      <th></th>\n      <th>FoodName</th>\n      <th>FoodGroup</th>\n      <th>FoodSubGroup</th>\n    </tr>\n  </thead>\n  <tbody>\n    <tr>\n      <th>0</th>\n      <td>2-in-1 coffee powder, with creamer</td>\n      <td>BEVERAGES</td>\n      <td>Non-alcoholic beverages</td>\n    </tr>\n    <tr>\n      <th>1</th>\n      <td>2-in-1 coffee powder, with sugar</td>\n      <td>BEVERAGES</td>\n      <td>Non-alcoholic beverages</td>\n    </tr>\n    <tr>\n      <th>2</th>\n      <td>3 in 1 ready to drink coffee instant</td>\n      <td>BEVERAGES</td>\n      <td>Non-alcoholic beverages</td>\n    </tr>\n    <tr>\n      <th>3</th>\n      <td>3-in-1 cereal</td>\n      <td>CEREAL AND CEREAL PRODUCTS</td>\n      <td>Breakfast cereals</td>\n    </tr>\n    <tr>\n      <th>4</th>\n      <td>3-in-1 coffee powder</td>\n      <td>MIXED ETHNIC DISHES, ANALYZED IN SINGAPORE</td>\n      <td>Beverages</td>\n    </tr>\n  </tbody>\n</table>\n</div>"
     },
     "metadata": {}
    }
   ],
   "source": [
    "colDesc = ['FoodName','FoodGroup','FoodSubGroup']\n",
    "dataDesc= data[colDesc]\n",
    "display(dataDesc.head())"
   ]
  },
  {
   "cell_type": "markdown",
   "metadata": {},
   "source": [
    "<h4>Compare the distinct food names, food groups and food sub groups with the number of data</h4>"
   ]
  },
  {
   "cell_type": "code",
   "execution_count": 102,
   "metadata": {},
   "outputs": [
    {
     "output_type": "stream",
     "name": "stdout",
     "text": "No. of rows of data = 3920\nNo. of distinct food names = 3920\nNo. of distinct food groups = 18\nNo. of distinct food sub groups = 78\n"
    }
   ],
   "source": [
    "print(f\"No. of rows of data = {dataDesc.shape[0]}\")\n",
    "print(f\"No. of distinct food names = {dataDesc['FoodName'].nunique()}\")\n",
    "print(f\"No. of distinct food groups = {dataDesc['FoodGroup'].nunique()}\")\n",
    "print(f\"No. of distinct food sub groups = {dataDesc['FoodSubGroup'].nunique()}\")"
   ]
  },
  {
   "cell_type": "markdown",
   "metadata": {},
   "source": [
    "<em>\n",
    "    <h5>Note:</h5>\n",
    "    <ul>\n",
    "        <li>There are duplicate food names, as the total number of rows is more than number of distinct food names</li>\n",
    "    </ul>\n",
    "</em>"
   ]
  },
  {
   "cell_type": "markdown",
   "metadata": {},
   "source": [
    "<h4>Which are the duplicated food names?</h4>"
   ]
  },
  {
   "cell_type": "code",
   "execution_count": 103,
   "metadata": {},
   "outputs": [
    {
     "output_type": "display_data",
     "data": {
      "text/plain": "array([], dtype=object)"
     },
     "metadata": {}
    },
    {
     "output_type": "display_data",
     "data": {
      "text/plain": "Empty DataFrame\nColumns: [FoodGroup]\nIndex: []",
      "text/html": "<div>\n<style scoped>\n    .dataframe tbody tr th:only-of-type {\n        vertical-align: middle;\n    }\n\n    .dataframe tbody tr th {\n        vertical-align: top;\n    }\n\n    .dataframe thead th {\n        text-align: right;\n    }\n</style>\n<table border=\"1\" class=\"dataframe\">\n  <thead>\n    <tr style=\"text-align: right;\">\n      <th></th>\n      <th>FoodGroup</th>\n    </tr>\n  </thead>\n  <tbody>\n  </tbody>\n</table>\n</div>"
     },
     "metadata": {}
    }
   ],
   "source": [
    "duplicated_names = dataDesc[dataDesc.duplicated('FoodName')]['FoodName'].unique()\n",
    "display(duplicated_names)\n",
    "display(pd.DataFrame(dataDesc[dataDesc.duplicated('FoodName')].groupby(['FoodName','FoodSubGroup'])['FoodGroup'].unique()))"
   ]
  },
  {
   "cell_type": "markdown",
   "metadata": {},
   "source": [
    "<h4>Which are the unique nutrition values in the \"Assam prawn\"?</h4>"
   ]
  },
  {
   "cell_type": "code",
   "execution_count": 104,
   "metadata": {
    "scrolled": true
   },
   "outputs": [
    {
     "output_type": "error",
     "ename": "IndexError",
     "evalue": "index 0 is out of bounds for axis 0 with size 0",
     "traceback": [
      "\u001b[1;31m---------------------------------------------------------------------------\u001b[0m",
      "\u001b[1;31mIndexError\u001b[0m                                Traceback (most recent call last)",
      "\u001b[1;32m<ipython-input-104-25e5aea1249e>\u001b[0m in \u001b[0;36m<module>\u001b[1;34m\u001b[0m\n\u001b[0;32m      1\u001b[0m \u001b[0mnum_group\u001b[0m\u001b[1;33m=\u001b[0m\u001b[0mdata\u001b[0m\u001b[1;33m.\u001b[0m\u001b[0mselect_dtypes\u001b[0m\u001b[1;33m(\u001b[0m\u001b[0minclude\u001b[0m\u001b[1;33m=\u001b[0m\u001b[0mnp\u001b[0m\u001b[1;33m.\u001b[0m\u001b[0mnumber\u001b[0m\u001b[1;33m)\u001b[0m\u001b[1;33m.\u001b[0m\u001b[0mcolumns\u001b[0m\u001b[1;33m\u001b[0m\u001b[1;33m\u001b[0m\u001b[0m\n\u001b[0;32m      2\u001b[0m \u001b[0mgroup\u001b[0m\u001b[1;33m=\u001b[0m\u001b[1;33m[\u001b[0m\u001b[1;34m'PerServingHouseholdMeasure'\u001b[0m\u001b[1;33m]\u001b[0m\u001b[1;33m+\u001b[0m\u001b[0mnum_group\u001b[0m\u001b[1;33m\u001b[0m\u001b[1;33m\u001b[0m\u001b[0m\n\u001b[1;32m----> 3\u001b[1;33m \u001b[0mdisplay\u001b[0m\u001b[1;33m(\u001b[0m\u001b[0mdata\u001b[0m\u001b[1;33m[\u001b[0m\u001b[0mdata\u001b[0m\u001b[1;33m[\u001b[0m\u001b[1;34m'FoodName'\u001b[0m\u001b[1;33m]\u001b[0m \u001b[1;33m==\u001b[0m \u001b[0mduplicated_names\u001b[0m\u001b[1;33m[\u001b[0m\u001b[1;36m0\u001b[0m\u001b[1;33m]\u001b[0m\u001b[1;33m]\u001b[0m\u001b[1;33m.\u001b[0m\u001b[0mgroupby\u001b[0m\u001b[1;33m(\u001b[0m\u001b[1;34m'PerServingHouseholdMeasure'\u001b[0m\u001b[1;33m)\u001b[0m\u001b[1;33m[\u001b[0m\u001b[0mnum_group\u001b[0m\u001b[1;33m]\u001b[0m\u001b[1;33m.\u001b[0m\u001b[0mnunique\u001b[0m\u001b[1;33m(\u001b[0m\u001b[1;33m)\u001b[0m\u001b[1;33m)\u001b[0m\u001b[1;33m\u001b[0m\u001b[1;33m\u001b[0m\u001b[0m\n\u001b[0m\u001b[0;32m      4\u001b[0m \u001b[1;32mfor\u001b[0m \u001b[0mcol\u001b[0m \u001b[1;32min\u001b[0m \u001b[0mdata\u001b[0m\u001b[1;33m.\u001b[0m\u001b[0mcolumns\u001b[0m\u001b[1;33m:\u001b[0m\u001b[1;33m\u001b[0m\u001b[1;33m\u001b[0m\u001b[0m\n\u001b[0;32m      5\u001b[0m     \u001b[1;32mif\u001b[0m \u001b[1;33m(\u001b[0m\u001b[0mcol\u001b[0m \u001b[1;32min\u001b[0m \u001b[0mgroup\u001b[0m\u001b[1;33m)\u001b[0m\u001b[1;33m:\u001b[0m\u001b[1;33m\u001b[0m\u001b[1;33m\u001b[0m\u001b[0m\n",
      "\u001b[1;31mIndexError\u001b[0m: index 0 is out of bounds for axis 0 with size 0"
     ]
    }
   ],
   "source": [
    "num_group=data.select_dtypes(include=np.number).columns\n",
    "group=['PerServingHouseholdMeasure']+num_group\n",
    "display(data[data['FoodName'] == duplicated_names[0]].groupby('PerServingHouseholdMeasure')[num_group].nunique())\n",
    "for col in data.columns:\n",
    "    if (col in group):\n",
    "        print(f\"{col}:\\t{list(data[data['FoodName'] == duplicated_names[0]][col].unique())}\")"
   ]
  },
  {
   "cell_type": "markdown",
   "metadata": {},
   "source": [
    "<em>\n",
    "    <h5>Note:</h5>\n",
    "    <ul>\n",
    "        <li>There are 2 sets of nutrition values for 2 different servings of \"Assam prawn\"</li>\n",
    "        <li>Set lower nutrition values for smaller serving, and higher nutrition values for larger serving</li>\n",
    "    </ul>\n",
    "</em>"
   ]
  },
  {
   "cell_type": "markdown",
   "metadata": {},
   "source": [
    "<h4>Summarise the Assam Prawn duplicates into small and large, with the respective nutrition values</h4>"
   ]
  },
  {
   "cell_type": "code",
   "execution_count": 105,
   "metadata": {},
   "outputs": [
    {
     "output_type": "error",
     "ename": "IndexError",
     "evalue": "index 0 is out of bounds for axis 0 with size 0",
     "traceback": [
      "\u001b[1;31m---------------------------------------------------------------------------\u001b[0m",
      "\u001b[1;31mIndexError\u001b[0m                                Traceback (most recent call last)",
      "\u001b[1;32m<ipython-input-105-49351fa6ee16>\u001b[0m in \u001b[0;36m<module>\u001b[1;34m\u001b[0m\n\u001b[0;32m      3\u001b[0m \u001b[1;33m\u001b[0m\u001b[0m\n\u001b[0;32m      4\u001b[0m \u001b[1;32mfor\u001b[0m \u001b[0mcol\u001b[0m \u001b[1;32min\u001b[0m \u001b[0mdata\u001b[0m\u001b[1;33m.\u001b[0m\u001b[0mcolumns\u001b[0m\u001b[1;33m:\u001b[0m\u001b[1;33m\u001b[0m\u001b[1;33m\u001b[0m\u001b[0m\n\u001b[1;32m----> 5\u001b[1;33m     \u001b[0muniqueValues\u001b[0m \u001b[1;33m=\u001b[0m \u001b[0mdata\u001b[0m\u001b[1;33m[\u001b[0m\u001b[0mdata\u001b[0m\u001b[1;33m[\u001b[0m\u001b[1;34m'FoodName'\u001b[0m\u001b[1;33m]\u001b[0m \u001b[1;33m==\u001b[0m \u001b[0mduplicated_names\u001b[0m\u001b[1;33m[\u001b[0m\u001b[1;36m0\u001b[0m\u001b[1;33m]\u001b[0m\u001b[1;33m]\u001b[0m\u001b[1;33m[\u001b[0m\u001b[0mcol\u001b[0m\u001b[1;33m]\u001b[0m\u001b[1;33m.\u001b[0m\u001b[0munique\u001b[0m\u001b[1;33m(\u001b[0m\u001b[1;33m)\u001b[0m\u001b[1;33m\u001b[0m\u001b[1;33m\u001b[0m\u001b[0m\n\u001b[0m\u001b[0;32m      6\u001b[0m \u001b[1;33m\u001b[0m\u001b[0m\n\u001b[0;32m      7\u001b[0m     \u001b[1;32mif\u001b[0m \u001b[1;33m(\u001b[0m\u001b[1;33m(\u001b[0m\u001b[0mcol\u001b[0m \u001b[1;32mnot\u001b[0m \u001b[1;32min\u001b[0m \u001b[0mnum_group\u001b[0m\u001b[1;33m)\u001b[0m \u001b[1;33m&\u001b[0m \u001b[1;33m(\u001b[0m\u001b[0mcol\u001b[0m \u001b[1;32mnot\u001b[0m \u001b[1;32min\u001b[0m \u001b[0mgroup\u001b[0m\u001b[1;33m)\u001b[0m\u001b[1;33m)\u001b[0m\u001b[1;33m:\u001b[0m\u001b[1;33m\u001b[0m\u001b[1;33m\u001b[0m\u001b[0m\n",
      "\u001b[1;31mIndexError\u001b[0m: index 0 is out of bounds for axis 0 with size 0"
     ]
    }
   ],
   "source": [
    "dictSmall={}\n",
    "dictLarge={}\n",
    "\n",
    "for col in data.columns:\n",
    "    uniqueValues = data[data['FoodName'] == duplicated_names[0]][col].unique()\n",
    "    \n",
    "    if ((col not in num_group) & (col not in group)):\n",
    "        dictSmall[col]=uniqueValues[0]\n",
    "        dictLarge[col]=uniqueValues[0]\n",
    "    elif (col not in num_group):\n",
    "        print(uniqueValues)\n",
    "        dictSmall[col]=uniqueValues[0]#.str.contains('16cm')\n",
    "        dictLarge[col]=uniqueValues[1]#.str.contains('23cm')\n",
    "        \n",
    "    if (col in num_group):\n",
    "        print(f'{col} : {uniqueValues}')\n",
    "        dictSmall[col]=min(uniqueValues)\n",
    "        dictLarge[col]=max(uniqueValues)\n",
    "\n",
    "dictSmall['FoodName'] = dictSmall['FoodName'] + ' (small)'\n",
    "dictLarge['FoodName'] = dictLarge['FoodName'] + ' (large)'\n",
    "\n",
    "display(dictSmall)\n",
    "display(dictLarge)"
   ]
  },
  {
   "cell_type": "markdown",
   "metadata": {},
   "source": [
    "<h4>Update data</h4>"
   ]
  },
  {
   "cell_type": "code",
   "execution_count": 106,
   "metadata": {},
   "outputs": [
    {
     "output_type": "error",
     "ename": "IndexError",
     "evalue": "index 0 is out of bounds for axis 0 with size 0",
     "traceback": [
      "\u001b[1;31m---------------------------------------------------------------------------\u001b[0m",
      "\u001b[1;31mIndexError\u001b[0m                                Traceback (most recent call last)",
      "\u001b[1;32m<ipython-input-106-f62fb76f79c0>\u001b[0m in \u001b[0;36m<module>\u001b[1;34m\u001b[0m\n\u001b[1;32m----> 1\u001b[1;33m \u001b[0mdata\u001b[0m \u001b[1;33m=\u001b[0m \u001b[0mdata\u001b[0m\u001b[1;33m[\u001b[0m\u001b[0mdata\u001b[0m\u001b[1;33m[\u001b[0m\u001b[1;34m'FoodName'\u001b[0m\u001b[1;33m]\u001b[0m \u001b[1;33m!=\u001b[0m \u001b[0mduplicated_names\u001b[0m\u001b[1;33m[\u001b[0m\u001b[1;36m0\u001b[0m\u001b[1;33m]\u001b[0m\u001b[1;33m]\u001b[0m\u001b[1;33m\u001b[0m\u001b[1;33m\u001b[0m\u001b[0m\n\u001b[0m\u001b[0;32m      2\u001b[0m \u001b[0mdata\u001b[0m \u001b[1;33m=\u001b[0m \u001b[0mdata\u001b[0m\u001b[1;33m.\u001b[0m\u001b[0mappend\u001b[0m\u001b[1;33m(\u001b[0m\u001b[0mdictSmall\u001b[0m\u001b[1;33m,\u001b[0m \u001b[0mignore_index\u001b[0m\u001b[1;33m=\u001b[0m\u001b[1;32mTrue\u001b[0m\u001b[1;33m)\u001b[0m\u001b[1;33m\u001b[0m\u001b[1;33m\u001b[0m\u001b[0m\n\u001b[0;32m      3\u001b[0m \u001b[0mdata\u001b[0m \u001b[1;33m=\u001b[0m \u001b[0mdata\u001b[0m\u001b[1;33m.\u001b[0m\u001b[0mappend\u001b[0m\u001b[1;33m(\u001b[0m\u001b[0mdictLarge\u001b[0m\u001b[1;33m,\u001b[0m \u001b[0mignore_index\u001b[0m\u001b[1;33m=\u001b[0m\u001b[1;32mTrue\u001b[0m\u001b[1;33m)\u001b[0m\u001b[1;33m\u001b[0m\u001b[1;33m\u001b[0m\u001b[0m\n\u001b[0;32m      4\u001b[0m \u001b[0mdata\u001b[0m\u001b[1;33m.\u001b[0m\u001b[0mdrop_duplicates\u001b[0m\u001b[1;33m(\u001b[0m\u001b[0msubset\u001b[0m\u001b[1;33m=\u001b[0m\u001b[1;34m'FoodName'\u001b[0m\u001b[1;33m,\u001b[0m \u001b[0minplace\u001b[0m\u001b[1;33m=\u001b[0m\u001b[1;32mTrue\u001b[0m\u001b[1;33m)\u001b[0m\u001b[1;33m\u001b[0m\u001b[1;33m\u001b[0m\u001b[0m\n\u001b[0;32m      5\u001b[0m \u001b[0mdata\u001b[0m\u001b[1;33m[\u001b[0m\u001b[0mdata\u001b[0m\u001b[1;33m[\u001b[0m\u001b[1;34m'FoodName'\u001b[0m\u001b[1;33m]\u001b[0m\u001b[1;33m.\u001b[0m\u001b[0mstr\u001b[0m\u001b[1;33m.\u001b[0m\u001b[0mcontains\u001b[0m\u001b[1;33m(\u001b[0m\u001b[1;34m'assam prawn'\u001b[0m\u001b[1;33m,\u001b[0m \u001b[0mcase\u001b[0m\u001b[1;33m=\u001b[0m\u001b[1;32mFalse\u001b[0m\u001b[1;33m)\u001b[0m\u001b[1;33m]\u001b[0m\u001b[1;33m\u001b[0m\u001b[1;33m\u001b[0m\u001b[0m\n",
      "\u001b[1;31mIndexError\u001b[0m: index 0 is out of bounds for axis 0 with size 0"
     ]
    }
   ],
   "source": [
    "data = data[data['FoodName'] != duplicated_names[0]]\n",
    "data = data.append(dictSmall, ignore_index=True)\n",
    "data = data.append(dictLarge, ignore_index=True)\n",
    "data.drop_duplicates(subset='FoodName', inplace=True)\n",
    "data[data['FoodName'].str.contains('assam prawn', case=False)]"
   ]
  },
  {
   "cell_type": "markdown",
   "metadata": {},
   "source": [
    "<h4>Re-extract the data descriptions</h4>"
   ]
  },
  {
   "cell_type": "code",
   "execution_count": 107,
   "metadata": {},
   "outputs": [
    {
     "output_type": "stream",
     "name": "stdout",
     "text": "No. of rows of data = 3920\nNo. of distinct food names = 3920\nNo. of distinct food groups = 18\nNo. of distinct food sub groups = 78\n"
    }
   ],
   "source": [
    "dataDesc= data[colDesc]\n",
    "print(f\"No. of rows of data = {dataDesc.shape[0]}\")\n",
    "print(f\"No. of distinct food names = {dataDesc['FoodName'].nunique()}\")\n",
    "print(f\"No. of distinct food groups = {dataDesc['FoodGroup'].nunique()}\")\n",
    "print(f\"No. of distinct food sub groups = {dataDesc['FoodSubGroup'].nunique()}\")"
   ]
  },
  {
   "cell_type": "markdown",
   "metadata": {},
   "source": [
    "<h4>List of distinct food groups</h4>"
   ]
  },
  {
   "cell_type": "code",
   "execution_count": 108,
   "metadata": {},
   "outputs": [
    {
     "output_type": "display_data",
     "data": {
      "text/plain": "['BEVERAGES',\n 'CEREAL AND CEREAL PRODUCTS',\n 'MIXED ETHNIC DISHES, ANALYZED IN SINGAPORE',\n 'HEALTHIER CHOICE SYMBOL (HCS) PRODUCTS',\n 'FAST FOODS',\n 'FISH AND FISH PRODUCTS',\n 'OTHER MIXED ETHNIC DISHES',\n 'SUGARS, SWEETS AND CONFECTIONERY',\n 'MISCELLANEOUS',\n 'VEGETABLE AND VEGETABLE PRODUCTS',\n 'FRUIT AND FRUIT PRODUCTS',\n 'MEAT AND MEAT PRODUCTS',\n 'NUTS AND SEEDS, PULSES AND PRODUCTS',\n 'OILS AND FATS',\n 'MILK AND MILK PRODUCTS',\n 'EGG AND EGG PRODUCTS',\n 'BREAKFAST FOODS',\n 'MAIN DISH']"
     },
     "metadata": {}
    }
   ],
   "source": [
    "display(list(dataDesc['FoodGroup'].unique()))"
   ]
  },
  {
   "cell_type": "markdown",
   "metadata": {},
   "source": [
    "<h4>List of distinct food sub groups</h4>"
   ]
  },
  {
   "cell_type": "code",
   "execution_count": 109,
   "metadata": {},
   "outputs": [
    {
     "output_type": "display_data",
     "data": {
      "text/plain": "['Non-alcoholic beverages',\n 'Breakfast cereals',\n 'Beverages',\n 'Beverages and sweetened drinks',\n 'Others',\n 'All fast food outlets in alphabetical order',\n 'Cereal based dishes',\n 'Shellfish and roe (eg all bivalves)',\n 'Others (squids, algae, plankton etc)',\n 'Fish and seafood based dishes',\n 'Local cakes, desserts and snacks',\n 'Desserts (puddings, mousses)',\n 'Vegetable based dishes',\n 'Pulses based dishes',\n 'Stock cubes / flavourings, essence, yeast extracts,etc',\n 'Alcoholic beverages',\n 'Herbs, spices, condiments',\n 'Vegetables, non-leafy (eg sweetcorn, beansprouts)',\n 'Sauces, gravies (manufactured)',\n 'Fish and roe',\n 'Fruit and fruit products',\n 'Fresh fruits',\n 'Processed fruits (canned, pickled, juices etc)',\n 'Vegetables,leafy',\n 'Sauces, gravies and dressings',\n 'Meat based dishes',\n 'Pork',\n 'Breads and rolls',\n 'Baking / leavening agents',\n 'Starchy roots,tubers,corms and stems',\n 'Grains and flours',\n 'Pulses and products (eg beancurds, tempeh)',\n 'Legumes (eg fresh beans,peas in pods)',\n 'Beef and veal',\n 'Egg based dishes',\n 'Cereal & cereal products',\n 'Crustaceans (eg crabs, lobsters, crayfish)',\n 'Biscuits(eg crackers)',\n 'Confectionery (eg chocolates)',\n 'Seeds and products',\n 'Poultry (chicken, duck, turkey, pigeon etc)',\n \"Pasta and noodles and 'dough wrappers'\",\n 'Buns (baked and steamed,plain and with sweet fillings)',\n 'Animal fat (incl butter, ghee, lard, drippings, tallow etc)',\n 'Milks',\n 'Salad dressings',\n 'Cakes and pastries(eg cakes mixes,croissants)',\n 'Duck eggs (eg salted, century)',\n 'Dairy products',\n 'Cheeses',\n 'Nuts and products',\n 'Ice creams',\n 'Sauces and recipe mixes',\n 'Sugars, syrups',\n 'Soups (manufactured)',\n 'Cream',\n 'Non dairy creamer, whiteners',\n 'Others (frog, venison, turtle etc)',\n 'Mutton and lamb',\n 'Others (eg turtle eggs, egg substitutes)',\n 'Hen eggs',\n 'Eggs & egg products',\n 'Quail eggs',\n 'Yoghurts (yogurt drinks under 1102)',\n 'Savory spreads/dips (salsa, promite)',\n 'Goat and kid',\n \"Convenience meals or 'meal-type' products\",\n 'Jams, jellies, preserves',\n 'Fruit & fruit products',\n 'Fats & oils',\n 'Soft margarine',\n 'Hard margarine',\n 'Seed oils',\n 'Game (eg ostrich, emu, buffalo)',\n 'Seafood & seafood products',\n 'Legumes, nuts and seeds & their products',\n 'Breakfast foods',\n 'Main dish with meat']"
     },
     "metadata": {}
    }
   ],
   "source": [
    "display(list(dataDesc['FoodSubGroup'].unique()))"
   ]
  },
  {
   "cell_type": "markdown",
   "metadata": {},
   "source": [
    "<h4>List of food sub groups for each food group</h4>"
   ]
  },
  {
   "cell_type": "code",
   "execution_count": 110,
   "metadata": {
    "scrolled": false
   },
   "outputs": [
    {
     "output_type": "display_data",
     "data": {
      "text/plain": "                                            FoodSubGroup\nFoodGroup                                               \nBEVERAGES                                   2           \nBREAKFAST FOODS                             1           \nCEREAL AND CEREAL PRODUCTS                  7           \nEGG AND EGG PRODUCTS                        4           \nFAST FOODS                                  1           \nFISH AND FISH PRODUCTS                      4           \nFRUIT AND FRUIT PRODUCTS                    2           \nHEALTHIER CHOICE SYMBOL (HCS) PRODUCTS      11          \nMAIN DISH                                   1           \nMEAT AND MEAT PRODUCTS                      7           \nMILK AND MILK PRODUCTS                      5           \nMISCELLANEOUS                               9           \nMIXED ETHNIC DISHES, ANALYZED IN SINGAPORE  10          \nNUTS AND SEEDS, PULSES AND PRODUCTS         3           \nOILS AND FATS                               4           \nOTHER MIXED ETHNIC DISHES                   6           \nSUGARS, SWEETS AND CONFECTIONERY            4           \nVEGETABLE AND VEGETABLE PRODUCTS            4           ",
      "text/html": "<div>\n<style scoped>\n    .dataframe tbody tr th:only-of-type {\n        vertical-align: middle;\n    }\n\n    .dataframe tbody tr th {\n        vertical-align: top;\n    }\n\n    .dataframe thead th {\n        text-align: right;\n    }\n</style>\n<table border=\"1\" class=\"dataframe\">\n  <thead>\n    <tr style=\"text-align: right;\">\n      <th></th>\n      <th>FoodSubGroup</th>\n    </tr>\n    <tr>\n      <th>FoodGroup</th>\n      <th></th>\n    </tr>\n  </thead>\n  <tbody>\n    <tr>\n      <th>BEVERAGES</th>\n      <td>2</td>\n    </tr>\n    <tr>\n      <th>BREAKFAST FOODS</th>\n      <td>1</td>\n    </tr>\n    <tr>\n      <th>CEREAL AND CEREAL PRODUCTS</th>\n      <td>7</td>\n    </tr>\n    <tr>\n      <th>EGG AND EGG PRODUCTS</th>\n      <td>4</td>\n    </tr>\n    <tr>\n      <th>FAST FOODS</th>\n      <td>1</td>\n    </tr>\n    <tr>\n      <th>FISH AND FISH PRODUCTS</th>\n      <td>4</td>\n    </tr>\n    <tr>\n      <th>FRUIT AND FRUIT PRODUCTS</th>\n      <td>2</td>\n    </tr>\n    <tr>\n      <th>HEALTHIER CHOICE SYMBOL (HCS) PRODUCTS</th>\n      <td>11</td>\n    </tr>\n    <tr>\n      <th>MAIN DISH</th>\n      <td>1</td>\n    </tr>\n    <tr>\n      <th>MEAT AND MEAT PRODUCTS</th>\n      <td>7</td>\n    </tr>\n    <tr>\n      <th>MILK AND MILK PRODUCTS</th>\n      <td>5</td>\n    </tr>\n    <tr>\n      <th>MISCELLANEOUS</th>\n      <td>9</td>\n    </tr>\n    <tr>\n      <th>MIXED ETHNIC DISHES, ANALYZED IN SINGAPORE</th>\n      <td>10</td>\n    </tr>\n    <tr>\n      <th>NUTS AND SEEDS, PULSES AND PRODUCTS</th>\n      <td>3</td>\n    </tr>\n    <tr>\n      <th>OILS AND FATS</th>\n      <td>4</td>\n    </tr>\n    <tr>\n      <th>OTHER MIXED ETHNIC DISHES</th>\n      <td>6</td>\n    </tr>\n    <tr>\n      <th>SUGARS, SWEETS AND CONFECTIONERY</th>\n      <td>4</td>\n    </tr>\n    <tr>\n      <th>VEGETABLE AND VEGETABLE PRODUCTS</th>\n      <td>4</td>\n    </tr>\n  </tbody>\n</table>\n</div>"
     },
     "metadata": {}
    },
    {
     "output_type": "display_data",
     "data": {
      "text/plain": "                                                                                                                                                                                                                                                                                                                      FoodSubGroup\nFoodGroup                                                                                                                                                                                                                                                                                                                         \nBEVERAGES                                   [Non-alcoholic beverages, Alcoholic beverages]                                                                                                                                                                                                                                        \nBREAKFAST FOODS                             [Breakfast foods]                                                                                                                                                                                                                                                                     \nCEREAL AND CEREAL PRODUCTS                  [Breakfast cereals, Breads and rolls, Grains and flours, Biscuits(eg crackers), Pasta and noodles and 'dough wrappers', Buns (baked and steamed,plain and with sweet fillings), Cakes and pastries(eg cakes mixes,croissants)]                                                        \nEGG AND EGG PRODUCTS                        [Duck eggs (eg salted, century), Others (eg turtle eggs, egg substitutes), Hen eggs, Quail eggs]                                                                                                                                                                                      \nFAST FOODS                                  [All fast food outlets in alphabetical order]                                                                                                                                                                                                                                         \nFISH AND FISH PRODUCTS                      [Shellfish and roe (eg all bivalves), Others (squids, algae, plankton etc), Fish and roe, Crustaceans (eg crabs, lobsters, crayfish)]                                                                                                                                                 \nFRUIT AND FRUIT PRODUCTS                    [Fresh fruits, Processed fruits (canned, pickled, juices etc)]                                                                                                                                                                                                                        \nHEALTHIER CHOICE SYMBOL (HCS) PRODUCTS      [Beverages and sweetened drinks, Others, Cereal & cereal products, Dairy products, Sauces and recipe mixes, Eggs & egg products, Convenience meals or 'meal-type' products, Fruit & fruit products, Fats & oils, Seafood & seafood products, Legumes, nuts and seeds & their products]\nMAIN DISH                                   [Main dish with meat]                                                                                                                                                                                                                                                                 \nMEAT AND MEAT PRODUCTS                      [Pork, Beef and veal, Poultry (chicken, duck, turkey, pigeon etc), Others (frog, venison, turtle etc), Mutton and lamb, Goat and kid, Game (eg ostrich, emu, buffalo)]                                                                                                                \nMILK AND MILK PRODUCTS                      [Milks, Cheeses, Ice creams, Cream, Yoghurts (yogurt drinks under 1102)]                                                                                                                                                                                                              \nMISCELLANEOUS                               [Stock cubes / flavourings, essence, yeast extracts,etc, Herbs, spices, condiments, Sauces, gravies (manufactured), Others, Baking / leavening agents, Salad dressings, Soups (manufactured), Non dairy creamer, whiteners, Savory spreads/dips (salsa, promite)]                     \nMIXED ETHNIC DISHES, ANALYZED IN SINGAPORE  [Beverages, Cereal based dishes, Fish and seafood based dishes, Vegetable based dishes, Local cakes, desserts and snacks, Pulses based dishes, Fruit and fruit products, Sauces, gravies and dressings, Meat based dishes, Egg based dishes]                                          \nNUTS AND SEEDS, PULSES AND PRODUCTS         [Pulses and products (eg beancurds, tempeh), Seeds and products, Nuts and products]                                                                                                                                                                                                   \nOILS AND FATS                               [Animal fat (incl butter, ghee, lard, drippings, tallow etc), Soft margarine, Hard margarine, Seed oils]                                                                                                                                                                              \nOTHER MIXED ETHNIC DISHES                   [Local cakes, desserts and snacks, Fish and seafood based dishes, Meat based dishes, Cereal based dishes, Vegetable based dishes, Pulses based dishes]                                                                                                                                \nSUGARS, SWEETS AND CONFECTIONERY            [Desserts (puddings, mousses), Confectionery (eg chocolates), Sugars, syrups, Jams, jellies, preserves]                                                                                                                                                                               \nVEGETABLE AND VEGETABLE PRODUCTS            [Vegetables, non-leafy (eg sweetcorn, beansprouts), Vegetables,leafy, Starchy roots,tubers,corms and stems, Legumes (eg fresh beans,peas in pods)]                                                                                                                                    ",
      "text/html": "<div>\n<style scoped>\n    .dataframe tbody tr th:only-of-type {\n        vertical-align: middle;\n    }\n\n    .dataframe tbody tr th {\n        vertical-align: top;\n    }\n\n    .dataframe thead th {\n        text-align: right;\n    }\n</style>\n<table border=\"1\" class=\"dataframe\">\n  <thead>\n    <tr style=\"text-align: right;\">\n      <th></th>\n      <th>FoodSubGroup</th>\n    </tr>\n    <tr>\n      <th>FoodGroup</th>\n      <th></th>\n    </tr>\n  </thead>\n  <tbody>\n    <tr>\n      <th>BEVERAGES</th>\n      <td>[Non-alcoholic beverages, Alcoholic beverages]</td>\n    </tr>\n    <tr>\n      <th>BREAKFAST FOODS</th>\n      <td>[Breakfast foods]</td>\n    </tr>\n    <tr>\n      <th>CEREAL AND CEREAL PRODUCTS</th>\n      <td>[Breakfast cereals, Breads and rolls, Grains and flours, Biscuits(eg crackers), Pasta and noodles and 'dough wrappers', Buns (baked and steamed,plain and with sweet fillings), Cakes and pastries(eg cakes mixes,croissants)]</td>\n    </tr>\n    <tr>\n      <th>EGG AND EGG PRODUCTS</th>\n      <td>[Duck eggs (eg salted, century), Others (eg turtle eggs, egg substitutes), Hen eggs, Quail eggs]</td>\n    </tr>\n    <tr>\n      <th>FAST FOODS</th>\n      <td>[All fast food outlets in alphabetical order]</td>\n    </tr>\n    <tr>\n      <th>FISH AND FISH PRODUCTS</th>\n      <td>[Shellfish and roe (eg all bivalves), Others (squids, algae, plankton etc), Fish and roe, Crustaceans (eg crabs, lobsters, crayfish)]</td>\n    </tr>\n    <tr>\n      <th>FRUIT AND FRUIT PRODUCTS</th>\n      <td>[Fresh fruits, Processed fruits (canned, pickled, juices etc)]</td>\n    </tr>\n    <tr>\n      <th>HEALTHIER CHOICE SYMBOL (HCS) PRODUCTS</th>\n      <td>[Beverages and sweetened drinks, Others, Cereal &amp; cereal products, Dairy products, Sauces and recipe mixes, Eggs &amp; egg products, Convenience meals or 'meal-type' products, Fruit &amp; fruit products, Fats &amp; oils, Seafood &amp; seafood products, Legumes, nuts and seeds &amp; their products]</td>\n    </tr>\n    <tr>\n      <th>MAIN DISH</th>\n      <td>[Main dish with meat]</td>\n    </tr>\n    <tr>\n      <th>MEAT AND MEAT PRODUCTS</th>\n      <td>[Pork, Beef and veal, Poultry (chicken, duck, turkey, pigeon etc), Others (frog, venison, turtle etc), Mutton and lamb, Goat and kid, Game (eg ostrich, emu, buffalo)]</td>\n    </tr>\n    <tr>\n      <th>MILK AND MILK PRODUCTS</th>\n      <td>[Milks, Cheeses, Ice creams, Cream, Yoghurts (yogurt drinks under 1102)]</td>\n    </tr>\n    <tr>\n      <th>MISCELLANEOUS</th>\n      <td>[Stock cubes / flavourings, essence, yeast extracts,etc, Herbs, spices, condiments, Sauces, gravies (manufactured), Others, Baking / leavening agents, Salad dressings, Soups (manufactured), Non dairy creamer, whiteners, Savory spreads/dips (salsa, promite)]</td>\n    </tr>\n    <tr>\n      <th>MIXED ETHNIC DISHES, ANALYZED IN SINGAPORE</th>\n      <td>[Beverages, Cereal based dishes, Fish and seafood based dishes, Vegetable based dishes, Local cakes, desserts and snacks, Pulses based dishes, Fruit and fruit products, Sauces, gravies and dressings, Meat based dishes, Egg based dishes]</td>\n    </tr>\n    <tr>\n      <th>NUTS AND SEEDS, PULSES AND PRODUCTS</th>\n      <td>[Pulses and products (eg beancurds, tempeh), Seeds and products, Nuts and products]</td>\n    </tr>\n    <tr>\n      <th>OILS AND FATS</th>\n      <td>[Animal fat (incl butter, ghee, lard, drippings, tallow etc), Soft margarine, Hard margarine, Seed oils]</td>\n    </tr>\n    <tr>\n      <th>OTHER MIXED ETHNIC DISHES</th>\n      <td>[Local cakes, desserts and snacks, Fish and seafood based dishes, Meat based dishes, Cereal based dishes, Vegetable based dishes, Pulses based dishes]</td>\n    </tr>\n    <tr>\n      <th>SUGARS, SWEETS AND CONFECTIONERY</th>\n      <td>[Desserts (puddings, mousses), Confectionery (eg chocolates), Sugars, syrups, Jams, jellies, preserves]</td>\n    </tr>\n    <tr>\n      <th>VEGETABLE AND VEGETABLE PRODUCTS</th>\n      <td>[Vegetables, non-leafy (eg sweetcorn, beansprouts), Vegetables,leafy, Starchy roots,tubers,corms and stems, Legumes (eg fresh beans,peas in pods)]</td>\n    </tr>\n  </tbody>\n</table>\n</div>"
     },
     "metadata": {}
    }
   ],
   "source": [
    "display(pd.DataFrame(dataDesc.groupby(['FoodGroup'])['FoodSubGroup'].nunique()))\n",
    "display(pd.DataFrame(dataDesc.groupby(['FoodGroup'])['FoodSubGroup'].unique()))"
   ]
  },
  {
   "cell_type": "markdown",
   "metadata": {},
   "source": [
    "<em>\n",
    "    <h5>Note:</h5>\n",
    "    <ul>\n",
    "        <li>Although the food sub groups are descriptive, the food names might provide more information for categorisation</li>\n",
    "    </ul>\n",
    "</em>"
   ]
  },
  {
   "cell_type": "markdown",
   "metadata": {},
   "source": [
    "<h4>List of food for each food sub group in 'BEVERAGES' food group</h4>"
   ]
  },
  {
   "cell_type": "code",
   "execution_count": 111,
   "metadata": {
    "scrolled": false
   },
   "outputs": [
    {
     "output_type": "display_data",
     "data": {
      "text/plain": "                         FoodName\nFoodSubGroup                     \nAlcoholic beverages      36      \nNon-alcoholic beverages  91      ",
      "text/html": "<div>\n<style scoped>\n    .dataframe tbody tr th:only-of-type {\n        vertical-align: middle;\n    }\n\n    .dataframe tbody tr th {\n        vertical-align: top;\n    }\n\n    .dataframe thead th {\n        text-align: right;\n    }\n</style>\n<table border=\"1\" class=\"dataframe\">\n  <thead>\n    <tr style=\"text-align: right;\">\n      <th></th>\n      <th>FoodName</th>\n    </tr>\n    <tr>\n      <th>FoodSubGroup</th>\n      <th></th>\n    </tr>\n  </thead>\n  <tbody>\n    <tr>\n      <th>Alcoholic beverages</th>\n      <td>36</td>\n    </tr>\n    <tr>\n      <th>Non-alcoholic beverages</th>\n      <td>91</td>\n    </tr>\n  </tbody>\n</table>\n</div>"
     },
     "metadata": {}
    },
    {
     "output_type": "display_data",
     "data": {
      "text/plain": "                                                                                                                                                                                                                                                                                                                                                                                                                                                                                                                                                                                                                                                                                                                                                                                                                                                                                                                                                                                                                                                                                                                                                                                                                                                                                                                                                                                                                                                                                                                                                                                                                                                                                                                                                                                                                                                                                                                                                                                                                                                                                                                                                                                                                                                                                                                           FoodName\nFoodSubGroup                                                                                                                                                                                                                                                                                                                                                                                                                                                                                                                                                                                                                                                                                                                                                                                                                                                                                                                                                                                                                                                                                                                                                                                                                                                                                                                                                                                                                                                                                                                                                                                                                                                                                                                                                                                                                                                                                                                                                                                                                                                                                                                                                                                                                                                                                                                       \nAlcoholic beverages      [Ale, Beer, lager, light malt, Benedictine D.O.M, Bloody mary, Brandy, Champagne, Coffee flavoured liqueur, Daiquiri, Draught, Dry sherry, Gin, Gin tonic, Light beer, Liqueur coffee, Liqueur coffee with cream, Low alcohol beer / non alcoholic, Manhattan, Mocha frappuccino with whipped cream, Port, Red wine, Regular beer, Rose wine, unspecified type, Rum, Sake (rice wine), Screwdriver, Sherry, unspecified type, Spirits, Sweet sherry, Tequila sunrise, Vodka, Whisky, White wine, unspecified type, Wine cooler, Wine, white, dry style, Wine, white, medium, dry style, Wine, white, medium, sweet style]                                                                                                                                                                                                                                                                                                                                                                                                                                                                                                                                                                                                                                                                                                                                                                                                                                                                                                                                                                                                                                                                                                                                                                                                                                                                                                                                                                                                                                                                                                                                                                                                                                                                                 \nNon-alcoholic beverages  [2-in-1 coffee powder, with creamer, 2-in-1 coffee powder, with sugar, 3 in 1 ready to drink coffee instant, 3-in-1 coffee powder, low sugar, Apple juice, Apple juice drink, Apple juice drink, with no added sugar, Apricot nectar juice drink, Black tea (no sugar), Brewed coffee, Caramel macchiato, Carrot, green apple, orange juice, Celery juice, Cheese foam bubble tea, no topping, 0% sugar - LiHo, Chocolate chip frappuccino, Chocolate chip frappuccino with whipped cream, Chocolate milk bubble tea, Chrysanthemum tea, Chrysanthemum tea (reduced sugar), Citrus carbonated water, Coca Cola Coke, Coca Cola Light, Coconut water, Coffee and chocolate chip frappuccino, Coffee and chocolate chip frappuccino with whipped cream, Coffee powder, instant, Coffee, decaffeinated, instant, powder, Cream soda, Drink mix, orange flavor, powder, Espresso, Fresh apple juice, Fresh orange juice, Fruit punch, Ginger ale, Green tea (no sugar), Green tea drink, Green tea frappuccino, Green tea frappuccino with whipped cream, Guava nectar juice, Horlick dinosaur, Hot chocolate, Hot chocolate with whipped cream, Ice limau, Ice teh o limau, Ice teh o longan, Ice teh o lychee, Iced lemon tea, Kopi C, Lemon flavoured soft drink, Lemon lime soda, Lemonade soft drink, Luo han guo drink, Milk tea no toppings, 0% sugar, Milk tea with pearls, 0% sugar, Milk tea, bottled, Milk tea, no toppings, 100% sugar, Milo Godzilla, Milo dinosaur, Milo powder, Australia, Milo, 3-in-1, powder, Milo, ready-to-drink, Orange and mango juice drink, Orange flavour drink, breakfast type, fortified, powder, Orange flavoured soft drink, Orange juice, Orange juice, fortified with calcium, Ovaltine powder, Root beer, Root beer float, Soya bean drink, Soyabean milk without sugar, Sugar cane juice, Sugar cane juice (2018), Sweetened packet drink, Syrup limau, Tea instant, sweetened, lemon flavour, powder, Tea with sugar, Tea, chinese, fermented, infusion, Tea, herbal, other than chamomile, brewed, Tea, powder, unsweetened, instant, Teh, Teh C kosong, Thai green milk tea, Thai milk tea, Tonic water, Tropical juice drink, Water chestnut drink, Water, mineral, natural, unflavoured, Water, plain, Watermelon and pineapple juice, Wheatgrass drink]",
      "text/html": "<div>\n<style scoped>\n    .dataframe tbody tr th:only-of-type {\n        vertical-align: middle;\n    }\n\n    .dataframe tbody tr th {\n        vertical-align: top;\n    }\n\n    .dataframe thead th {\n        text-align: right;\n    }\n</style>\n<table border=\"1\" class=\"dataframe\">\n  <thead>\n    <tr style=\"text-align: right;\">\n      <th></th>\n      <th>FoodName</th>\n    </tr>\n    <tr>\n      <th>FoodSubGroup</th>\n      <th></th>\n    </tr>\n  </thead>\n  <tbody>\n    <tr>\n      <th>Alcoholic beverages</th>\n      <td>[Ale, Beer, lager, light malt, Benedictine D.O.M, Bloody mary, Brandy, Champagne, Coffee flavoured liqueur, Daiquiri, Draught, Dry sherry, Gin, Gin tonic, Light beer, Liqueur coffee, Liqueur coffee with cream, Low alcohol beer / non alcoholic, Manhattan, Mocha frappuccino with whipped cream, Port, Red wine, Regular beer, Rose wine, unspecified type, Rum, Sake (rice wine), Screwdriver, Sherry, unspecified type, Spirits, Sweet sherry, Tequila sunrise, Vodka, Whisky, White wine, unspecified type, Wine cooler, Wine, white, dry style, Wine, white, medium, dry style, Wine, white, medium, sweet style]</td>\n    </tr>\n    <tr>\n      <th>Non-alcoholic beverages</th>\n      <td>[2-in-1 coffee powder, with creamer, 2-in-1 coffee powder, with sugar, 3 in 1 ready to drink coffee instant, 3-in-1 coffee powder, low sugar, Apple juice, Apple juice drink, Apple juice drink, with no added sugar, Apricot nectar juice drink, Black tea (no sugar), Brewed coffee, Caramel macchiato, Carrot, green apple, orange juice, Celery juice, Cheese foam bubble tea, no topping, 0% sugar - LiHo, Chocolate chip frappuccino, Chocolate chip frappuccino with whipped cream, Chocolate milk bubble tea, Chrysanthemum tea, Chrysanthemum tea (reduced sugar), Citrus carbonated water, Coca Cola Coke, Coca Cola Light, Coconut water, Coffee and chocolate chip frappuccino, Coffee and chocolate chip frappuccino with whipped cream, Coffee powder, instant, Coffee, decaffeinated, instant, powder, Cream soda, Drink mix, orange flavor, powder, Espresso, Fresh apple juice, Fresh orange juice, Fruit punch, Ginger ale, Green tea (no sugar), Green tea drink, Green tea frappuccino, Green tea frappuccino with whipped cream, Guava nectar juice, Horlick dinosaur, Hot chocolate, Hot chocolate with whipped cream, Ice limau, Ice teh o limau, Ice teh o longan, Ice teh o lychee, Iced lemon tea, Kopi C, Lemon flavoured soft drink, Lemon lime soda, Lemonade soft drink, Luo han guo drink, Milk tea no toppings, 0% sugar, Milk tea with pearls, 0% sugar, Milk tea, bottled, Milk tea, no toppings, 100% sugar, Milo Godzilla, Milo dinosaur, Milo powder, Australia, Milo, 3-in-1, powder, Milo, ready-to-drink, Orange and mango juice drink, Orange flavour drink, breakfast type, fortified, powder, Orange flavoured soft drink, Orange juice, Orange juice, fortified with calcium, Ovaltine powder, Root beer, Root beer float, Soya bean drink, Soyabean milk without sugar, Sugar cane juice, Sugar cane juice (2018), Sweetened packet drink, Syrup limau, Tea instant, sweetened, lemon flavour, powder, Tea with sugar, Tea, chinese, fermented, infusion, Tea, herbal, other than chamomile, brewed, Tea, powder, unsweetened, instant, Teh, Teh C kosong, Thai green milk tea, Thai milk tea, Tonic water, Tropical juice drink, Water chestnut drink, Water, mineral, natural, unflavoured, Water, plain, Watermelon and pineapple juice, Wheatgrass drink]</td>\n    </tr>\n  </tbody>\n</table>\n</div>"
     },
     "metadata": {}
    }
   ],
   "source": [
    "FoodGroup = 'BEVERAGES'\n",
    "display(pd.DataFrame(dataDesc[dataDesc['FoodGroup'] == FoodGroup].groupby(['FoodSubGroup'])['FoodName'].nunique()))\n",
    "display(pd.DataFrame(dataDesc[dataDesc['FoodGroup'] == FoodGroup].groupby(['FoodSubGroup'])['FoodName'].unique()))"
   ]
  },
  {
   "cell_type": "markdown",
   "metadata": {},
   "source": [
    "<h3>Update data label function</h3>"
   ]
  },
  {
   "cell_type": "code",
   "execution_count": 112,
   "metadata": {},
   "outputs": [],
   "source": [
    "def UpdateDataLabels(dataUpdate, foodGroups, foodSubGroups, labelNames, keyWords, value):\n",
    "    # Able to accept string and list, but working type is list\n",
    "    if (type(foodGroups) is str):\n",
    "        foodGroups = [foodGroups]\n",
    "        \n",
    "    if (type(foodSubGroups) is str):\n",
    "        foodSubGroups = [foodSubGroups]\n",
    "        \n",
    "    if (type(labelNames) is str):\n",
    "        labelNames = [labelNames]\n",
    "        \n",
    "    for group in foodGroups:\n",
    "        # Update all rows in food group, so food sub groups are all sub groups in food group\n",
    "        if (foodSubGroups is None):\n",
    "            foodSubGroups = dataUpdate[(dataUpdate['FoodGroup'] == group)]['FoodSubGroup'].unique()\n",
    "        \n",
    "        for subgroup in foodSubGroups:\n",
    "            for name in labelNames:\n",
    "                if (keyWords is None):\n",
    "                    # Update the value for the rows of food group and food sub group\n",
    "                    dataUpdate.loc[(dataUpdate['FoodGroup'] == group) & (dataUpdate['FoodSubGroup'] == subgroup), name] = value\n",
    "                else:\n",
    "                    for word in keyWords:\n",
    "                        # Update the value for the rows of food group, food sub group and food name containing keyword\n",
    "                        dataUpdate.loc[(dataUpdate['FoodGroup'] == group) & (dataUpdate['FoodSubGroup'] == subgroup) & \\\n",
    "                                       (dataUpdate['FoodName'].str.contains(word, case=False)), name] = value\n",
    "\n",
    "    # Display the number of false values and number of true values for the 4 labels\n",
    "    display(dataUpdate.select_dtypes(include='bool').apply(pd.value_counts))"
   ]
  },
  {
   "cell_type": "markdown",
   "metadata": {},
   "source": [
    "<em>\n",
    "    <h5>Note:</h5>\n",
    "    <ul>\n",
    "        <li>Non-vegan:</li>\n",
    "        <ul>\n",
    "            <li>Alcoholic:</li>\n",
    "            <ul>\n",
    "                <li>Liqueur coffee with <strong>cream</strong></li>\n",
    "                <li><strong>Mocha frappuccino</strong> with whipped <strong>cream</strong></li>\n",
    "            </ul>\n",
    "            <li>Non-Alcoholic:</li>\n",
    "            <ul>\n",
    "                <li>2-in-1 coffee powder, with <strong>creamer</strong></li>\n",
    "                <li><strong>3 in 1</strong> ready to drink coffee instant</li>\n",
    "                <li><strong>3-in-1</strong> coffee powder, low sugar</li>\n",
    "                <li><strong>Caramel</strong> macchiato</li>\n",
    "                <li><strong>Cheese</strong> foam bubble tea, no topping, 0% sugar - LiHo</li>\n",
    "                <li><strong>Chocolate</strong> chip <strong>frappuccino</strong></li>\n",
    "                <li><strong>Chocolate</strong> chip <strong>frappuccino</strong> with whipped <strong>cream</strong></li>\n",
    "                <li><strong>Chocolate milk</strong> bubble tea</li>\n",
    "                <li>Coffee and <strong>chocolate</strong> chip <strong>frappuccino</strong></li>\n",
    "                <li>Coffee and <strong>chocolate</strong> chip <strong>frappuccino</strong> with whipped <strong>cream</strong></li>\n",
    "                <li><strong>Cream</strong> soda</li>\n",
    "                <li>Green tea <strong>frappuccino</strong></li>\n",
    "                <li>Green tea <strong>frappuccino</strong> with whipped <strong>cream</strong></li>\n",
    "                <li><strong>Horlick</strong> dinosaur</li>\n",
    "                <li>Hot <strong>chocolate</strong></li>\n",
    "                <li>Hot <strong>chocolate</strong> with whipped <strong>cream</strong></li>\n",
    "                <li>Kopi <strong>C</strong></li>\n",
    "                <li><strong>Milk</strong> tea no toppings, 0% sugar</li>\n",
    "                <li><strong>Milk</strong> tea with pearls, 0% sugar</li>\n",
    "                <li><strong>Milk</strong> tea, bottled</li>\n",
    "                <li><strong>Milk</strong> tea, no toppings, 100% sugar</li>\n",
    "                <li><strong>Milo</strong> Godzilla</li>\n",
    "                <li><strong>Milo</strong> dinosaur</li>\n",
    "                <li><strong>Milo</strong> powder, Australia</li>\n",
    "                <li><strong>Milo, 3-in-1</strong>, powder</li>\n",
    "                <li><strong>Milo</strong>, ready-to-drink</li>\n",
    "                <li><strong>Ovaltine</strong> powder</li>\n",
    "                <li>Root beer <strong>float</strong></li>\n",
    "                <li><strong>Teh</strong></li>\n",
    "                <li><strong>Teh C</strong> kosong</li>\n",
    "                <li>Thai green <strong>milk</strong> tea</li>\n",
    "                <li>Thai <strong>milk</strong> tea</li>\n",
    "            </ul>\n",
    "        </ul>\n",
    "        <li>Vegan:</li>\n",
    "        <ul>\n",
    "            <li>Non-Alcoholic:</li>\n",
    "            <ul>\n",
    "                <li>Teh o</li>\n",
    "            </ul>\n",
    "        </ul>\n",
    "        <li>Non-halal:</li>\n",
    "        <ul>\n",
    "            <li>All <strong>alcoholic</strong> berverages</li>\n",
    "        </ul>\n",
    "    </ul>\n",
    "</em>"
   ]
  },
  {
   "cell_type": "markdown",
   "metadata": {},
   "source": [
    "<h4>Set Vegan and Halal labels for beverages</h4>"
   ]
  },
  {
   "cell_type": "code",
   "execution_count": 113,
   "metadata": {
    "scrolled": false
   },
   "outputs": [
    {
     "output_type": "display_data",
     "data": {
      "text/plain": "       Vegan  Vegetarian   Halal  ContainsBeef\nFalse  37    NaN         NaN      3920.0      \nTrue   3883   3920.0      3920.0 NaN          ",
      "text/html": "<div>\n<style scoped>\n    .dataframe tbody tr th:only-of-type {\n        vertical-align: middle;\n    }\n\n    .dataframe tbody tr th {\n        vertical-align: top;\n    }\n\n    .dataframe thead th {\n        text-align: right;\n    }\n</style>\n<table border=\"1\" class=\"dataframe\">\n  <thead>\n    <tr style=\"text-align: right;\">\n      <th></th>\n      <th>Vegan</th>\n      <th>Vegetarian</th>\n      <th>Halal</th>\n      <th>ContainsBeef</th>\n    </tr>\n  </thead>\n  <tbody>\n    <tr>\n      <th>False</th>\n      <td>37</td>\n      <td>NaN</td>\n      <td>NaN</td>\n      <td>3920.0</td>\n    </tr>\n    <tr>\n      <th>True</th>\n      <td>3883</td>\n      <td>3920.0</td>\n      <td>3920.0</td>\n      <td>NaN</td>\n    </tr>\n  </tbody>\n</table>\n</div>"
     },
     "metadata": {}
    },
    {
     "output_type": "display_data",
     "data": {
      "text/plain": "       Vegan  Vegetarian   Halal  ContainsBeef\nFalse  34    NaN         NaN      3920.0      \nTrue   3886   3920.0      3920.0 NaN          ",
      "text/html": "<div>\n<style scoped>\n    .dataframe tbody tr th:only-of-type {\n        vertical-align: middle;\n    }\n\n    .dataframe tbody tr th {\n        vertical-align: top;\n    }\n\n    .dataframe thead th {\n        text-align: right;\n    }\n</style>\n<table border=\"1\" class=\"dataframe\">\n  <thead>\n    <tr style=\"text-align: right;\">\n      <th></th>\n      <th>Vegan</th>\n      <th>Vegetarian</th>\n      <th>Halal</th>\n      <th>ContainsBeef</th>\n    </tr>\n  </thead>\n  <tbody>\n    <tr>\n      <th>False</th>\n      <td>34</td>\n      <td>NaN</td>\n      <td>NaN</td>\n      <td>3920.0</td>\n    </tr>\n    <tr>\n      <th>True</th>\n      <td>3886</td>\n      <td>3920.0</td>\n      <td>3920.0</td>\n      <td>NaN</td>\n    </tr>\n  </tbody>\n</table>\n</div>"
     },
     "metadata": {}
    },
    {
     "output_type": "display_data",
     "data": {
      "text/plain": "       Vegan  Vegetarian  Halal  ContainsBeef\nFalse  34    NaN          36     3920.0      \nTrue   3886   3920.0      3884  NaN          ",
      "text/html": "<div>\n<style scoped>\n    .dataframe tbody tr th:only-of-type {\n        vertical-align: middle;\n    }\n\n    .dataframe tbody tr th {\n        vertical-align: top;\n    }\n\n    .dataframe thead th {\n        text-align: right;\n    }\n</style>\n<table border=\"1\" class=\"dataframe\">\n  <thead>\n    <tr style=\"text-align: right;\">\n      <th></th>\n      <th>Vegan</th>\n      <th>Vegetarian</th>\n      <th>Halal</th>\n      <th>ContainsBeef</th>\n    </tr>\n  </thead>\n  <tbody>\n    <tr>\n      <th>False</th>\n      <td>34</td>\n      <td>NaN</td>\n      <td>36</td>\n      <td>3920.0</td>\n    </tr>\n    <tr>\n      <th>True</th>\n      <td>3886</td>\n      <td>3920.0</td>\n      <td>3884</td>\n      <td>NaN</td>\n    </tr>\n  </tbody>\n</table>\n</div>"
     },
     "metadata": {}
    }
   ],
   "source": [
    "# Non-Vegan\n",
    "FoodSubGroup = None\n",
    "LabelNames = ['Vegan']\n",
    "Keywords = ['cream','mocha','frappuccino','3[\\s\\S]in[\\s\\S]1','caramel','cheese','chocolate','horlick','kopi c', 'milk tea',\\\n",
    "            'milo','ovaltine','float','teh']\n",
    "value = False\n",
    "UpdateDataLabels(dataUpdate=data, foodGroups=FoodGroup, foodSubGroups=FoodSubGroup, labelNames=LabelNames, keyWords=Keywords,\\\n",
    "                 value=value)\n",
    "\n",
    "# Vegan\n",
    "Keywords = ['teh o']\n",
    "value = True\n",
    "UpdateDataLabels(dataUpdate=data, foodGroups=FoodGroup, foodSubGroups=FoodSubGroup, labelNames=LabelNames, keyWords=Keywords,\\\n",
    "                 value=value)\n",
    "\n",
    "# Non-Halal\n",
    "FoodSubGroup = 'Alcoholic beverages'\n",
    "LabelNames = ['Halal']\n",
    "Keywords = None\n",
    "value = False\n",
    "UpdateDataLabels(dataUpdate=data, foodGroups=FoodGroup, foodSubGroups=FoodSubGroup, labelNames=LabelNames, keyWords=Keywords,\\\n",
    "                 value=value)"
   ]
  },
  {
   "cell_type": "markdown",
   "metadata": {},
   "source": [
    "<h4>List of food for each food sub group in 'CEREAL AND CEREAL PRODUCTS' food group</h4>"
   ]
  },
  {
   "cell_type": "code",
   "execution_count": 114,
   "metadata": {},
   "outputs": [
    {
     "output_type": "display_data",
     "data": {
      "text/plain": "                                                        FoodName\nFoodSubGroup                                                    \nBiscuits(eg crackers)                                   47      \nBreads and rolls                                        51      \nBreakfast cereals                                       20      \nBuns (baked and steamed,plain and with sweet fillings)  29      \nCakes and pastries(eg cakes mixes,croissants)           33      \nGrains and flours                                       86      \nPasta and noodles and 'dough wrappers'                  85      ",
      "text/html": "<div>\n<style scoped>\n    .dataframe tbody tr th:only-of-type {\n        vertical-align: middle;\n    }\n\n    .dataframe tbody tr th {\n        vertical-align: top;\n    }\n\n    .dataframe thead th {\n        text-align: right;\n    }\n</style>\n<table border=\"1\" class=\"dataframe\">\n  <thead>\n    <tr style=\"text-align: right;\">\n      <th></th>\n      <th>FoodName</th>\n    </tr>\n    <tr>\n      <th>FoodSubGroup</th>\n      <th></th>\n    </tr>\n  </thead>\n  <tbody>\n    <tr>\n      <th>Biscuits(eg crackers)</th>\n      <td>47</td>\n    </tr>\n    <tr>\n      <th>Breads and rolls</th>\n      <td>51</td>\n    </tr>\n    <tr>\n      <th>Breakfast cereals</th>\n      <td>20</td>\n    </tr>\n    <tr>\n      <th>Buns (baked and steamed,plain and with sweet fillings)</th>\n      <td>29</td>\n    </tr>\n    <tr>\n      <th>Cakes and pastries(eg cakes mixes,croissants)</th>\n      <td>33</td>\n    </tr>\n    <tr>\n      <th>Grains and flours</th>\n      <td>86</td>\n    </tr>\n    <tr>\n      <th>Pasta and noodles and 'dough wrappers'</th>\n      <td>85</td>\n    </tr>\n  </tbody>\n</table>\n</div>"
     },
     "metadata": {}
    },
    {
     "output_type": "display_data",
     "data": {
      "text/plain": "                                                                                                                                                                                                                                                                                                                                                                                                                                                                                                                                                                                                                                                                                                                                                                                                                                                                                                                                                                                                                                                                                                                                                                                                                                                                                                                                                                                                                                                                                                                                                                                                                                                                                                                                                                                                                                                                                                                                                                                                                                                                                                                                                                                                                                                                                                                                                           FoodName\nFoodSubGroup                                                                                                                                                                                                                                                                                                                                                                                                                                                                                                                                                                                                                                                                                                                                                                                                                                                                                                                                                                                                                                                                                                                                                                                                                                                                                                                                                                                                                                                                                                                                                                                                                                                                                                                                                                                                                                                                                                                                                                                                                                                                                                                                                                                                                                                                                                                                                       \nBiscuits(eg crackers)                                   [Biscuit, alphabet, Biscuit, chocolate, Biscuit, chocolate chip, Biscuit, chocolate flavour, sandwiched with cream filling, Biscuit, chocolate-coated, Biscuit, chocolate-coated, cream filled, Biscuit, coconut, Biscuit, cream cracker (old), Biscuit, finger cream, Biscuit, flavoured, Biscuit, green gram, Biscuit, iced, Biscuit, lemon puff, Biscuit, marie, Biscuit, oatmeal, Biscuit, ovaltine, Biscuit, peanuts and coconut, Biscuit, rice cracker, Biscuit, sandwiched with peanut butter filling, Biscuit, savoury, cheese-flavoured, Biscuit, savoury, plain, Biscuit, savoury, salada style, Biscuit, savoury, wholemeal, Biscuit, soda (old), Biscuit, sultana, Biscuit, sweet, ginger flavoured, Biscuit, sweet, wheatmeal, Biscuit, wafer, Biscuit, with cream filling, Biscuits, high calcium, Butter cookies, Cashew nut cookies, Chocolate chip cookie, Cookie, cornflake, Cookie, peanut, Cookie, peanut butter filling, regular, Cookie, sesame seed, Cracker, high fat, small, round biscuit sprinkled with salt, Cracker, with cheese filling, Cream cracker, plain, Cream cracker, sugared, Cream cracker, wholemeal, Digestive biscuit, Ice cream cones, cake or wafer type, Plain crackers, Pretzels, Wafer, chocolate]                                                                                                                                                                                                                                                                                                                                                                                                                                                                                                                                                                                                                                                                                                                                                                                                                                                                                                                                                                                                                                                         \nBreads and rolls                                        [Bagel, plain, Beef banh mi, Bread roll, white, Bread roll, white, soft, Bread roll, wholemeal, Bread, brown, Bread, brown, toasted, Bread, butterscotch-flavoured, Bread, chocolate chip, Bread, coconut, Bread, french, Bread, garlic, Bread, oat bran, Bread, pita, Bread, raisin, Bread, rolls, Bread, ryemeal, Bread, white, Bread, white, aerated, high protein, Bread, white, fibre increased, Bread, white, fibre increased, toasted, Bread, white, from bakery shop, Bread, white, protein increased, Bread, white, protein increased, toasted, Bread, white, toasted, Bread, whitemeal, enriched, Bread, wholemeal, enriched, Bread, wholemeal, fibre increased, Bread, wholemeal, fibre increased, toasted, Bread, wholemeal, toasted, Bread, with banana and walnut, Breadcrumb, commercial, Bun, steamed, Butter roll, Butter sugar roll, Cheese and ham bun, Chicken banh mi, Chocolate cream roll, Coffee bun, Corn bread, Croutons, plain, French toast, frozen, French toast, made with low fat (2%) milk, Frozen prata, cooked, Pandan bread, enriched, Papadum, raw, Pizza, ham and pineapple, frozen, baked, Pizza, tomato and cheese, Pork banh mi, Softmeal bread, enriched, Swiss roll]                                                                                                                                                                                                                                                                                                                                                                                                                                                                                                                                                                                                                                                                                                                                                                                                                                                                                                                                                                                                                                                                                             \nBreakfast cereals                                       [3-in-1 cereal, 4 in 1 brown rice cereal, Breakfast cereal, flavoured, contains whole grains, Breakfast cereal, flavoured, not whole grains, Breakfast cereal, mixed, contains whole grains, Breakfast cereal, mixed, not whole grains, Breakfast cereal, plain, contains whole grains, Breakfast cereal, plain, not whole grains, Cereal, puffed rice with cocoa coating, Cereal, rice and wheat flakes, sweetened, Cereal, wheat bran flakes, Cereal, wheat bran pellets, Cereals, ready-to-eat, muesli, dried fruit and nuts, Froot loops, kelloggs, Granola, quaker, oat and honey, Honey smacks, kelloggs, Instant cereal, Nutrigrain, kelloggs, Oat, rolled, boiled, Weet-Bix (original)]                                                                                                                                                                                                                                                                                                                                                                                                                                                                                                                                                                                                                                                                                                                                                                                                                                                                                                                                                                                                                                                                                                                                                                                                                                                                                                                                                                                                                                                                                                                                                                                                            \nBuns (baked and steamed,plain and with sweet fillings)  [Bun, chicken curry, Bun, cinnamon, Bun, coconut, Bun, custard, Bun, dried shrimp, Bun, fruit, glazed, Bun, fruit, iced, Bun, melon, Bun, pork floss, Bun, sausage, Bun, sugared, Bun, susi, Bun, sweet, with dried fruit, Bun, with sugar coated topping, Cake, carrot, with cream cheese frosting, Cheese bun, Kaya bun, Pow, char siew, steamed, Pow, lotus seed paste, Pow, pork, Pow, red bean, Pow, sweetcorn, Pow, vegetable, Pow, vegetarian chicken, Pow, yam, Red bean bun, Roll, cinnamon, with icing, Rolls, hamburger or hotdog, plain, Walnut bun]                                                                                                                                                                                                                                                                                                                                                                                                                                                                                                                                                                                                                                                                                                                                                                                                                                                                                                                                                                                                                                                                                                                                                                                                                                                                                                                                                                                                                                                                                                                                                                                                                                                                                                                                           \nCakes and pastries(eg cakes mixes,croissants)           [Cake, black forest, commercial, Cake, chocolate, homemade, Cake, fruit, dark, uniced, commercial, Cake, fruit, light, uniced, commercial, Cake, fruit, uniced, homemade, Cake, plain, commercial, Cake, plain, uniced, homemade, Cake, sponge, plain, with jam and cream, commercial, Castella cake, cheese-flavoured, Cheesecake, baked, Cheesecake, commercial, Cookies, brownies, commercially prepared, Croissant, Croissant, with egg, cheese and ham, Cupcake, iced, commercial, Danish pastry, Doughnut, chocolate coated, Eclair, chocolate, commercial, Kimchi pancake, Muffin, english, Muffin, english, toasted, Pancake, home prepared, Pastry, puff, commercial, raw, Pastry, shortcrust, commercial, baked, Pastry, shortcrust, commercial, raw, Pikelet, home-prepared, cooked, Pound cake, frozen, Quiche, ham, Sausage roll, individual size, ready to eat, Scone, plain, commercial, Scone, plain, home prepared, Tart, custard, individual, commercial, Tart, jam, individual, commercial]                                                                                                                                                                                                                                                                                                                                                                                                                                                                                                                                                                                                                                                                                                                                                                                                                                                                                                                                                                                                                                                                                                                                                                                                                                                                                             \nGrains and flours                                       [Barley, pearl, raw, Beef pho, Brown rice cooked, Brown rice porridge, plain, Bulgar, cooked, Bulgur, boiled, Bulgur, dried, Bulgur, soaked, Chicken chop with fried rice, Chicken gimbap, Chicken katsu don, China pearl barley, raw, Corn stick, chocolate flavoured, Custard powder, Dough, yeast, Easy crispy coating flour, Fish curry mix, Flour, arrowroot, Flour, atta, Flour, corn, Flour, gluten, Flour, glutinous rice, Flour, rice, Flour, rye, wholemeal, Flour, soyafluff soy, Flour, wheat, high protein, Flour, wheat, white, Flour, wheat, white, self raising, Flour, wheat, wholemeal, Fried ebi & teriyaki chicken bento (tested chicken only), Fried fish and beef bento (tested beef only), Fried fish porridge, Gluten, Gluten, fried, Grains based salad with 3 vegetable toppings, no dressing, Grains based salad with chicken and 3 vegetable toppings, no dressing, Grains based salad with fish and 3 vegetable toppings, no dressing, Korean bulgogi pork with rice, Maize, raw, Mee siam (2018), Millet, raw, Mushroom risotto, Oat, bran, raw, Oat, processed, tinned, Oat, rolled, raw, Oyster mee sua, Poke bowl, salmon, Poke bowl, tuna, Pop corn, buttered, Pop corn, durian flavoured, Pork katsu don, Quinoa, dry, Red rice porridge, plain, Red rice, cooked, Rice bran, coarse, Rice bran, extruded, Rice bran, fine, Rice flour, brown, Rice, broken, raw, Rice, brown, long-grain, raw, Rice, flakes, Rice, glutinous, black, raw, Rice, glutinous, white, cooked, Rice, glutinous, white, raw, Rice, multigrain, raw, Rice, parboiled, Rice, puffed, Rice, unpolished, raw, Sago, pearl, Salmon don, Seafood risotto, Semolina, cooked, Semolina, raw, Sliced fish bee hoon with milk, Sliced fish bee hoon, no evaporated milk, Spices of the orient flour, original, Tempura don, assorted, Thai basil beef with rice, Thai basil pork with rice, Vegetarian chicken, Wheat germ, Wheat, bran, unprocessed, Wheat, whole grain, White rice cooked, White rice, raw, Yellow corn grits, dry]                                                                                                                                                                                                                                                                  \nPasta and noodles and 'dough wrappers'                  [Brown rice bee hoon, fried, plain, Brown rice kway teow, cooked, Brown rice laksa noodles, cooked, Brown rice yellow noodles, raw, Cheese prata bomb, Chicken pho, Cooked beehoon, Cooked brown rice beehoon, Crayfish pasta, Creamy chicken pasta, Creamy mushroom pasta, Curry udon with potato & carrot, Dao xiao mian, beef, soup, Dried ee mee, raw, Dry ban mian, Dumpling ban mian, pork, Dumpling skin, raw, Hong Kong noodles, raw, Hoshisoba, boiled, Japanese shio ramen, Japanese shoyu ramen, Kway teow, cooked, Kway teow, raw, Laksa noodles, cooked, Lasagne/Lasagna, Beef, Restaurant Style, Ready-to-eat, Mac and cheese, Macaroni, cooked, unenriched, Macaroni, dried, Meatball pasta, Mee goreng (2018), Mee sua, cooked, Mee sua, raw, Mini boat noodles, beef, Mini boat noodles, pork, Noodle snack, chicken flavoured, dried, Noodles, dried, Noodles, dried, instant, without seasoning, Noodles, egg, cooked, unenriched, Noodles, egg, dry, unenriched, Noodles, instant, chicken abalone, with seasoning, uncooked, Noodles, instant, chicken curry, with seasoning, uncooked, Noodles, instant, chicken tanmen, with seasoning, uncooked, Noodles, instant, dry, with seasoning, cooked, Noodles, instant, shrimp tanmen, with seasoning, uncooked, Noodles, instant, soup with seasoning, cooked, Noodles, laksa, thick, dried, Noodles, laksa, thick, wet, Noodles, rice, Noodles, sago, dried, Pad thai, Pasta, egg, boiled, without salt, Pasta, egg, dried, raw, Pasta, marinara, Pasta, spinach, boiled, without salt, Pasta, spinach, dried, raw, Pasta, white, boiled, Pasta, white, dried, Pasta, wholemeal, boiled, Pasta, wholemeal, dried, Plain Pesto Pasta, Plain aglio aglio, Popiah skin, Pork chop with spaghetti, Prata bomb, with margarine & sugar, Raw bee hoon, Raw spaghetti, Seafood tom yum ban mian, Spaghetti, white, raw, Spaghetti, wholemeal, boiled, Spaghetti, wholemeal, raw, Spaghetti, with added salt, boiled, Spaghetti, without added salt, boiled, Spinach noodles, dried, Suan la mian, Tang hoon, raw, Tanghoon, raw, Tortillas, ready-to-bake or -fry, flour, Udon, wet, Vegetable U-Mian, Vietnamese fresh spring roll, Vietnamese fried spring roll, Wanton skin, raw, Yaki udon with chicken, Yellow noodle, raw, soba, boiled]",
      "text/html": "<div>\n<style scoped>\n    .dataframe tbody tr th:only-of-type {\n        vertical-align: middle;\n    }\n\n    .dataframe tbody tr th {\n        vertical-align: top;\n    }\n\n    .dataframe thead th {\n        text-align: right;\n    }\n</style>\n<table border=\"1\" class=\"dataframe\">\n  <thead>\n    <tr style=\"text-align: right;\">\n      <th></th>\n      <th>FoodName</th>\n    </tr>\n    <tr>\n      <th>FoodSubGroup</th>\n      <th></th>\n    </tr>\n  </thead>\n  <tbody>\n    <tr>\n      <th>Biscuits(eg crackers)</th>\n      <td>[Biscuit, alphabet, Biscuit, chocolate, Biscuit, chocolate chip, Biscuit, chocolate flavour, sandwiched with cream filling, Biscuit, chocolate-coated, Biscuit, chocolate-coated, cream filled, Biscuit, coconut, Biscuit, cream cracker (old), Biscuit, finger cream, Biscuit, flavoured, Biscuit, green gram, Biscuit, iced, Biscuit, lemon puff, Biscuit, marie, Biscuit, oatmeal, Biscuit, ovaltine, Biscuit, peanuts and coconut, Biscuit, rice cracker, Biscuit, sandwiched with peanut butter filling, Biscuit, savoury, cheese-flavoured, Biscuit, savoury, plain, Biscuit, savoury, salada style, Biscuit, savoury, wholemeal, Biscuit, soda (old), Biscuit, sultana, Biscuit, sweet, ginger flavoured, Biscuit, sweet, wheatmeal, Biscuit, wafer, Biscuit, with cream filling, Biscuits, high calcium, Butter cookies, Cashew nut cookies, Chocolate chip cookie, Cookie, cornflake, Cookie, peanut, Cookie, peanut butter filling, regular, Cookie, sesame seed, Cracker, high fat, small, round biscuit sprinkled with salt, Cracker, with cheese filling, Cream cracker, plain, Cream cracker, sugared, Cream cracker, wholemeal, Digestive biscuit, Ice cream cones, cake or wafer type, Plain crackers, Pretzels, Wafer, chocolate]</td>\n    </tr>\n    <tr>\n      <th>Breads and rolls</th>\n      <td>[Bagel, plain, Beef banh mi, Bread roll, white, Bread roll, white, soft, Bread roll, wholemeal, Bread, brown, Bread, brown, toasted, Bread, butterscotch-flavoured, Bread, chocolate chip, Bread, coconut, Bread, french, Bread, garlic, Bread, oat bran, Bread, pita, Bread, raisin, Bread, rolls, Bread, ryemeal, Bread, white, Bread, white, aerated, high protein, Bread, white, fibre increased, Bread, white, fibre increased, toasted, Bread, white, from bakery shop, Bread, white, protein increased, Bread, white, protein increased, toasted, Bread, white, toasted, Bread, whitemeal, enriched, Bread, wholemeal, enriched, Bread, wholemeal, fibre increased, Bread, wholemeal, fibre increased, toasted, Bread, wholemeal, toasted, Bread, with banana and walnut, Breadcrumb, commercial, Bun, steamed, Butter roll, Butter sugar roll, Cheese and ham bun, Chicken banh mi, Chocolate cream roll, Coffee bun, Corn bread, Croutons, plain, French toast, frozen, French toast, made with low fat (2%) milk, Frozen prata, cooked, Pandan bread, enriched, Papadum, raw, Pizza, ham and pineapple, frozen, baked, Pizza, tomato and cheese, Pork banh mi, Softmeal bread, enriched, Swiss roll]</td>\n    </tr>\n    <tr>\n      <th>Breakfast cereals</th>\n      <td>[3-in-1 cereal, 4 in 1 brown rice cereal, Breakfast cereal, flavoured, contains whole grains, Breakfast cereal, flavoured, not whole grains, Breakfast cereal, mixed, contains whole grains, Breakfast cereal, mixed, not whole grains, Breakfast cereal, plain, contains whole grains, Breakfast cereal, plain, not whole grains, Cereal, puffed rice with cocoa coating, Cereal, rice and wheat flakes, sweetened, Cereal, wheat bran flakes, Cereal, wheat bran pellets, Cereals, ready-to-eat, muesli, dried fruit and nuts, Froot loops, kelloggs, Granola, quaker, oat and honey, Honey smacks, kelloggs, Instant cereal, Nutrigrain, kelloggs, Oat, rolled, boiled, Weet-Bix (original)]</td>\n    </tr>\n    <tr>\n      <th>Buns (baked and steamed,plain and with sweet fillings)</th>\n      <td>[Bun, chicken curry, Bun, cinnamon, Bun, coconut, Bun, custard, Bun, dried shrimp, Bun, fruit, glazed, Bun, fruit, iced, Bun, melon, Bun, pork floss, Bun, sausage, Bun, sugared, Bun, susi, Bun, sweet, with dried fruit, Bun, with sugar coated topping, Cake, carrot, with cream cheese frosting, Cheese bun, Kaya bun, Pow, char siew, steamed, Pow, lotus seed paste, Pow, pork, Pow, red bean, Pow, sweetcorn, Pow, vegetable, Pow, vegetarian chicken, Pow, yam, Red bean bun, Roll, cinnamon, with icing, Rolls, hamburger or hotdog, plain, Walnut bun]</td>\n    </tr>\n    <tr>\n      <th>Cakes and pastries(eg cakes mixes,croissants)</th>\n      <td>[Cake, black forest, commercial, Cake, chocolate, homemade, Cake, fruit, dark, uniced, commercial, Cake, fruit, light, uniced, commercial, Cake, fruit, uniced, homemade, Cake, plain, commercial, Cake, plain, uniced, homemade, Cake, sponge, plain, with jam and cream, commercial, Castella cake, cheese-flavoured, Cheesecake, baked, Cheesecake, commercial, Cookies, brownies, commercially prepared, Croissant, Croissant, with egg, cheese and ham, Cupcake, iced, commercial, Danish pastry, Doughnut, chocolate coated, Eclair, chocolate, commercial, Kimchi pancake, Muffin, english, Muffin, english, toasted, Pancake, home prepared, Pastry, puff, commercial, raw, Pastry, shortcrust, commercial, baked, Pastry, shortcrust, commercial, raw, Pikelet, home-prepared, cooked, Pound cake, frozen, Quiche, ham, Sausage roll, individual size, ready to eat, Scone, plain, commercial, Scone, plain, home prepared, Tart, custard, individual, commercial, Tart, jam, individual, commercial]</td>\n    </tr>\n    <tr>\n      <th>Grains and flours</th>\n      <td>[Barley, pearl, raw, Beef pho, Brown rice cooked, Brown rice porridge, plain, Bulgar, cooked, Bulgur, boiled, Bulgur, dried, Bulgur, soaked, Chicken chop with fried rice, Chicken gimbap, Chicken katsu don, China pearl barley, raw, Corn stick, chocolate flavoured, Custard powder, Dough, yeast, Easy crispy coating flour, Fish curry mix, Flour, arrowroot, Flour, atta, Flour, corn, Flour, gluten, Flour, glutinous rice, Flour, rice, Flour, rye, wholemeal, Flour, soyafluff soy, Flour, wheat, high protein, Flour, wheat, white, Flour, wheat, white, self raising, Flour, wheat, wholemeal, Fried ebi &amp; teriyaki chicken bento (tested chicken only), Fried fish and beef bento (tested beef only), Fried fish porridge, Gluten, Gluten, fried, Grains based salad with 3 vegetable toppings, no dressing, Grains based salad with chicken and 3 vegetable toppings, no dressing, Grains based salad with fish and 3 vegetable toppings, no dressing, Korean bulgogi pork with rice, Maize, raw, Mee siam (2018), Millet, raw, Mushroom risotto, Oat, bran, raw, Oat, processed, tinned, Oat, rolled, raw, Oyster mee sua, Poke bowl, salmon, Poke bowl, tuna, Pop corn, buttered, Pop corn, durian flavoured, Pork katsu don, Quinoa, dry, Red rice porridge, plain, Red rice, cooked, Rice bran, coarse, Rice bran, extruded, Rice bran, fine, Rice flour, brown, Rice, broken, raw, Rice, brown, long-grain, raw, Rice, flakes, Rice, glutinous, black, raw, Rice, glutinous, white, cooked, Rice, glutinous, white, raw, Rice, multigrain, raw, Rice, parboiled, Rice, puffed, Rice, unpolished, raw, Sago, pearl, Salmon don, Seafood risotto, Semolina, cooked, Semolina, raw, Sliced fish bee hoon with milk, Sliced fish bee hoon, no evaporated milk, Spices of the orient flour, original, Tempura don, assorted, Thai basil beef with rice, Thai basil pork with rice, Vegetarian chicken, Wheat germ, Wheat, bran, unprocessed, Wheat, whole grain, White rice cooked, White rice, raw, Yellow corn grits, dry]</td>\n    </tr>\n    <tr>\n      <th>Pasta and noodles and 'dough wrappers'</th>\n      <td>[Brown rice bee hoon, fried, plain, Brown rice kway teow, cooked, Brown rice laksa noodles, cooked, Brown rice yellow noodles, raw, Cheese prata bomb, Chicken pho, Cooked beehoon, Cooked brown rice beehoon, Crayfish pasta, Creamy chicken pasta, Creamy mushroom pasta, Curry udon with potato &amp; carrot, Dao xiao mian, beef, soup, Dried ee mee, raw, Dry ban mian, Dumpling ban mian, pork, Dumpling skin, raw, Hong Kong noodles, raw, Hoshisoba, boiled, Japanese shio ramen, Japanese shoyu ramen, Kway teow, cooked, Kway teow, raw, Laksa noodles, cooked, Lasagne/Lasagna, Beef, Restaurant Style, Ready-to-eat, Mac and cheese, Macaroni, cooked, unenriched, Macaroni, dried, Meatball pasta, Mee goreng (2018), Mee sua, cooked, Mee sua, raw, Mini boat noodles, beef, Mini boat noodles, pork, Noodle snack, chicken flavoured, dried, Noodles, dried, Noodles, dried, instant, without seasoning, Noodles, egg, cooked, unenriched, Noodles, egg, dry, unenriched, Noodles, instant, chicken abalone, with seasoning, uncooked, Noodles, instant, chicken curry, with seasoning, uncooked, Noodles, instant, chicken tanmen, with seasoning, uncooked, Noodles, instant, dry, with seasoning, cooked, Noodles, instant, shrimp tanmen, with seasoning, uncooked, Noodles, instant, soup with seasoning, cooked, Noodles, laksa, thick, dried, Noodles, laksa, thick, wet, Noodles, rice, Noodles, sago, dried, Pad thai, Pasta, egg, boiled, without salt, Pasta, egg, dried, raw, Pasta, marinara, Pasta, spinach, boiled, without salt, Pasta, spinach, dried, raw, Pasta, white, boiled, Pasta, white, dried, Pasta, wholemeal, boiled, Pasta, wholemeal, dried, Plain Pesto Pasta, Plain aglio aglio, Popiah skin, Pork chop with spaghetti, Prata bomb, with margarine &amp; sugar, Raw bee hoon, Raw spaghetti, Seafood tom yum ban mian, Spaghetti, white, raw, Spaghetti, wholemeal, boiled, Spaghetti, wholemeal, raw, Spaghetti, with added salt, boiled, Spaghetti, without added salt, boiled, Spinach noodles, dried, Suan la mian, Tang hoon, raw, Tanghoon, raw, Tortillas, ready-to-bake or -fry, flour, Udon, wet, Vegetable U-Mian, Vietnamese fresh spring roll, Vietnamese fried spring roll, Wanton skin, raw, Yaki udon with chicken, Yellow noodle, raw, soba, boiled]</td>\n    </tr>\n  </tbody>\n</table>\n</div>"
     },
     "metadata": {}
    }
   ],
   "source": [
    "FoodGroup = 'CEREAL AND CEREAL PRODUCTS'\n",
    "\n",
    "display(pd.DataFrame(dataDesc[dataDesc['FoodGroup'] == FoodGroup].groupby(['FoodSubGroup'])['FoodName'].nunique()))\n",
    "display(pd.DataFrame(dataDesc[dataDesc['FoodGroup'] == FoodGroup].groupby(['FoodSubGroup'])['FoodName'].unique()))"
   ]
  },
  {
   "cell_type": "markdown",
   "metadata": {},
   "source": [
    "<em>\n",
    "    <h5>Biscuits(eg crackers):</h5>\n",
    "    <ul>\n",
    "        <li>Non-vegan:</li>\n",
    "        <ul>\n",
    "            <li>Biscuit, <strong>chocolate</strong></li>                                     \n",
    "            <li>Biscuit, <strong>chocolate</strong> chip</li>\n",
    "            <li>Biscuit, <strong>chocolate</strong> flavour, sandwiched with <strong>cream</strong> filling</li>\n",
    "            <li>Biscuit, <strong>chocolate</strong>-coated</li>\n",
    "            <li>Biscuit, <strong>chocolate</strong>-coated, <strong>cream</strong> filled</li>\n",
    "            <li>Biscuit, finger <strong>cream</strong></li>\n",
    "            <li>Biscuit, <strong>ovaltine</strong></li>\n",
    "            <li>Biscuit, savoury, <strong>cheese</strong>-flavoured</li>\n",
    "            <li>Biscuit, with <strong>cream</strong> filling</li>\n",
    "            <li><strong>Butter</strong> cookies</li>\n",
    "            <li><strong>Chocolate</strong> chip cookie</li>\n",
    "            <li>Cracker, with <strong>cheese</strong> filling</li>\n",
    "            <li>Ice <strong>cream</strong> cones, cake or wafer type</li>\n",
    "            <li>Wafer, <strong>chocolate</strong></li>\n",
    "        </ul>\n",
    "        <li>Vegan:</li>\n",
    "        <ul>\n",
    "            <li>Biscuit, <strong>cream cracker</strong> (old)</li>\n",
    "            <li>Biscuit, sandwiched with <strong>peanut butter</strong> filling</li>\n",
    "            <li>Cookie, <strong>peanut butter</strong> filling, regular</li>\n",
    "            <li><strong>Cream cracker</strong>, plain</li>\n",
    "            <li><strong>Cream cracker</strong>, sugared</li>\n",
    "            <li><strong>Cream cracker</strong>, wholemeal</li>\n",
    "        </ul>\n",
    "    </ul>\n",
    "</em>"
   ]
  },
  {
   "cell_type": "markdown",
   "metadata": {},
   "source": [
    "<h4>Update labels for \"Cereals and cereal products\" -> \"Biscuits(eg crackers)\"</h4>"
   ]
  },
  {
   "cell_type": "code",
   "execution_count": 115,
   "metadata": {
    "scrolled": false
   },
   "outputs": [
    {
     "output_type": "display_data",
     "data": {
      "text/plain": "       Vegan  Vegetarian  Halal  ContainsBeef\nFalse  54    NaN          36     3920.0      \nTrue   3866   3920.0      3884  NaN          ",
      "text/html": "<div>\n<style scoped>\n    .dataframe tbody tr th:only-of-type {\n        vertical-align: middle;\n    }\n\n    .dataframe tbody tr th {\n        vertical-align: top;\n    }\n\n    .dataframe thead th {\n        text-align: right;\n    }\n</style>\n<table border=\"1\" class=\"dataframe\">\n  <thead>\n    <tr style=\"text-align: right;\">\n      <th></th>\n      <th>Vegan</th>\n      <th>Vegetarian</th>\n      <th>Halal</th>\n      <th>ContainsBeef</th>\n    </tr>\n  </thead>\n  <tbody>\n    <tr>\n      <th>False</th>\n      <td>54</td>\n      <td>NaN</td>\n      <td>36</td>\n      <td>3920.0</td>\n    </tr>\n    <tr>\n      <th>True</th>\n      <td>3866</td>\n      <td>3920.0</td>\n      <td>3884</td>\n      <td>NaN</td>\n    </tr>\n  </tbody>\n</table>\n</div>"
     },
     "metadata": {}
    },
    {
     "output_type": "display_data",
     "data": {
      "text/plain": "       Vegan  Vegetarian  Halal  ContainsBeef\nFalse  48    NaN          36     3920.0      \nTrue   3872   3920.0      3884  NaN          ",
      "text/html": "<div>\n<style scoped>\n    .dataframe tbody tr th:only-of-type {\n        vertical-align: middle;\n    }\n\n    .dataframe tbody tr th {\n        vertical-align: top;\n    }\n\n    .dataframe thead th {\n        text-align: right;\n    }\n</style>\n<table border=\"1\" class=\"dataframe\">\n  <thead>\n    <tr style=\"text-align: right;\">\n      <th></th>\n      <th>Vegan</th>\n      <th>Vegetarian</th>\n      <th>Halal</th>\n      <th>ContainsBeef</th>\n    </tr>\n  </thead>\n  <tbody>\n    <tr>\n      <th>False</th>\n      <td>48</td>\n      <td>NaN</td>\n      <td>36</td>\n      <td>3920.0</td>\n    </tr>\n    <tr>\n      <th>True</th>\n      <td>3872</td>\n      <td>3920.0</td>\n      <td>3884</td>\n      <td>NaN</td>\n    </tr>\n  </tbody>\n</table>\n</div>"
     },
     "metadata": {}
    }
   ],
   "source": [
    "FoodSubGroup = 'Biscuits(eg crackers)'\n",
    "\n",
    "# Non-Vegan\n",
    "LabelNames = ['Vegan']\n",
    "Keywords = ['chocolate','cream','ovaltine','cheese','butter']\n",
    "value = False\n",
    "UpdateDataLabels(dataUpdate=data, foodGroups=FoodGroup, foodSubGroups=FoodSubGroup, labelNames=LabelNames, keyWords=Keywords,\\\n",
    "                 value=value)\n",
    "\n",
    "# Vegan\n",
    "Keywords = ['cream cracker','peanut butter']\n",
    "value = True\n",
    "UpdateDataLabels(dataUpdate=data, foodGroups=FoodGroup, foodSubGroups=FoodSubGroup, labelNames=LabelNames, keyWords=Keywords,\\\n",
    "                 value=value)"
   ]
  },
  {
   "cell_type": "markdown",
   "metadata": {},
   "source": [
    "<em>\n",
    "    <h5>Breads and rolls:</h5>\n",
    "    <ul>\n",
    "        <li>Non-vegan:</li>\n",
    "        <ul>\n",
    "            <li><strong>Beef</strong> banh mi</li>\n",
    "            <li>Bread, <strong>chocolate</strong> chip</li>\n",
    "            <li><strong>Butter</strong> roll</li>\n",
    "            <li><strong>Butter</strong> sugar roll</li>\n",
    "            <li><strong>Cheese</strong> and <strong>ham</strong> bun</li>\n",
    "            <li><strong>Chicken</strong> banh mi</li>\n",
    "            <li><strong>Chocolate cream</strong> roll</li>\n",
    "            <li>French toast, made with low fat (2%) <strong>milk</strong></li>\n",
    "            <li>Pizza, <strong>ham</strong> and pineapple, frozen, baked</li>\n",
    "            <li><strong>Pork</strong> banh mi</li>\n",
    "        </ul>\n",
    "        <li>Vegan:</li>\n",
    "        <ul>\n",
    "            <li>Bread, <strong>butterscotch</strong>-flavoured</li>\n",
    "        </ul>\n",
    "        <li>Non-Vegetarian:</li>\n",
    "        <ul>\n",
    "            <li><strong>Beef</strong> banh mi</li>\n",
    "            <li>Cheese and <strong>ham</strong> bun</li>\n",
    "            <li><strong>Chicken</strong> banh mi</li>\n",
    "            <li>Pizza, <strong>ham</strong> and pineapple, frozen, baked</li>\n",
    "            <li><strong>Pork</strong> banh mi</li>\n",
    "        </ul>\n",
    "        <li>Non-Halal:</li>\n",
    "        <ul>\n",
    "            <li><strong>Beef</strong> banh mi</li>\n",
    "            <li>Cheese and <strong>ham</strong> bun</li>\n",
    "            <li><strong>Chicken</strong> banh mi</li>\n",
    "            <li>Pizza, <strong>ham</strong> and pineapple, frozen, baked</li>\n",
    "            <li><strong>Pork</strong> banh mi</li>\n",
    "        </ul>\n",
    "        <li>Contains beef:</li>\n",
    "        <ul>\n",
    "            <li><strong>Beef</strong> banh mi</li>\n",
    "        </ul>\n",
    "    </ul>\n",
    "</em>"
   ]
  },
  {
   "cell_type": "markdown",
   "metadata": {},
   "source": [
    "<h4>Update labels for \"Cereals and cereal products\" -> \"Breads and rolls\"</h4>"
   ]
  },
  {
   "cell_type": "code",
   "execution_count": 116,
   "metadata": {},
   "outputs": [
    {
     "output_type": "display_data",
     "data": {
      "text/plain": "       Vegan  Vegetarian  Halal  ContainsBeef\nFalse  60    NaN          36     3920.0      \nTrue   3860   3920.0      3884  NaN          ",
      "text/html": "<div>\n<style scoped>\n    .dataframe tbody tr th:only-of-type {\n        vertical-align: middle;\n    }\n\n    .dataframe tbody tr th {\n        vertical-align: top;\n    }\n\n    .dataframe thead th {\n        text-align: right;\n    }\n</style>\n<table border=\"1\" class=\"dataframe\">\n  <thead>\n    <tr style=\"text-align: right;\">\n      <th></th>\n      <th>Vegan</th>\n      <th>Vegetarian</th>\n      <th>Halal</th>\n      <th>ContainsBeef</th>\n    </tr>\n  </thead>\n  <tbody>\n    <tr>\n      <th>False</th>\n      <td>60</td>\n      <td>NaN</td>\n      <td>36</td>\n      <td>3920.0</td>\n    </tr>\n    <tr>\n      <th>True</th>\n      <td>3860</td>\n      <td>3920.0</td>\n      <td>3884</td>\n      <td>NaN</td>\n    </tr>\n  </tbody>\n</table>\n</div>"
     },
     "metadata": {}
    },
    {
     "output_type": "display_data",
     "data": {
      "text/plain": "       Vegan  Vegetarian  Halal  ContainsBeef\nFalse  59    NaN          36     3920.0      \nTrue   3861   3920.0      3884  NaN          ",
      "text/html": "<div>\n<style scoped>\n    .dataframe tbody tr th:only-of-type {\n        vertical-align: middle;\n    }\n\n    .dataframe tbody tr th {\n        vertical-align: top;\n    }\n\n    .dataframe thead th {\n        text-align: right;\n    }\n</style>\n<table border=\"1\" class=\"dataframe\">\n  <thead>\n    <tr style=\"text-align: right;\">\n      <th></th>\n      <th>Vegan</th>\n      <th>Vegetarian</th>\n      <th>Halal</th>\n      <th>ContainsBeef</th>\n    </tr>\n  </thead>\n  <tbody>\n    <tr>\n      <th>False</th>\n      <td>59</td>\n      <td>NaN</td>\n      <td>36</td>\n      <td>3920.0</td>\n    </tr>\n    <tr>\n      <th>True</th>\n      <td>3861</td>\n      <td>3920.0</td>\n      <td>3884</td>\n      <td>NaN</td>\n    </tr>\n  </tbody>\n</table>\n</div>"
     },
     "metadata": {}
    },
    {
     "output_type": "display_data",
     "data": {
      "text/plain": "       Vegan  Vegetarian  Halal  ContainsBeef\nFalse  59     5           36     3920.0      \nTrue   3861   3915        3884  NaN          ",
      "text/html": "<div>\n<style scoped>\n    .dataframe tbody tr th:only-of-type {\n        vertical-align: middle;\n    }\n\n    .dataframe tbody tr th {\n        vertical-align: top;\n    }\n\n    .dataframe thead th {\n        text-align: right;\n    }\n</style>\n<table border=\"1\" class=\"dataframe\">\n  <thead>\n    <tr style=\"text-align: right;\">\n      <th></th>\n      <th>Vegan</th>\n      <th>Vegetarian</th>\n      <th>Halal</th>\n      <th>ContainsBeef</th>\n    </tr>\n  </thead>\n  <tbody>\n    <tr>\n      <th>False</th>\n      <td>59</td>\n      <td>5</td>\n      <td>36</td>\n      <td>3920.0</td>\n    </tr>\n    <tr>\n      <th>True</th>\n      <td>3861</td>\n      <td>3915</td>\n      <td>3884</td>\n      <td>NaN</td>\n    </tr>\n  </tbody>\n</table>\n</div>"
     },
     "metadata": {}
    },
    {
     "output_type": "display_data",
     "data": {
      "text/plain": "       Vegan  Vegetarian  Halal  ContainsBeef\nFalse  59     5           41     3920.0      \nTrue   3861   3915        3879  NaN          ",
      "text/html": "<div>\n<style scoped>\n    .dataframe tbody tr th:only-of-type {\n        vertical-align: middle;\n    }\n\n    .dataframe tbody tr th {\n        vertical-align: top;\n    }\n\n    .dataframe thead th {\n        text-align: right;\n    }\n</style>\n<table border=\"1\" class=\"dataframe\">\n  <thead>\n    <tr style=\"text-align: right;\">\n      <th></th>\n      <th>Vegan</th>\n      <th>Vegetarian</th>\n      <th>Halal</th>\n      <th>ContainsBeef</th>\n    </tr>\n  </thead>\n  <tbody>\n    <tr>\n      <th>False</th>\n      <td>59</td>\n      <td>5</td>\n      <td>41</td>\n      <td>3920.0</td>\n    </tr>\n    <tr>\n      <th>True</th>\n      <td>3861</td>\n      <td>3915</td>\n      <td>3879</td>\n      <td>NaN</td>\n    </tr>\n  </tbody>\n</table>\n</div>"
     },
     "metadata": {}
    },
    {
     "output_type": "display_data",
     "data": {
      "text/plain": "       Vegan  Vegetarian  Halal  ContainsBeef\nFalse  59     5           41     3919        \nTrue   3861   3915        3879   1           ",
      "text/html": "<div>\n<style scoped>\n    .dataframe tbody tr th:only-of-type {\n        vertical-align: middle;\n    }\n\n    .dataframe tbody tr th {\n        vertical-align: top;\n    }\n\n    .dataframe thead th {\n        text-align: right;\n    }\n</style>\n<table border=\"1\" class=\"dataframe\">\n  <thead>\n    <tr style=\"text-align: right;\">\n      <th></th>\n      <th>Vegan</th>\n      <th>Vegetarian</th>\n      <th>Halal</th>\n      <th>ContainsBeef</th>\n    </tr>\n  </thead>\n  <tbody>\n    <tr>\n      <th>False</th>\n      <td>59</td>\n      <td>5</td>\n      <td>41</td>\n      <td>3919</td>\n    </tr>\n    <tr>\n      <th>True</th>\n      <td>3861</td>\n      <td>3915</td>\n      <td>3879</td>\n      <td>1</td>\n    </tr>\n  </tbody>\n</table>\n</div>"
     },
     "metadata": {}
    }
   ],
   "source": [
    "FoodSubGroup = 'Breads and rolls'\n",
    "\n",
    "# Non-Vegan\n",
    "LabelNames = ['Vegan']\n",
    "Keywords = ['beef','chocolate','butter','cheese','ham','chicken','milk','pork']\n",
    "value = False\n",
    "UpdateDataLabels(dataUpdate=data, foodGroups=FoodGroup, foodSubGroups=FoodSubGroup, labelNames=LabelNames, keyWords=Keywords,\\\n",
    "                 value=value)\n",
    "\n",
    "# Vegan\n",
    "Keywords = ['butterscotch']\n",
    "value = True\n",
    "UpdateDataLabels(dataUpdate=data, foodGroups=FoodGroup, foodSubGroups=FoodSubGroup, labelNames=LabelNames, keyWords=Keywords,\\\n",
    "                 value=value)\n",
    "\n",
    "# Non-Vegetarian\n",
    "LabelNames = ['Vegetarian']\n",
    "Keywords = ['beef', 'ham', 'chicken', 'pork']\n",
    "value = False\n",
    "UpdateDataLabels(dataUpdate=data, foodGroups=FoodGroup, foodSubGroups=FoodSubGroup, labelNames=LabelNames, keyWords=Keywords,\\\n",
    "                 value=value)\n",
    "\n",
    "# Non-Halal\n",
    "LabelNames = ['Halal']\n",
    "Keywords = ['beef', 'ham', 'chicken', 'pork']\n",
    "value = False\n",
    "UpdateDataLabels(dataUpdate=data, foodGroups=FoodGroup, foodSubGroups=FoodSubGroup, labelNames=LabelNames, keyWords=Keywords,\\\n",
    "                 value=value)\n",
    "\n",
    "# Beef\n",
    "LabelNames = ['ContainsBeef']\n",
    "Keywords = ['beef']\n",
    "value = True\n",
    "UpdateDataLabels(dataUpdate=data, foodGroups=FoodGroup, foodSubGroups=FoodSubGroup, labelNames=LabelNames, keyWords=Keywords,\\\n",
    "                 value=value)"
   ]
  },
  {
   "cell_type": "markdown",
   "metadata": {},
   "source": [
    "<em>\n",
    "    <h5>Breakfast cereals:</h5>\n",
    "    <ul>\n",
    "        <li>Non-vegan:</li>\n",
    "        <ul>\n",
    "            <li><strong>3-in-1</strong> cereal</li>\n",
    "            <li><strong>4 in 1</strong> brown rice cereal</li>\n",
    "            <li>Granola, quaker, oat and <strong>honey</strong></li>\n",
    "            <li><strong>Honey</strong> smacks, kelloggs</li>\n",
    "        </ul>\n",
    "    </ul>\n",
    "</em>"
   ]
  },
  {
   "cell_type": "markdown",
   "metadata": {},
   "source": [
    "<h4>Update labels for \"Cereals and cereal products\" -> \"Breakfast cereals\"</h4>"
   ]
  },
  {
   "cell_type": "code",
   "execution_count": 117,
   "metadata": {},
   "outputs": [
    {
     "output_type": "display_data",
     "data": {
      "text/plain": "       Vegan  Vegetarian  Halal  ContainsBeef\nFalse  63     5           41     3919        \nTrue   3857   3915        3879   1           ",
      "text/html": "<div>\n<style scoped>\n    .dataframe tbody tr th:only-of-type {\n        vertical-align: middle;\n    }\n\n    .dataframe tbody tr th {\n        vertical-align: top;\n    }\n\n    .dataframe thead th {\n        text-align: right;\n    }\n</style>\n<table border=\"1\" class=\"dataframe\">\n  <thead>\n    <tr style=\"text-align: right;\">\n      <th></th>\n      <th>Vegan</th>\n      <th>Vegetarian</th>\n      <th>Halal</th>\n      <th>ContainsBeef</th>\n    </tr>\n  </thead>\n  <tbody>\n    <tr>\n      <th>False</th>\n      <td>63</td>\n      <td>5</td>\n      <td>41</td>\n      <td>3919</td>\n    </tr>\n    <tr>\n      <th>True</th>\n      <td>3857</td>\n      <td>3915</td>\n      <td>3879</td>\n      <td>1</td>\n    </tr>\n  </tbody>\n</table>\n</div>"
     },
     "metadata": {}
    }
   ],
   "source": [
    "FoodSubGroup = 'Breakfast cereals'\n",
    "\n",
    "# Non-Vegan\n",
    "LabelNames = ['Vegan']\n",
    "Keywords = ['[3-4][\\s\\S]in[\\s\\S]1','honey']\n",
    "value = False\n",
    "UpdateDataLabels(dataUpdate=data, foodGroups=FoodGroup, foodSubGroups=FoodSubGroup, labelNames=LabelNames, keyWords=Keywords,\\\n",
    "                 value=value)"
   ]
  },
  {
   "cell_type": "markdown",
   "metadata": {},
   "source": [
    "<em>\n",
    "    <h5>Buns (baked and steamed,plain and with sweet fillings):</h5>\n",
    "    <ul>\n",
    "        <li>Non-vegan:</li>\n",
    "        <ul>\n",
    "            <li>Bun, <strong>chicken</strong> curry</li>\n",
    "            <li>Bun, <strong>custard</strong></li> \n",
    "            <li>Bun, dried <strong>shrimp</strong></li>\n",
    "            <li>Bun, <strong>pork</strong> floss</li>\n",
    "            <li>Bun, <strong>sausage</strong></li>\n",
    "            <li>Bun, <strong>susi</strong></li>\n",
    "            <li>Cake, carrot, with <strong>cream cheese</strong> frosting</li>\n",
    "            <li><strong>Cheese</strong> bun</li> \n",
    "            <li>Pow, <strong>char siew</strong>, steamed</li>\n",
    "            <li>Pow, <strong>pork</strong></li>\n",
    "            <li>Rolls, <strong>hamburger</strong> or <strong>hotdog</strong>, plain</li>\n",
    "        </ul>\n",
    "        <li>Non-Vegetarian:</li>\n",
    "        <ul>\n",
    "            <li>Bun, <strong>chicken</strong> curry</li>\n",
    "            <li>Bun, dried <strong>shrimp</strong></li>\n",
    "            <li>Bun, <strong>pork</strong> floss</li>\n",
    "            <li>Bun, <strong>sausage</strong></li>\n",
    "            <li>Bun, <strong>susi</strong></li>\n",
    "            <li>Pow, <strong>char siew</strong>, steamed</li>\n",
    "            <li>Pow, <strong>pork</strong></li>\n",
    "            <li>Rolls, <strong>hamburger</strong> or <strong>hotdog</strong>, plain</li>\n",
    "        </ul>\n",
    "        <li>Non-Halal:</li>\n",
    "        <ul>\n",
    "            <li>Bun, <strong>chicken</strong> curry</li>\n",
    "            <li>Bun, <strong>pork</strong> floss</li>\n",
    "            <li>Bun, <strong>sausage</strong></li>\n",
    "            <li>Bun, <strong>susi</strong></li>\n",
    "            <li>Pow, <strong>char siew</strong>, steamed</li>\n",
    "            <li>Pow, <strong>pork</strong></li>\n",
    "            <li>Rolls, <strong>hamburger</strong> or <strong>hotdog</strong>, plain</li>\n",
    "        </ul>\n",
    "    </ul>\n",
    "</em>"
   ]
  },
  {
   "cell_type": "code",
   "execution_count": 118,
   "metadata": {},
   "outputs": [
    {
     "output_type": "display_data",
     "data": {
      "text/plain": "       Vegan  Vegetarian  Halal  ContainsBeef\nFalse  75     5           41     3919        \nTrue   3845   3915        3879   1           ",
      "text/html": "<div>\n<style scoped>\n    .dataframe tbody tr th:only-of-type {\n        vertical-align: middle;\n    }\n\n    .dataframe tbody tr th {\n        vertical-align: top;\n    }\n\n    .dataframe thead th {\n        text-align: right;\n    }\n</style>\n<table border=\"1\" class=\"dataframe\">\n  <thead>\n    <tr style=\"text-align: right;\">\n      <th></th>\n      <th>Vegan</th>\n      <th>Vegetarian</th>\n      <th>Halal</th>\n      <th>ContainsBeef</th>\n    </tr>\n  </thead>\n  <tbody>\n    <tr>\n      <th>False</th>\n      <td>75</td>\n      <td>5</td>\n      <td>41</td>\n      <td>3919</td>\n    </tr>\n    <tr>\n      <th>True</th>\n      <td>3845</td>\n      <td>3915</td>\n      <td>3879</td>\n      <td>1</td>\n    </tr>\n  </tbody>\n</table>\n</div>"
     },
     "metadata": {}
    },
    {
     "output_type": "display_data",
     "data": {
      "text/plain": "       Vegan  Vegetarian  Halal  ContainsBeef\nFalse  75     14          41     3919        \nTrue   3845   3906        3879   1           ",
      "text/html": "<div>\n<style scoped>\n    .dataframe tbody tr th:only-of-type {\n        vertical-align: middle;\n    }\n\n    .dataframe tbody tr th {\n        vertical-align: top;\n    }\n\n    .dataframe thead th {\n        text-align: right;\n    }\n</style>\n<table border=\"1\" class=\"dataframe\">\n  <thead>\n    <tr style=\"text-align: right;\">\n      <th></th>\n      <th>Vegan</th>\n      <th>Vegetarian</th>\n      <th>Halal</th>\n      <th>ContainsBeef</th>\n    </tr>\n  </thead>\n  <tbody>\n    <tr>\n      <th>False</th>\n      <td>75</td>\n      <td>14</td>\n      <td>41</td>\n      <td>3919</td>\n    </tr>\n    <tr>\n      <th>True</th>\n      <td>3845</td>\n      <td>3906</td>\n      <td>3879</td>\n      <td>1</td>\n    </tr>\n  </tbody>\n</table>\n</div>"
     },
     "metadata": {}
    },
    {
     "output_type": "display_data",
     "data": {
      "text/plain": "       Vegan  Vegetarian  Halal  ContainsBeef\nFalse  75     14          49     3919        \nTrue   3845   3906        3871   1           ",
      "text/html": "<div>\n<style scoped>\n    .dataframe tbody tr th:only-of-type {\n        vertical-align: middle;\n    }\n\n    .dataframe tbody tr th {\n        vertical-align: top;\n    }\n\n    .dataframe thead th {\n        text-align: right;\n    }\n</style>\n<table border=\"1\" class=\"dataframe\">\n  <thead>\n    <tr style=\"text-align: right;\">\n      <th></th>\n      <th>Vegan</th>\n      <th>Vegetarian</th>\n      <th>Halal</th>\n      <th>ContainsBeef</th>\n    </tr>\n  </thead>\n  <tbody>\n    <tr>\n      <th>False</th>\n      <td>75</td>\n      <td>14</td>\n      <td>49</td>\n      <td>3919</td>\n    </tr>\n    <tr>\n      <th>True</th>\n      <td>3845</td>\n      <td>3906</td>\n      <td>3871</td>\n      <td>1</td>\n    </tr>\n  </tbody>\n</table>\n</div>"
     },
     "metadata": {}
    }
   ],
   "source": [
    "FoodSubGroup = 'Buns (baked and steamed,plain and with sweet fillings)'\n",
    "\n",
    "# Non-Vegan\n",
    "LabelNames = ['Vegan']\n",
    "Keywords = ['chicken','custard','shrimp','pork','sausage','susi','cream','cheese','char siew','hamburger','hotdog']\n",
    "value = False\n",
    "UpdateDataLabels(dataUpdate=data, foodGroups=FoodGroup, foodSubGroups=FoodSubGroup, labelNames=LabelNames, keyWords=Keywords,\\\n",
    "                 value=value)\n",
    "\n",
    "# Non-Vegetarian\n",
    "LabelNames = ['Vegetarian']\n",
    "Keywords = ['chicken','shrimp','pork','sausage','susi','char siew','hamburger','hotdog']\n",
    "value = False\n",
    "UpdateDataLabels(dataUpdate=data, foodGroups=FoodGroup, foodSubGroups=FoodSubGroup, labelNames=LabelNames, keyWords=Keywords,\\\n",
    "                 value=value)\n",
    "\n",
    "# Non-Halal\n",
    "LabelNames = ['Halal']\n",
    "Keywords = ['chicken','pork','sausage','susi','char siew','hamburger','hotdog']\n",
    "value = False\n",
    "UpdateDataLabels(dataUpdate=data, foodGroups=FoodGroup, foodSubGroups=FoodSubGroup, labelNames=LabelNames, keyWords=Keywords,\\\n",
    "                 value=value)"
   ]
  },
  {
   "cell_type": "markdown",
   "metadata": {},
   "source": [
    "<em>\n",
    "    <h5>Cakes and pastries(eg cakes mixes,croissants):</h5>\n",
    "    <ul>\n",
    "        <li>Non-vegan:</li>\n",
    "        <ul>\n",
    "            <li>Cake, <strong>chocolate</strong>, homemade</li>\n",
    "            <li>Cake, sponge, plain, with jam and <strong>cream</strong>, commercial</li>\n",
    "            <li>Castella cake, <strong>cheese</strong>-flavoured</li>\n",
    "            <li><strong>Cheese</strong>cake, baked</li>\n",
    "            <li><strong>Cheese</strong>cake, commercial</li>\n",
    "            <li>Croissant, with <strong>egg</strong>, <strong>cheese</strong> and <strong>ham</strong></li>\n",
    "            <li>Doughnut, <strong>chocolate</strong> coated</li>\n",
    "            <li>Eclair, <strong>chocolate</strong>, commercial </li>\n",
    "            <li><strong>Kimchi</strong> pancake</li>\n",
    "            <li>Quiche, <strong>ham</strong></li>\n",
    "            <li><strong>Sausage</strong> roll, individual size, ready to eat</li>\n",
    "            <li>Tart, <strong>custard</strong>, individual, commercial</li>\n",
    "        </ul>\n",
    "        <li>Non-Vegetarian:</li>\n",
    "        <ul>\n",
    "            <li>Croissant, with egg, cheese and <strong>ham</strong></li>\n",
    "            <li><strong>Kimchi</strong> pancake</li>\n",
    "            <li>Quiche, <strong>ham</strong></li>\n",
    "            <li><strong>Sausage</strong> roll, individual size, ready to eat</li>\n",
    "        </ul>\n",
    "        <li>Non-Halal:</li>\n",
    "        <ul>\n",
    "            <li>Croissant, with egg, cheese and <strong>ham</strong></li>\n",
    "            <li>Quiche, <strong>ham</strong></li>\n",
    "            <li><strong>Sausage</strong> roll, individual size, ready to eat</li>\n",
    "        </ul>\n",
    "    </ul>\n",
    "</em>"
   ]
  },
  {
   "cell_type": "code",
   "execution_count": 119,
   "metadata": {},
   "outputs": [
    {
     "output_type": "display_data",
     "data": {
      "text/plain": "       Vegan  Vegetarian  Halal  ContainsBeef\nFalse  87     14          49     3919        \nTrue   3833   3906        3871   1           ",
      "text/html": "<div>\n<style scoped>\n    .dataframe tbody tr th:only-of-type {\n        vertical-align: middle;\n    }\n\n    .dataframe tbody tr th {\n        vertical-align: top;\n    }\n\n    .dataframe thead th {\n        text-align: right;\n    }\n</style>\n<table border=\"1\" class=\"dataframe\">\n  <thead>\n    <tr style=\"text-align: right;\">\n      <th></th>\n      <th>Vegan</th>\n      <th>Vegetarian</th>\n      <th>Halal</th>\n      <th>ContainsBeef</th>\n    </tr>\n  </thead>\n  <tbody>\n    <tr>\n      <th>False</th>\n      <td>87</td>\n      <td>14</td>\n      <td>49</td>\n      <td>3919</td>\n    </tr>\n    <tr>\n      <th>True</th>\n      <td>3833</td>\n      <td>3906</td>\n      <td>3871</td>\n      <td>1</td>\n    </tr>\n  </tbody>\n</table>\n</div>"
     },
     "metadata": {}
    },
    {
     "output_type": "display_data",
     "data": {
      "text/plain": "       Vegan  Vegetarian  Halal  ContainsBeef\nFalse  87     18          49     3919        \nTrue   3833   3902        3871   1           ",
      "text/html": "<div>\n<style scoped>\n    .dataframe tbody tr th:only-of-type {\n        vertical-align: middle;\n    }\n\n    .dataframe tbody tr th {\n        vertical-align: top;\n    }\n\n    .dataframe thead th {\n        text-align: right;\n    }\n</style>\n<table border=\"1\" class=\"dataframe\">\n  <thead>\n    <tr style=\"text-align: right;\">\n      <th></th>\n      <th>Vegan</th>\n      <th>Vegetarian</th>\n      <th>Halal</th>\n      <th>ContainsBeef</th>\n    </tr>\n  </thead>\n  <tbody>\n    <tr>\n      <th>False</th>\n      <td>87</td>\n      <td>18</td>\n      <td>49</td>\n      <td>3919</td>\n    </tr>\n    <tr>\n      <th>True</th>\n      <td>3833</td>\n      <td>3902</td>\n      <td>3871</td>\n      <td>1</td>\n    </tr>\n  </tbody>\n</table>\n</div>"
     },
     "metadata": {}
    },
    {
     "output_type": "display_data",
     "data": {
      "text/plain": "       Vegan  Vegetarian  Halal  ContainsBeef\nFalse  87     18          52     3919        \nTrue   3833   3902        3868   1           ",
      "text/html": "<div>\n<style scoped>\n    .dataframe tbody tr th:only-of-type {\n        vertical-align: middle;\n    }\n\n    .dataframe tbody tr th {\n        vertical-align: top;\n    }\n\n    .dataframe thead th {\n        text-align: right;\n    }\n</style>\n<table border=\"1\" class=\"dataframe\">\n  <thead>\n    <tr style=\"text-align: right;\">\n      <th></th>\n      <th>Vegan</th>\n      <th>Vegetarian</th>\n      <th>Halal</th>\n      <th>ContainsBeef</th>\n    </tr>\n  </thead>\n  <tbody>\n    <tr>\n      <th>False</th>\n      <td>87</td>\n      <td>18</td>\n      <td>52</td>\n      <td>3919</td>\n    </tr>\n    <tr>\n      <th>True</th>\n      <td>3833</td>\n      <td>3902</td>\n      <td>3868</td>\n      <td>1</td>\n    </tr>\n  </tbody>\n</table>\n</div>"
     },
     "metadata": {}
    }
   ],
   "source": [
    "FoodSubGroup = 'Cakes and pastries(eg cakes mixes,croissants)'\n",
    "\n",
    "# Non-Vegan\n",
    "LabelNames = ['Vegan']\n",
    "Keywords = ['chocolate','cream','cheese','egg','ham','kimchi','sausage','custard']\n",
    "value = False\n",
    "UpdateDataLabels(dataUpdate=data, foodGroups=FoodGroup, foodSubGroups=FoodSubGroup, labelNames=LabelNames, keyWords=Keywords,\\\n",
    "                 value=value)\n",
    "\n",
    "# Non-Vegetarian\n",
    "LabelNames = ['Vegetarian']\n",
    "Keywords = ['ham','kimchi','sausage']\n",
    "value = False\n",
    "UpdateDataLabels(dataUpdate=data, foodGroups=FoodGroup, foodSubGroups=FoodSubGroup, labelNames=LabelNames, keyWords=Keywords,\\\n",
    "                 value=value)\n",
    "\n",
    "# Non-Halal\n",
    "LabelNames = ['Halal']\n",
    "Keywords = ['ham','sausage']\n",
    "value = False\n",
    "UpdateDataLabels(dataUpdate=data, foodGroups=FoodGroup, foodSubGroups=FoodSubGroup, labelNames=LabelNames, keyWords=Keywords,\\\n",
    "                 value=value)"
   ]
  },
  {
   "cell_type": "code",
   "execution_count": 120,
   "metadata": {},
   "outputs": [
    {
     "output_type": "display_data",
     "data": {
      "text/plain": "155     Barley, pearl, raw        \n209     Beef pho                  \n475     Brown rice cooked         \n478     Brown rice porridge, plain\n486     Bulgar, cooked            \n             ...                  \n3601    Wheat, bran, unprocessed  \n3602    Wheat, whole grain        \n3613    White rice cooked         \n3614    White rice, raw           \n3652    Yellow corn grits, dry    \nName: FoodName, Length: 86, dtype: object"
     },
     "metadata": {}
    }
   ],
   "source": [
    "display(dataDesc[(dataDesc['FoodGroup'] == 'CEREAL AND CEREAL PRODUCTS') & (dataDesc['FoodSubGroup'] == 'Grains and flours')]['FoodName'])"
   ]
  },
  {
   "cell_type": "code",
   "execution_count": 121,
   "metadata": {},
   "outputs": [
    {
     "output_type": "display_data",
     "data": {
      "text/plain": "array(['BEVERAGES', 'CEREAL AND CEREAL PRODUCTS',\n       'MIXED ETHNIC DISHES, ANALYZED IN SINGAPORE',\n       'HEALTHIER CHOICE SYMBOL (HCS) PRODUCTS', 'FAST FOODS',\n       'FISH AND FISH PRODUCTS', 'OTHER MIXED ETHNIC DISHES',\n       'SUGARS, SWEETS AND CONFECTIONERY', 'MISCELLANEOUS',\n       'VEGETABLE AND VEGETABLE PRODUCTS', 'FRUIT AND FRUIT PRODUCTS',\n       'MEAT AND MEAT PRODUCTS', 'NUTS AND SEEDS, PULSES AND PRODUCTS',\n       'OILS AND FATS', 'MILK AND MILK PRODUCTS', 'EGG AND EGG PRODUCTS',\n       'BREAKFAST FOODS', 'MAIN DISH'], dtype=object)"
     },
     "metadata": {}
    }
   ],
   "source": [
    "display(dataDesc['FoodGroup'].unique())"
   ]
  },
  {
   "cell_type": "code",
   "execution_count": 122,
   "metadata": {},
   "outputs": [
    {
     "output_type": "display_data",
     "data": {
      "text/plain": "                                            FoodName\nFoodSubGroup                                        \nNuts and products                           37      \nPulses and products (eg beancurds, tempeh)  35      \nSeeds and products                          13      ",
      "text/html": "<div>\n<style scoped>\n    .dataframe tbody tr th:only-of-type {\n        vertical-align: middle;\n    }\n\n    .dataframe tbody tr th {\n        vertical-align: top;\n    }\n\n    .dataframe thead th {\n        text-align: right;\n    }\n</style>\n<table border=\"1\" class=\"dataframe\">\n  <thead>\n    <tr style=\"text-align: right;\">\n      <th></th>\n      <th>FoodName</th>\n    </tr>\n    <tr>\n      <th>FoodSubGroup</th>\n      <th></th>\n    </tr>\n  </thead>\n  <tbody>\n    <tr>\n      <th>Nuts and products</th>\n      <td>37</td>\n    </tr>\n    <tr>\n      <th>Pulses and products (eg beancurds, tempeh)</th>\n      <td>35</td>\n    </tr>\n    <tr>\n      <th>Seeds and products</th>\n      <td>13</td>\n    </tr>\n  </tbody>\n</table>\n</div>"
     },
     "metadata": {}
    }
   ],
   "source": [
    "display(pd.DataFrame(dataDesc[dataDesc['FoodGroup'] == 'NUTS AND SEEDS, PULSES AND PRODUCTS'].\\\n",
    "                     groupby(['FoodSubGroup'])['FoodName'].nunique()))"
   ]
  },
  {
   "cell_type": "code",
   "execution_count": 123,
   "metadata": {},
   "outputs": [
    {
     "output_type": "display_data",
     "data": {
      "text/plain": "       Vegan  Vegetarian  Halal  ContainsBeef\nFalse  763    18          52     3919        \nTrue   3157   3902        3868   1           ",
      "text/html": "<div>\n<style scoped>\n    .dataframe tbody tr th:only-of-type {\n        vertical-align: middle;\n    }\n\n    .dataframe tbody tr th {\n        vertical-align: top;\n    }\n\n    .dataframe thead th {\n        text-align: right;\n    }\n</style>\n<table border=\"1\" class=\"dataframe\">\n  <thead>\n    <tr style=\"text-align: right;\">\n      <th></th>\n      <th>Vegan</th>\n      <th>Vegetarian</th>\n      <th>Halal</th>\n      <th>ContainsBeef</th>\n    </tr>\n  </thead>\n  <tbody>\n    <tr>\n      <th>False</th>\n      <td>763</td>\n      <td>18</td>\n      <td>52</td>\n      <td>3919</td>\n    </tr>\n    <tr>\n      <th>True</th>\n      <td>3157</td>\n      <td>3902</td>\n      <td>3868</td>\n      <td>1</td>\n    </tr>\n  </tbody>\n</table>\n</div>"
     },
     "metadata": {}
    },
    {
     "output_type": "display_data",
     "data": {
      "text/plain": "       Vegan  Vegetarian  Halal  ContainsBeef\nFalse  763    577         52     3919        \nTrue   3157   3343        3868   1           ",
      "text/html": "<div>\n<style scoped>\n    .dataframe tbody tr th:only-of-type {\n        vertical-align: middle;\n    }\n\n    .dataframe tbody tr th {\n        vertical-align: top;\n    }\n\n    .dataframe thead th {\n        text-align: right;\n    }\n</style>\n<table border=\"1\" class=\"dataframe\">\n  <thead>\n    <tr style=\"text-align: right;\">\n      <th></th>\n      <th>Vegan</th>\n      <th>Vegetarian</th>\n      <th>Halal</th>\n      <th>ContainsBeef</th>\n    </tr>\n  </thead>\n  <tbody>\n    <tr>\n      <th>False</th>\n      <td>763</td>\n      <td>577</td>\n      <td>52</td>\n      <td>3919</td>\n    </tr>\n    <tr>\n      <th>True</th>\n      <td>3157</td>\n      <td>3343</td>\n      <td>3868</td>\n      <td>1</td>\n    </tr>\n  </tbody>\n</table>\n</div>"
     },
     "metadata": {}
    },
    {
     "output_type": "display_data",
     "data": {
      "text/plain": "       Vegan  Vegetarian  Halal  ContainsBeef\nFalse  763    577         407    3919        \nTrue   3157   3343        3513   1           ",
      "text/html": "<div>\n<style scoped>\n    .dataframe tbody tr th:only-of-type {\n        vertical-align: middle;\n    }\n\n    .dataframe tbody tr th {\n        vertical-align: top;\n    }\n\n    .dataframe thead th {\n        text-align: right;\n    }\n</style>\n<table border=\"1\" class=\"dataframe\">\n  <thead>\n    <tr style=\"text-align: right;\">\n      <th></th>\n      <th>Vegan</th>\n      <th>Vegetarian</th>\n      <th>Halal</th>\n      <th>ContainsBeef</th>\n    </tr>\n  </thead>\n  <tbody>\n    <tr>\n      <th>False</th>\n      <td>763</td>\n      <td>577</td>\n      <td>407</td>\n      <td>3919</td>\n    </tr>\n    <tr>\n      <th>True</th>\n      <td>3157</td>\n      <td>3343</td>\n      <td>3513</td>\n      <td>1</td>\n    </tr>\n  </tbody>\n</table>\n</div>"
     },
     "metadata": {}
    }
   ],
   "source": [
    "# Non-Vegan\n",
    "FoodGroups_NonVegan=['FISH AND FISH PRODUCTS','MEAT AND MEAT PRODUCTS','MILK AND MILK PRODUCTS','EGG AND EGG PRODUCTS']\n",
    "FoodGroups_Vegan=['VEGETABLE AND VEGETABLE PRODUCTS', 'FRUIT AND FRUIT PRODUCTS', 'NUTS AND SEEDS, PULSES AND PRODUCTS']\n",
    "data.loc[data['FoodGroup'].isin(FoodGroups_NonVegan), 'Vegan'] = False;\n",
    "display(data.select_dtypes(include='bool').apply(pd.value_counts))\n",
    "\n",
    "# Non-Vegetarian\n",
    "FoodGroups_NonVegetarian=['FISH AND FISH PRODUCTS', 'MEAT AND MEAT PRODUCTS']\n",
    "FoodGroups_Vegetarian=['SUGARS, SWEETS AND CONFECTIONERY', 'VEGETABLE AND VEGETABLE PRODUCTS', 'FRUIT AND FRUIT PRODUCTS',\n",
    "                       'NUTS AND SEEDS, PULSES AND PRODUCTS', 'MILK AND MILK PRODUCTS', 'EGG AND EGG PRODUCTS']\n",
    "data.loc[data['FoodGroup'].isin(FoodGroups_NonVegetarian), 'Vegetarian'] = False;\n",
    "display(data.select_dtypes(include='bool').apply(pd.value_counts))\n",
    "\n",
    "# Non-Halal\n",
    "FoodGroups_NonHalal=['MEAT AND MEAT PRODUCTS']\n",
    "FoodGroups_Halal=['FISH AND FISH PRODUCTS', 'SUGARS, SWEETS AND CONFECTIONERY', 'VEGETABLE AND VEGETABLE PRODUCTS',\n",
    "                  'FRUIT AND FRUIT PRODUCTS', 'NUTS AND SEEDS, PULSES AND PRODUCTS', 'MILK AND MILK PRODUCTS',\n",
    "                  'EGG AND EGG PRODUCTS']\n",
    "data.loc[data['FoodGroup'].isin(FoodGroups_NonHalal), 'Halal'] = False;\n",
    "display(data.select_dtypes(include='bool').apply(pd.value_counts))"
   ]
  },
  {
   "cell_type": "code",
   "execution_count": 124,
   "metadata": {},
   "outputs": [
    {
     "output_type": "display_data",
     "data": {
      "text/plain": "array(['Non-alcoholic beverages', 'Breakfast cereals', 'Beverages',\n       'Beverages and sweetened drinks', 'Others',\n       'All fast food outlets in alphabetical order',\n       'Cereal based dishes', 'Shellfish and roe (eg all bivalves)',\n       'Others (squids, algae, plankton etc)',\n       'Fish and seafood based dishes',\n       'Local cakes, desserts and snacks', 'Desserts (puddings, mousses)',\n       'Vegetable based dishes', 'Pulses based dishes',\n       'Stock cubes / flavourings, essence, yeast extracts,etc',\n       'Alcoholic beverages', 'Herbs, spices, condiments',\n       'Vegetables, non-leafy (eg sweetcorn, beansprouts)',\n       'Sauces, gravies (manufactured)', 'Fish and roe',\n       'Fruit and fruit products', 'Fresh fruits',\n       'Processed fruits (canned, pickled, juices etc)',\n       'Vegetables,leafy', 'Sauces, gravies and dressings',\n       'Meat based dishes', 'Pork', 'Breads and rolls',\n       'Baking / leavening agents',\n       'Starchy roots,tubers,corms and stems', 'Grains and flours',\n       'Pulses and products (eg beancurds, tempeh)',\n       'Legumes (eg fresh beans,peas in pods)', 'Beef and veal',\n       'Egg based dishes', 'Cereal & cereal products',\n       'Crustaceans (eg crabs, lobsters, crayfish)',\n       'Biscuits(eg crackers)', 'Confectionery (eg chocolates)',\n       'Seeds and products',\n       'Poultry (chicken, duck, turkey, pigeon etc)',\n       \"Pasta and noodles and 'dough wrappers'\",\n       'Buns (baked and steamed,plain and with sweet fillings)',\n       'Animal fat (incl butter, ghee, lard, drippings, tallow etc)',\n       'Milks', 'Salad dressings',\n       'Cakes and pastries(eg cakes mixes,croissants)',\n       'Duck eggs (eg salted, century)', 'Dairy products', 'Cheeses',\n       'Nuts and products', 'Ice creams', 'Sauces and recipe mixes',\n       'Sugars, syrups', 'Soups (manufactured)', 'Cream',\n       'Non dairy creamer, whiteners',\n       'Others (frog, venison, turtle etc)', 'Mutton and lamb',\n       'Others (eg turtle eggs, egg substitutes)', 'Hen eggs',\n       'Eggs & egg products', 'Quail eggs',\n       'Yoghurts (yogurt drinks under 1102)',\n       'Savory spreads/dips (salsa, promite)', 'Goat and kid',\n       \"Convenience meals or 'meal-type' products\",\n       'Jams, jellies, preserves', 'Fruit & fruit products',\n       'Fats & oils', 'Soft margarine', 'Hard margarine', 'Seed oils',\n       'Game (eg ostrich, emu, buffalo)', 'Seafood & seafood products',\n       'Legumes, nuts and seeds & their products', 'Breakfast foods',\n       'Main dish with meat'], dtype=object)"
     },
     "metadata": {}
    }
   ],
   "source": [
    "display(dataDesc['FoodSubGroup'].unique())"
   ]
  },
  {
   "cell_type": "code",
   "execution_count": 125,
   "metadata": {},
   "outputs": [
    {
     "output_type": "display_data",
     "data": {
      "text/plain": "       Vegan  Vegetarian  Halal  ContainsBeef\nFalse  1306   577         407    3919        \nTrue   2614   3343        3513   1           ",
      "text/html": "<div>\n<style scoped>\n    .dataframe tbody tr th:only-of-type {\n        vertical-align: middle;\n    }\n\n    .dataframe tbody tr th {\n        vertical-align: top;\n    }\n\n    .dataframe thead th {\n        text-align: right;\n    }\n</style>\n<table border=\"1\" class=\"dataframe\">\n  <thead>\n    <tr style=\"text-align: right;\">\n      <th></th>\n      <th>Vegan</th>\n      <th>Vegetarian</th>\n      <th>Halal</th>\n      <th>ContainsBeef</th>\n    </tr>\n  </thead>\n  <tbody>\n    <tr>\n      <th>False</th>\n      <td>1306</td>\n      <td>577</td>\n      <td>407</td>\n      <td>3919</td>\n    </tr>\n    <tr>\n      <th>True</th>\n      <td>2614</td>\n      <td>3343</td>\n      <td>3513</td>\n      <td>1</td>\n    </tr>\n  </tbody>\n</table>\n</div>"
     },
     "metadata": {}
    },
    {
     "output_type": "display_data",
     "data": {
      "text/plain": "       Vegan  Vegetarian  Halal  ContainsBeef\nFalse  1306   1094        407    3919        \nTrue   2614   2826        3513   1           ",
      "text/html": "<div>\n<style scoped>\n    .dataframe tbody tr th:only-of-type {\n        vertical-align: middle;\n    }\n\n    .dataframe tbody tr th {\n        vertical-align: top;\n    }\n\n    .dataframe thead th {\n        text-align: right;\n    }\n</style>\n<table border=\"1\" class=\"dataframe\">\n  <thead>\n    <tr style=\"text-align: right;\">\n      <th></th>\n      <th>Vegan</th>\n      <th>Vegetarian</th>\n      <th>Halal</th>\n      <th>ContainsBeef</th>\n    </tr>\n  </thead>\n  <tbody>\n    <tr>\n      <th>False</th>\n      <td>1306</td>\n      <td>1094</td>\n      <td>407</td>\n      <td>3919</td>\n    </tr>\n    <tr>\n      <th>True</th>\n      <td>2614</td>\n      <td>2826</td>\n      <td>3513</td>\n      <td>1</td>\n    </tr>\n  </tbody>\n</table>\n</div>"
     },
     "metadata": {}
    },
    {
     "output_type": "display_data",
     "data": {
      "text/plain": "       Vegan  Vegetarian  Halal  ContainsBeef\nFalse  1306   1094        671    3919        \nTrue   2614   2826        3249   1           ",
      "text/html": "<div>\n<style scoped>\n    .dataframe tbody tr th:only-of-type {\n        vertical-align: middle;\n    }\n\n    .dataframe tbody tr th {\n        vertical-align: top;\n    }\n\n    .dataframe thead th {\n        text-align: right;\n    }\n</style>\n<table border=\"1\" class=\"dataframe\">\n  <thead>\n    <tr style=\"text-align: right;\">\n      <th></th>\n      <th>Vegan</th>\n      <th>Vegetarian</th>\n      <th>Halal</th>\n      <th>ContainsBeef</th>\n    </tr>\n  </thead>\n  <tbody>\n    <tr>\n      <th>False</th>\n      <td>1306</td>\n      <td>1094</td>\n      <td>671</td>\n      <td>3919</td>\n    </tr>\n    <tr>\n      <th>True</th>\n      <td>2614</td>\n      <td>2826</td>\n      <td>3249</td>\n      <td>1</td>\n    </tr>\n  </tbody>\n</table>\n</div>"
     },
     "metadata": {}
    }
   ],
   "source": [
    "# Non-Vegan\n",
    "FoodSubGroups_NonVegan=['Shellfish and roe (eg all bivalves)', 'Others (squids, algae, plankton etc)',\n",
    "                        'Fish and seafood based dishes', 'Fish and roe', 'Meat based dishes', 'Pork', 'Beef and veal',\n",
    "                        'Egg based dishes', 'Crustaceans (eg crabs, lobsters, crayfish)',\n",
    "                        'Poultry (chicken, duck, turkey, pigeon etc)',\n",
    "                        'Animal fat (incl butter, ghee, lard, drippings, tallow etc)',\n",
    "                        'Milks', 'Duck eggs (eg salted, century)', 'Dairy products', 'Cheeses', 'Ice creams', 'Cream',\n",
    "                        'Others (frog, venison, turtle etc)', 'Mutton and lamb', 'Others (eg turtle eggs, egg substitutes)',\n",
    "                        'Hen eggs', 'Eggs & egg products', 'Quail eggs', 'Goat and kid', 'Game (eg ostrich, emu, buffalo)',\n",
    "                        'Seafood & seafood products','Main dish with meat']\n",
    "data.loc[(~data['FoodGroup'].isin(FoodGroups_NonVegan)) & (data['FoodSubGroup'].isin(FoodSubGroups_NonVegan)), 'Vegan'] = False;\n",
    "display(data.select_dtypes(include='bool').apply(pd.value_counts))\n",
    "\n",
    "# Non-Vegetarian\n",
    "FoodSubGroups_NonVegetarian=['Shellfish and roe (eg all bivalves)', 'Others (squids, algae, plankton etc)',\n",
    "                             'Fish and seafood based dishes', 'Fish and roe', 'Meat based dishes', 'Pork', 'Beef and veal',\n",
    "                             'Crustaceans (eg crabs, lobsters, crayfish)', 'Poultry (chicken, duck, turkey, pigeon etc)',\n",
    "                             'Animal fat (incl butter, ghee, lard, drippings, tallow etc)', 'Duck eggs (eg salted, century)',\n",
    "                             'Others (frog, venison, turtle etc)', 'Mutton and lamb', 'Goat and kid',\n",
    "                             'Game (eg ostrich, emu, buffalo)', 'Seafood & seafood products','Main dish with meat']\n",
    "data.loc[(~data['FoodGroup'].isin(FoodGroups_NonVegetarian)) & (data['FoodSubGroup'].isin(FoodSubGroups_NonVegetarian)),\n",
    "         'Vegetarian'] = False;\n",
    "display(data.select_dtypes(include='bool').apply(pd.value_counts))\n",
    "\n",
    "# Non-Halal\n",
    "FoodSubGroups_NonHalal=['Alcoholic beverages', 'Meat based dishes', 'Pork', 'Beef and veal',\n",
    "                        'Poultry (chicken, duck, turkey, pigeon etc)',\n",
    "                        'Animal fat (incl butter, ghee, lard, drippings, tallow etc)', 'Duck eggs (eg salted, century)',\n",
    "                        'Others (frog, venison, turtle etc)', 'Mutton and lamb', 'Goat and kid',\n",
    "                        'Game (eg ostrich, emu, buffalo)']\n",
    "data.loc[(~data['FoodGroup'].isin(FoodGroups_NonHalal)) & (data['FoodSubGroup'].isin(FoodSubGroups_NonHalal)), 'Halal'] = False;\n",
    "display(data.select_dtypes(include='bool').apply(pd.value_counts))"
   ]
  },
  {
   "cell_type": "code",
   "execution_count": 126,
   "metadata": {},
   "outputs": [
    {
     "output_type": "display_data",
     "data": {
      "text/plain": "3920"
     },
     "metadata": {}
    },
    {
     "output_type": "display_data",
     "data": {
      "text/plain": "array(['2-in-1 coffee powder, with creamer',\n       '2-in-1 coffee powder, with sugar',\n       '3 in 1 ready to drink coffee instant', ...,\n       'Spinach Stuffed Chicken',\n       'Cottage Cheese and Black Bean Tuna Salad', 'Baked Chicken Breast'],\n      dtype=object)"
     },
     "metadata": {}
    }
   ],
   "source": [
    "display(dataDesc['FoodName'].nunique())\n",
    "display(dataDesc['FoodName'].unique())"
   ]
  },
  {
   "cell_type": "code",
   "execution_count": 127,
   "metadata": {},
   "outputs": [
    {
     "output_type": "error",
     "ename": "ModuleNotFoundError",
     "evalue": "No module named 'nltk'",
     "traceback": [
      "\u001b[1;31m---------------------------------------------------------------------------\u001b[0m",
      "\u001b[1;31mModuleNotFoundError\u001b[0m                       Traceback (most recent call last)",
      "\u001b[1;32m<ipython-input-127-a76a73a06f5b>\u001b[0m in \u001b[0;36m<module>\u001b[1;34m\u001b[0m\n\u001b[1;32m----> 1\u001b[1;33m \u001b[1;32mimport\u001b[0m \u001b[0mnltk\u001b[0m\u001b[1;33m\u001b[0m\u001b[1;33m\u001b[0m\u001b[0m\n\u001b[0m\u001b[0;32m      2\u001b[0m \u001b[0mnltk\u001b[0m\u001b[1;33m.\u001b[0m\u001b[0mdownload\u001b[0m\u001b[1;33m(\u001b[0m\u001b[1;34m'stopwords'\u001b[0m\u001b[1;33m)\u001b[0m\u001b[1;33m\u001b[0m\u001b[1;33m\u001b[0m\u001b[0m\n\u001b[0;32m      3\u001b[0m \u001b[0mnltk\u001b[0m\u001b[1;33m.\u001b[0m\u001b[0mdownload\u001b[0m\u001b[1;33m(\u001b[0m\u001b[1;34m'words'\u001b[0m\u001b[1;33m)\u001b[0m\u001b[1;33m\u001b[0m\u001b[1;33m\u001b[0m\u001b[0m\n\u001b[0;32m      4\u001b[0m \u001b[1;32mfrom\u001b[0m \u001b[0mnltk\u001b[0m\u001b[1;33m.\u001b[0m\u001b[0mcorpus\u001b[0m \u001b[1;32mimport\u001b[0m \u001b[0mstopwords\u001b[0m\u001b[1;33m,\u001b[0m \u001b[0mwords\u001b[0m\u001b[1;33m\u001b[0m\u001b[1;33m\u001b[0m\u001b[0m\n\u001b[0;32m      5\u001b[0m \u001b[0mdisplay\u001b[0m\u001b[1;33m(\u001b[0m\u001b[0mstopwords\u001b[0m\u001b[1;33m.\u001b[0m\u001b[0mwords\u001b[0m\u001b[1;33m(\u001b[0m\u001b[1;33m)\u001b[0m\u001b[1;33m)\u001b[0m\u001b[1;33m\u001b[0m\u001b[1;33m\u001b[0m\u001b[0m\n",
      "\u001b[1;31mModuleNotFoundError\u001b[0m: No module named 'nltk'"
     ]
    }
   ],
   "source": [
    "import nltk\n",
    "nltk.download('stopwords')\n",
    "nltk.download('words')\n",
    "from nltk.corpus import stopwords, words\n",
    "display(stopwords.words())\n",
    "display(words.words())"
   ]
  },
  {
   "cell_type": "code",
   "execution_count": 128,
   "metadata": {},
   "outputs": [
    {
     "output_type": "stream",
     "name": "stdout",
     "text": "Food Words ->\ncount    1523.000000\nmean     6.350624   \nstd      50.884972  \nmin      1.000000   \n25%      1.000000   \n50%      2.000000   \n75%      4.000000   \nmax      1934.000000\ndtype: float64\n"
    },
    {
     "output_type": "error",
     "ename": "NameError",
     "evalue": "name 'stopwords' is not defined",
     "traceback": [
      "\u001b[1;31m---------------------------------------------------------------------------\u001b[0m",
      "\u001b[1;31mNameError\u001b[0m                                 Traceback (most recent call last)",
      "\u001b[1;32m<ipython-input-128-63093c74e8e5>\u001b[0m in \u001b[0;36m<module>\u001b[1;34m\u001b[0m\n\u001b[0;32m      5\u001b[0m \u001b[0mfoodWords\u001b[0m\u001b[1;33m=\u001b[0m\u001b[0mdata\u001b[0m\u001b[1;33m.\u001b[0m\u001b[0mloc\u001b[0m\u001b[1;33m[\u001b[0m\u001b[0mcriteria\u001b[0m\u001b[1;33m,\u001b[0m \u001b[1;34m'FoodName'\u001b[0m\u001b[1;33m]\u001b[0m\u001b[1;33m.\u001b[0m\u001b[0mstr\u001b[0m\u001b[1;33m.\u001b[0m\u001b[0mlower\u001b[0m\u001b[1;33m(\u001b[0m\u001b[1;33m)\u001b[0m\u001b[1;33m.\u001b[0m\u001b[0mstr\u001b[0m\u001b[1;33m.\u001b[0m\u001b[0msplit\u001b[0m\u001b[1;33m(\u001b[0m\u001b[0mpat\u001b[0m\u001b[1;33m=\u001b[0m\u001b[1;34m'[^a-zA-Z\\d]'\u001b[0m\u001b[1;33m,\u001b[0m \u001b[0mexpand\u001b[0m\u001b[1;33m=\u001b[0m\u001b[1;32mTrue\u001b[0m\u001b[1;33m)\u001b[0m\u001b[1;33m.\u001b[0m\u001b[0mstack\u001b[0m\u001b[1;33m(\u001b[0m\u001b[1;33m)\u001b[0m\u001b[1;33m.\u001b[0m\u001b[0mvalue_counts\u001b[0m\u001b[1;33m(\u001b[0m\u001b[1;33m)\u001b[0m\u001b[1;33m\u001b[0m\u001b[1;33m\u001b[0m\u001b[0m\n\u001b[0;32m      6\u001b[0m \u001b[0mprint\u001b[0m\u001b[1;33m(\u001b[0m\u001b[1;34mf'Food Words ->\\n{foodWords.describe()}'\u001b[0m\u001b[1;33m)\u001b[0m\u001b[1;33m\u001b[0m\u001b[1;33m\u001b[0m\u001b[0m\n\u001b[1;32m----> 7\u001b[1;33m \u001b[0mfoodWords\u001b[0m \u001b[1;33m=\u001b[0m \u001b[0mfoodWords\u001b[0m\u001b[1;33m.\u001b[0m\u001b[0mloc\u001b[0m\u001b[1;33m[\u001b[0m\u001b[1;33m(\u001b[0m\u001b[1;33m~\u001b[0m\u001b[0mfoodWords\u001b[0m\u001b[1;33m.\u001b[0m\u001b[0mindex\u001b[0m\u001b[1;33m.\u001b[0m\u001b[0misin\u001b[0m\u001b[1;33m(\u001b[0m\u001b[0mstopwords\u001b[0m\u001b[1;33m.\u001b[0m\u001b[0mwords\u001b[0m\u001b[1;33m(\u001b[0m\u001b[1;33m)\u001b[0m\u001b[1;33m)\u001b[0m\u001b[1;33m)\u001b[0m \u001b[1;33m&\u001b[0m \u001b[1;33m(\u001b[0m\u001b[0mfoodWords\u001b[0m\u001b[1;33m.\u001b[0m\u001b[0mindex\u001b[0m \u001b[1;33m!=\u001b[0m \u001b[1;34m''\u001b[0m\u001b[1;33m)\u001b[0m\u001b[1;33m]\u001b[0m\u001b[1;33m\u001b[0m\u001b[1;33m\u001b[0m\u001b[0m\n\u001b[0m\u001b[0;32m      8\u001b[0m \u001b[0mprint\u001b[0m\u001b[1;33m(\u001b[0m\u001b[1;34mf'\\nFood Words no stop words ->\\n{foodWords.describe()}'\u001b[0m\u001b[1;33m)\u001b[0m\u001b[1;33m\u001b[0m\u001b[1;33m\u001b[0m\u001b[0m\n",
      "\u001b[1;31mNameError\u001b[0m: name 'stopwords' is not defined"
     ]
    }
   ],
   "source": [
    "criteria = (~data['FoodGroup'].isin(FoodGroups_NonVegan+['BEVERAGES'])) &\\\n",
    "            (~data['FoodGroup'].isin(FoodGroups_Vegan)) &\\\n",
    "            (~data['FoodSubGroup'].isin(FoodSubGroups_NonVegan))\n",
    "#display(data.loc[criteria, 'FoodSubGroup'].value_counts())\n",
    "foodWords=data.loc[criteria, 'FoodName'].str.lower().str.split(pat='[^a-zA-Z\\d]', expand=True).stack().value_counts()\n",
    "print(f'Food Words ->\\n{foodWords.describe()}')\n",
    "foodWords = foodWords.loc[(~foodWords.index.isin(stopwords.words())) & (foodWords.index != '')]\n",
    "print(f'\\nFood Words no stop words ->\\n{foodWords.describe()}')"
   ]
  },
  {
   "cell_type": "code",
   "execution_count": 129,
   "metadata": {
    "scrolled": true
   },
   "outputs": [
    {
     "output_type": "display_data",
     "data": {
      "text/plain": "['zinger', 'zha', 'zazzle', 'zucchini']"
     },
     "metadata": {}
    }
   ],
   "source": [
    "display(list(foodWords[foodWords.index.str.startswith('z')].index))"
   ]
  },
  {
   "cell_type": "markdown",
   "metadata": {},
   "source": [
    "<h5>Use this cell to get full name</h5>"
   ]
  },
  {
   "cell_type": "code",
   "execution_count": 130,
   "metadata": {
    "scrolled": false
   },
   "outputs": [
    {
     "output_type": "execute_result",
     "data": {
      "text/plain": "                               FoodName   FoodGroup  \\\n1026  Curry Zazzle Baked Rice, Pizzahut  FAST FOODS   \n\n                                     FoodSubGroup PerServingHouseholdMeasure  \\\n1026  All fast food outlets in alphabetical order  Whole (340g)                \n\n      CarbohydrateAmount_g  CholesterolAmount_mg  DietaryFibreAmount_g  \\\n1026  68.99                 27.2                  6.09                   \n\n      EnergyAmount_kcal  GlycemicIndexAmount  ProteinAmount_g  SugarAmount_g  \\\n1026  564.4             NaN                   20.4             6.8             \n\n      MonounsaturatedFatAmount_g  PolyunsaturatedFatAmount_g  \\\n1026 NaN                         NaN                           \n\n      SaturatedFatAmount_g  TotalFatAmount_g  Vegan  Vegetarian  Halal  \\\n1026  10.2                  23.09             True   True        True    \n\n      ContainsBeef  \n1026  False         ",
      "text/html": "<div>\n<style scoped>\n    .dataframe tbody tr th:only-of-type {\n        vertical-align: middle;\n    }\n\n    .dataframe tbody tr th {\n        vertical-align: top;\n    }\n\n    .dataframe thead th {\n        text-align: right;\n    }\n</style>\n<table border=\"1\" class=\"dataframe\">\n  <thead>\n    <tr style=\"text-align: right;\">\n      <th></th>\n      <th>FoodName</th>\n      <th>FoodGroup</th>\n      <th>FoodSubGroup</th>\n      <th>PerServingHouseholdMeasure</th>\n      <th>CarbohydrateAmount_g</th>\n      <th>CholesterolAmount_mg</th>\n      <th>DietaryFibreAmount_g</th>\n      <th>EnergyAmount_kcal</th>\n      <th>GlycemicIndexAmount</th>\n      <th>ProteinAmount_g</th>\n      <th>SugarAmount_g</th>\n      <th>MonounsaturatedFatAmount_g</th>\n      <th>PolyunsaturatedFatAmount_g</th>\n      <th>SaturatedFatAmount_g</th>\n      <th>TotalFatAmount_g</th>\n      <th>Vegan</th>\n      <th>Vegetarian</th>\n      <th>Halal</th>\n      <th>ContainsBeef</th>\n    </tr>\n  </thead>\n  <tbody>\n    <tr>\n      <th>1026</th>\n      <td>Curry Zazzle Baked Rice, Pizzahut</td>\n      <td>FAST FOODS</td>\n      <td>All fast food outlets in alphabetical order</td>\n      <td>Whole (340g)</td>\n      <td>68.99</td>\n      <td>27.2</td>\n      <td>6.09</td>\n      <td>564.4</td>\n      <td>NaN</td>\n      <td>20.4</td>\n      <td>6.8</td>\n      <td>NaN</td>\n      <td>NaN</td>\n      <td>10.2</td>\n      <td>23.09</td>\n      <td>True</td>\n      <td>True</td>\n      <td>True</td>\n      <td>False</td>\n    </tr>\n  </tbody>\n</table>\n</div>"
     },
     "metadata": {},
     "execution_count": 130
    }
   ],
   "source": [
    "checkName = 'zazzle'\n",
    "#data[data['FoodName'].str.lower().str.startswith(checkName)]\n",
    "data[data['FoodName'].str.lower().str.contains(checkName)]"
   ]
  },
  {
   "cell_type": "markdown",
   "metadata": {},
   "source": [
    "<h5>Find halal food</h5>"
   ]
  },
  {
   "cell_type": "code",
   "execution_count": 131,
   "metadata": {},
   "outputs": [
    {
     "output_type": "stream",
     "name": "stdout",
     "text": "Food Words ->\ncount    1644.000000\nmean     6.419708   \nstd      50.101227  \nmin      1.000000   \n25%      1.000000   \n50%      2.000000   \n75%      4.000000   \nmax      1956.000000\ndtype: float64\n"
    },
    {
     "output_type": "error",
     "ename": "NameError",
     "evalue": "name 'stopwords' is not defined",
     "traceback": [
      "\u001b[1;31m---------------------------------------------------------------------------\u001b[0m",
      "\u001b[1;31mNameError\u001b[0m                                 Traceback (most recent call last)",
      "\u001b[1;32m<ipython-input-131-f4bc8748095e>\u001b[0m in \u001b[0;36m<module>\u001b[1;34m\u001b[0m\n\u001b[0;32m      4\u001b[0m \u001b[0mfoodWords\u001b[0m\u001b[1;33m=\u001b[0m\u001b[0mdata\u001b[0m\u001b[1;33m.\u001b[0m\u001b[0mloc\u001b[0m\u001b[1;33m[\u001b[0m\u001b[0mcriteria\u001b[0m\u001b[1;33m,\u001b[0m \u001b[1;34m'FoodName'\u001b[0m\u001b[1;33m]\u001b[0m\u001b[1;33m.\u001b[0m\u001b[0mstr\u001b[0m\u001b[1;33m.\u001b[0m\u001b[0mlower\u001b[0m\u001b[1;33m(\u001b[0m\u001b[1;33m)\u001b[0m\u001b[1;33m.\u001b[0m\u001b[0mstr\u001b[0m\u001b[1;33m.\u001b[0m\u001b[0msplit\u001b[0m\u001b[1;33m(\u001b[0m\u001b[0mpat\u001b[0m\u001b[1;33m=\u001b[0m\u001b[1;34m'[^a-zA-Z\\d]'\u001b[0m\u001b[1;33m,\u001b[0m \u001b[0mexpand\u001b[0m\u001b[1;33m=\u001b[0m\u001b[1;32mTrue\u001b[0m\u001b[1;33m)\u001b[0m\u001b[1;33m.\u001b[0m\u001b[0mstack\u001b[0m\u001b[1;33m(\u001b[0m\u001b[1;33m)\u001b[0m\u001b[1;33m.\u001b[0m\u001b[0mvalue_counts\u001b[0m\u001b[1;33m(\u001b[0m\u001b[1;33m)\u001b[0m\u001b[1;33m\u001b[0m\u001b[1;33m\u001b[0m\u001b[0m\n\u001b[0;32m      5\u001b[0m \u001b[0mprint\u001b[0m\u001b[1;33m(\u001b[0m\u001b[1;34mf'Food Words ->\\n{foodWords.describe()}'\u001b[0m\u001b[1;33m)\u001b[0m\u001b[1;33m\u001b[0m\u001b[1;33m\u001b[0m\u001b[0m\n\u001b[1;32m----> 6\u001b[1;33m foodWords = foodWords.loc[(~foodWords.index.isin(stopwords.words())) & (foodWords.index != '') &\n\u001b[0m\u001b[0;32m      7\u001b[0m                           ~foodWords.index.isin(words.words())]\n\u001b[0;32m      8\u001b[0m \u001b[0mprint\u001b[0m\u001b[1;33m(\u001b[0m\u001b[1;34mf'\\nFood Words no stop words and non-English words ->\\n{foodWords.describe()}'\u001b[0m\u001b[1;33m)\u001b[0m\u001b[1;33m\u001b[0m\u001b[1;33m\u001b[0m\u001b[0m\n",
      "\u001b[1;31mNameError\u001b[0m: name 'stopwords' is not defined"
     ]
    }
   ],
   "source": [
    "criteria = (~data['FoodGroup'].isin(FoodGroups_NonHalal+['BEVERAGES'])) &\\\n",
    "            (~data['FoodGroup'].isin(FoodGroups_Halal)) &\\\n",
    "            (~data['FoodSubGroup'].isin(FoodSubGroups_NonHalal))\n",
    "foodWords=data.loc[criteria, 'FoodName'].str.lower().str.split(pat='[^a-zA-Z\\d]', expand=True).stack().value_counts()\n",
    "print(f'Food Words ->\\n{foodWords.describe()}')\n",
    "foodWords = foodWords.loc[(~foodWords.index.isin(stopwords.words())) & (foodWords.index != '') &\n",
    "                          ~foodWords.index.isin(words.words())]\n",
    "print(f'\\nFood Words no stop words and non-English words ->\\n{foodWords.describe()}')"
   ]
  },
  {
   "cell_type": "code",
   "execution_count": 132,
   "metadata": {
    "scrolled": false
   },
   "outputs": [
    {
     "output_type": "display_data",
     "data": {
      "text/plain": "['zinger', 'zucchini', 'zazzle', 'zha']"
     },
     "metadata": {}
    }
   ],
   "source": [
    "display(list(foodWords[foodWords.index.str.startswith('z')].index))"
   ]
  },
  {
   "cell_type": "markdown",
   "metadata": {},
   "source": [
    "<h5>Use this cell to get full name</h5>"
   ]
  },
  {
   "cell_type": "code",
   "execution_count": 133,
   "metadata": {
    "scrolled": false
   },
   "outputs": [
    {
     "output_type": "execute_result",
     "data": {
      "text/plain": "          FoodName      FoodGroup  \\\n1529  Gum, xanthan  MISCELLANEOUS   \n\n                                                FoodSubGroup  \\\n1529  Stock cubes / flavourings, essence, yeast extracts,etc   \n\n     PerServingHouseholdMeasure  CarbohydrateAmount_g  CholesterolAmount_mg  \\\n1529  Gram (1g)                  0.8                   0.0                    \n\n      DietaryFibreAmount_g  EnergyAmount_kcal  GlycemicIndexAmount  \\\n1529  0.8                   3.2               NaN                    \n\n      ProteinAmount_g  SugarAmount_g  MonounsaturatedFatAmount_g  \\\n1529  0.0              0.0            0.0                          \n\n      PolyunsaturatedFatAmount_g  SaturatedFatAmount_g  TotalFatAmount_g  \\\n1529  0.0                         0.0                   0.0                \n\n      Vegan  Vegetarian  Halal  ContainsBeef  \n1529  True   True        True   False         ",
      "text/html": "<div>\n<style scoped>\n    .dataframe tbody tr th:only-of-type {\n        vertical-align: middle;\n    }\n\n    .dataframe tbody tr th {\n        vertical-align: top;\n    }\n\n    .dataframe thead th {\n        text-align: right;\n    }\n</style>\n<table border=\"1\" class=\"dataframe\">\n  <thead>\n    <tr style=\"text-align: right;\">\n      <th></th>\n      <th>FoodName</th>\n      <th>FoodGroup</th>\n      <th>FoodSubGroup</th>\n      <th>PerServingHouseholdMeasure</th>\n      <th>CarbohydrateAmount_g</th>\n      <th>CholesterolAmount_mg</th>\n      <th>DietaryFibreAmount_g</th>\n      <th>EnergyAmount_kcal</th>\n      <th>GlycemicIndexAmount</th>\n      <th>ProteinAmount_g</th>\n      <th>SugarAmount_g</th>\n      <th>MonounsaturatedFatAmount_g</th>\n      <th>PolyunsaturatedFatAmount_g</th>\n      <th>SaturatedFatAmount_g</th>\n      <th>TotalFatAmount_g</th>\n      <th>Vegan</th>\n      <th>Vegetarian</th>\n      <th>Halal</th>\n      <th>ContainsBeef</th>\n    </tr>\n  </thead>\n  <tbody>\n    <tr>\n      <th>1529</th>\n      <td>Gum, xanthan</td>\n      <td>MISCELLANEOUS</td>\n      <td>Stock cubes / flavourings, essence, yeast extracts,etc</td>\n      <td>Gram (1g)</td>\n      <td>0.8</td>\n      <td>0.0</td>\n      <td>0.8</td>\n      <td>3.2</td>\n      <td>NaN</td>\n      <td>0.0</td>\n      <td>0.0</td>\n      <td>0.0</td>\n      <td>0.0</td>\n      <td>0.0</td>\n      <td>0.0</td>\n      <td>True</td>\n      <td>True</td>\n      <td>True</td>\n      <td>False</td>\n    </tr>\n  </tbody>\n</table>\n</div>"
     },
     "metadata": {},
     "execution_count": 133
    }
   ],
   "source": [
    "checkName = 'xanthan'\n",
    "#data[data['FoodName'].str.lower().str.startswith(checkName)]\n",
    "data[data['FoodName'].str.lower().str.contains(checkName)]"
   ]
  },
  {
   "cell_type": "markdown",
   "metadata": {},
   "source": [
    "<h5>Vegan Food Keywords</h5>"
   ]
  },
  {
   "cell_type": "code",
   "execution_count": 134,
   "metadata": {},
   "outputs": [
    {
     "output_type": "stream",
     "name": "stdout",
     "text": "No. of non-vegan keywords = 283\nNo. of vegan keywords = 8\n"
    }
   ],
   "source": [
    "FoodKeywords_NonVegan=['abalone', 'ayam', 'apam', 'assam pedas', \n",
    "                       'beef', 'boneless', 'breast', 'butter', 'bak kua', 'bream', 'bacon', 'blood', 'bulgogi', 'bandung', 'belly', 'bologna', 'bass', 'bone', 'bones', 'butterscotch', 'barilla', 'belacan', 'bangkit', 'birdnest', 'bahulu', 'bakul', 'bakwan', 'bladder', 'beam', 'bidaran', 'blachan', 'bmt', 'barfi', 'bandito', 'batang', 'burgers', 'buttermilk', 'brownies', 'belachan', 'bugis', 'badak', 'bluetail', 'bolognaise', 'baulu', 'buah keluak', 'bingka pulot', 'bee hoon soto',\n",
    "                       'chicken', 'cream', 'chocolate', 'cheese', 'char siew', 'custard', 'cheeseburger', 'cuttlefish', 'creamer', 'crayfish', 'cheesecake', 'crabmeat', 'clam', 'crab', 'cheddar', 'cheesy', 'california roll', 'chirashi', 'chiffon', 'cermai', 'cockle', 'chic', 'chin cha lok', 'cheesy bbq meltz',\n",
    "                       'duck', 'drumstick', 'doughnut', 'dough', 'dairy', 'dakgalbi', 'drumlets', 'danish', 'dagang', 'dadar', 'daging',\n",
    "                       'egg', 'eclair', 'eel', 'ebi', 'eggs',\n",
    "                       'fish', 'firni', 'futomaki', 'fishmeat', 'frog', 'fried kway teow',\n",
    "                       'gado', 'gyoza', 'ghee', 'gulab',\n",
    "                       'har gow', 'honey', 'halwa', 'hamburger', 'hawaiian', 'hotcakes', 'hum sui kok', 'hotdog', 'hush puppies', 'ham',\n",
    "                       'ipoh hor fun',\n",
    "                       'jellyfish', 'jamun', 'jajangmyeon', 'jalebi', 'jala',\n",
    "                       'kaya', 'kimchi', 'kayu', 'kheer', 'ketayap', 'katsuofuridashi', 'kastad', 'kuih lidah kucing', 'kuah', 'kidney', 'kueh rose', 'kuih buah rotan', 'kueh lapis', 'kuih sri muka',\n",
    "                       'laksa', 'lassi', 'latte', 'loh mai fan', 'loveletter', 'liver', 'liu sha bao', 'luncheon', 'leg', 'lap cheong', \n",
    "                       'milk', 'meat', 'mooncake', 'margarine', 'muffin', 'mayonnaise', 'milkshake', 'milo', 'mutton', 'meatball', 'mcgriddle', 'mackerel', 'mcspicy', 'mcchicken', 'mocha', 'mysore', 'macaroon', 'meringue', 'mcflurry', 'murukku', 'mapo', 'muka', 'mcwings', 'mysorepak', 'marshmallow', 'minyak', 'meltz', 'marzipan', 'mee rebus', 'ma la xiang guo', 'mee siam', 'mee soto',\n",
    "                       'nectar', 'naan', 'nougat', 'nasi pattaya', 'nasi rawan',\n",
    "                       'oyster', 'octopus', 'otak', 'ovaltine', 'otah', 'omelette', 'omu', 'oreo',\n",
    "                       'pork', 'prawn', 'pulut serikaya', 'pancake', 'popiah', 'pepperoni', 'platter', 'pounder', 'paal kova', 'pig', 'puding', 'pound', 'papadi', 'pad thai', 'parfait', 'pikelet', 'payasam', 'prawns', 'pietee', 'peking',\n",
    "                       'ribs', 'ramen', 'rib', 'roe', 'rendang', 'rasmalai', 'roasta', 'roller', 'roti john',\n",
    "                       'silver whiting', 'seafood', 'shrimp', 'sambal', 'sausage', 'salmon', 'siu mai', 'suan la mian', 'squid', 'scallop', 'sundae', 'samosa', 'serikaya', 'swiss roll', 'sharkfin', 'shibuya', 'steak', 'sausages', 'shortcake', 'saba', 'snakeskin', 'snake, raw', 'snakehead', 'susi', 'shepherd', 'skinless', 'sooji', 'sardine', 'stomach', 'sole', 'sotong', 'sui kow',\n",
    "                       'tuna', 'turkey', 'tom yum', 'telur', 'twister', 'taiyaki', 'thousand island', 'thigh', 'tenders', 'tendon', 'thairu', 'truffle', 'tiramisu', 'toasted bandito pocket',\n",
    "                       'udang', 'unagi',\n",
    "                       'vongole', 'vanaspati', 'violet crumble',\n",
    "                       'white rabbit', 'wanton', 'wing', 'whopper', 'wafu', 'worcestershire', 'wu kok', 'wife pastry', 'whey', 'winglets', 'wings',\n",
    "                       'xiao wan mian',\n",
    "                       'yong tau foo', 'yoghurt', 'yellow noodle', 'yolk', 'yolks', 'yu sheng',\n",
    "                       'zinger burger', 'zazzle', 'zha jiang mian']\n",
    "\n",
    "FoodKeywords_Vegan=['non dairy', 'eggplant', 'coconut', 'honeydew', 'ramen', 'cooked, plain', 'vegetarian', 'vegan']\n",
    "\n",
    "print(f'No. of non-vegan keywords = {len(FoodKeywords_NonVegan)}')\n",
    "print(f'No. of vegan keywords = {len(FoodKeywords_Vegan)}')"
   ]
  },
  {
   "cell_type": "markdown",
   "metadata": {},
   "source": [
    "<h5>Vegetarian Food Keywords</h5>"
   ]
  },
  {
   "cell_type": "code",
   "execution_count": 135,
   "metadata": {},
   "outputs": [
    {
     "output_type": "stream",
     "name": "stdout",
     "text": "No. of non-vegetarian keywords = 168\nNo. of vegetarian keywords = 4\n"
    }
   ],
   "source": [
    "FoodKeywords_NonVegetarian=['abalone', 'ayam', 'apam', 'assam pedas',\n",
    "                            'beef', 'boneless', 'breast', 'bak kua', 'bream', 'bacon', 'blood', 'bulgogi', 'belly', 'bologna', 'bass', 'bone', 'bones', 'belacan', 'bladder', 'beam', 'blachan', 'bmt', 'bandito', 'batang', 'burgers', 'belachan', 'bluetail', 'bolognaise', 'buah keluak', 'bee hoon soto',\n",
    "                            'chicken', 'char siew', 'cheeseburger', 'cuttlefish', 'crayfish', 'crabmeat', 'clam', 'crab', 'california roll', 'chirashi', 'cockle', 'chic', 'chin cha lok', 'cheesy bbq meltz',\n",
    "                            'duck', 'drumstick', 'dakgalbi', 'drumlets', 'dagang', 'daging',\n",
    "                            'eel', 'ebi',\n",
    "                            'fish', 'futomaki', 'fishmeat', 'frog', 'fried kway teow',\n",
    "                            'gyoza',\n",
    "                            'har gow', 'hamburger', 'hawaiian', 'hum sui kok', 'hotdog', 'ham',\n",
    "                            'ipoh hor fun',\n",
    "                            'jellyfish', 'jajangmyeon',\n",
    "                            'kimchi', 'katsuofuridashi', 'kuah', 'kidney', \n",
    "                            'laksa', 'loh mai fan', 'liver', 'luncheon', 'leg', 'lap cheong', \n",
    "                            'meat', 'mutton', 'meatball', 'mcgriddle', 'mackerel', 'mcspicy', 'mcchicken', 'mapo', 'mcwings', 'meltz', 'mee rebus', 'ma la xiang guo', 'mee siam', 'mee soto',\n",
    "                            'nasi pattaya', 'nasi rawan',\n",
    "                            'oyster', 'octopus', 'otak', 'otah',\n",
    "                            'pork', 'prawn', 'popiah', 'pepperoni', 'platter', 'pounder', 'pig', 'pad thai', 'prawns', 'pietee', 'peking',\n",
    "                            'ribs', 'ramen', 'rib', 'roe', 'rendang', 'rasmalai', 'roasta', 'roller', 'roti john',\n",
    "                            'silver whiting', 'seafood', 'shrimp', 'sambal', 'sausage', 'salmon', 'siu mai', 'suan la mian', 'squid', 'scallop', 'samosa', 'sharkfin', 'steak', 'sausages', 'saba', 'snakeskin', 'snake, raw', 'snakehead', 'susi', 'shepherd', 'skinless', 'sardine', 'stomach', 'sole', 'sotong', 'sui kow',\n",
    "                            'tuna', 'turkey', 'tom yum', 'twister', 'thigh', 'tenders', 'tendon', 'toasted bandito pocket',\n",
    "                            'udang', 'unagi',\n",
    "                            'vongole',\n",
    "                            'wanton', 'wing', 'whopper', 'wafu', 'worcestershire', 'wu kok', 'winglets', 'wings',\n",
    "                            'xiao wan mian',\n",
    "                            'yong tau foo', 'yu sheng',\n",
    "                            'zinger burger', 'zazzle', 'zha jiang mian']\n",
    "\n",
    "FoodKeywords_Vegetarian=['ramen', 'cooked, plain', 'vegetarian', 'vegan']\n",
    "\n",
    "print(f'No. of non-vegetarian keywords = {len(FoodKeywords_NonVegetarian)}')\n",
    "print(f'No. of vegetarian keywords = {len(FoodKeywords_Vegetarian)}')"
   ]
  },
  {
   "cell_type": "markdown",
   "metadata": {},
   "source": [
    "<h5>Halal Food Keywords</h5>"
   ]
  },
  {
   "cell_type": "code",
   "execution_count": 136,
   "metadata": {},
   "outputs": [
    {
     "output_type": "stream",
     "name": "stdout",
     "text": "No. of non-halal keywords = 78\nNo. of halal keywords = 141\n"
    }
   ],
   "source": [
    "FoodKeywords_NonHalal=['beef', 'bak kua', 'bacon', 'blood', 'bologna', 'bmt', 'bandito', 'batang', 'bolognaise',\n",
    "                       'chicken', 'char siew', 'cheeseburger', 'california roll', 'chirashi', 'cockle', 'chic', 'chin cha lok', 'cheesy bbq meltz',\n",
    "                       'duck', 'drumstick', 'dakgalbi', 'drumlets', 'dagang', 'daging'\n",
    "                       'fried kway teow',\n",
    "                       'gyoza',\n",
    "                       'har gow', 'hamburger', 'hawaiian', 'hum sui kok', 'hotdog', 'ham',\n",
    "                       'ipoh hor fun',\n",
    "                       'jajangmyeon',\n",
    "                       'kuah', \n",
    "                       'laksa', 'loh mai fan', 'liver', 'luncheon', 'leg', 'lap cheong', \n",
    "                       'meat', 'mutton', 'meatball', 'mcgriddle', 'mackerel', 'mcspicy', 'mcchicken', 'mapo', 'mcwings', 'mee rebus', 'ma la xiang guo', \n",
    "                       'pork', 'popiah', 'pepperoni', 'pig', 'peking',\n",
    "                       'ramen',\n",
    "                       'sausage', 'siu mai', 'suan la mian', 'steak', 'sausages', 'snakeskin', 'snake, raw', 'snakehead', 'shepherd', 'sui kow',\n",
    "                       'turkey', 'tom yum', \n",
    "                       'vongole',\n",
    "                       'wanton', 'wafu', 'worcestershire', 'wu kok',\n",
    "                       'xiao wan mian',\n",
    "                       'yong tau foo', 'yu sheng',\n",
    "                       'zha jiang mian']\n",
    "\n",
    "FoodKeywords_Halal=['kfc', 'popeyes', 'long john silver', 'mcdonald', 'subway', 'burger king', 'swensen', 'vegetarian', 'vegan', 'mos burger',\n",
    "                    'assam', 'apam', 'abok', 'ayam',\n",
    "                    'briyani', 'bandung', 'bingka', 'buah', 'bubur', 'bangkit', 'badak', 'bambu', 'beras', 'bahulu', 'berdurian', 'bilis', 'bombay', 'baulu', 'bugis', 'basan', 'belacan', 'bergedil', 'bengka', 'bidaran', 'bakul', 'belachan', 'blachan', 'bubor', 'bawang', 'bungkus',\n",
    "                    'cucur', 'cermai',\n",
    "                    'dodol', 'dagang', 'dadar', 'daging',\n",
    "                    'emping',\n",
    "                    'goreng', 'getuk',\n",
    "                    'halwa', 'hitam', 'halia', 'hangus', 'harum',\n",
    "                    'ikan', 'inti',\n",
    "                    'jagung', 'jala', 'jemput',\n",
    "                    'kueh', 'kuih', 'kaya', 'kacang', 'kayu', 'koci', 'kasturi', 'ketayap', 'kapit', 'keria', 'kuning', 'keluak', 'kunyit', 'ketupat', 'kastad', 'kuah', 'kurma', 'karas', 'kucing', 'kanji', 'kuih talam, seri kaya',\n",
    "                    'laksa', 'lemak', 'lapis', 'lontong', 'lengat', 'lompang', 'labah', 'lodeh', 'lepat', 'lopes', 'lidah',\n",
    "                    'malay', 'merah', 'melaka', 'mamee', 'murtabak', 'mamak', 'mayam', 'makmur', 'minyak', 'masak', 'manis', 'muka', 'muda', 'mysore', 'mee soto',\n",
    "                    'ondeh', 'otak', 'otah',\n",
    "                    'pulut', 'prata', 'pedas', 'pakoda', 'penyet', 'puding', 'piring', 'peneram', 'pulot', 'pattaya', 'putih', 'panggang', \n",
    "                    'roti', 'rendang', 'rempah', 'rawan',\n",
    "                    'siam', 'satay', 'sayur', 'sagu', 'serikaya', 'surabaya', 'sarlat', 'sooji',\n",
    "                    'talam', 'telur', 'tepung', 'terigu', 'tarik', 'tapai',\n",
    "                    'udang',\n",
    "                    'wajik']\n",
    "\n",
    "print(f'No. of non-halal keywords = {len(FoodKeywords_NonHalal)}')\n",
    "print(f'No. of halal keywords = {len(FoodKeywords_Halal)}')"
   ]
  },
  {
   "cell_type": "markdown",
   "metadata": {},
   "source": [
    "<h5>Beef Food Keywords</h5>"
   ]
  },
  {
   "cell_type": "code",
   "execution_count": 137,
   "metadata": {},
   "outputs": [
    {
     "output_type": "stream",
     "name": "stdout",
     "text": "No. of beef keywords = 3\n"
    }
   ],
   "source": [
    "FoodKeywords_Beef=['beef', 'bulgogi', 'daging']\n",
    "\n",
    "print(f'No. of beef keywords = {len(FoodKeywords_Beef)}')"
   ]
  },
  {
   "cell_type": "markdown",
   "metadata": {},
   "source": [
    "<h5>Update Vegan labels</h5>"
   ]
  },
  {
   "cell_type": "code",
   "execution_count": 138,
   "metadata": {},
   "outputs": [
    {
     "output_type": "display_data",
     "data": {
      "text/plain": "       Vegan  Vegetarian  Halal  ContainsBeef\nFalse  1306   1094        671    3919        \nTrue   2614   2826        3249   1           ",
      "text/html": "<div>\n<style scoped>\n    .dataframe tbody tr th:only-of-type {\n        vertical-align: middle;\n    }\n\n    .dataframe tbody tr th {\n        vertical-align: top;\n    }\n\n    .dataframe thead th {\n        text-align: right;\n    }\n</style>\n<table border=\"1\" class=\"dataframe\">\n  <thead>\n    <tr style=\"text-align: right;\">\n      <th></th>\n      <th>Vegan</th>\n      <th>Vegetarian</th>\n      <th>Halal</th>\n      <th>ContainsBeef</th>\n    </tr>\n  </thead>\n  <tbody>\n    <tr>\n      <th>False</th>\n      <td>1306</td>\n      <td>1094</td>\n      <td>671</td>\n      <td>3919</td>\n    </tr>\n    <tr>\n      <th>True</th>\n      <td>2614</td>\n      <td>2826</td>\n      <td>3249</td>\n      <td>1</td>\n    </tr>\n  </tbody>\n</table>\n</div>"
     },
     "metadata": {}
    },
    {
     "output_type": "display_data",
     "data": {
      "text/plain": "       Vegan  Vegetarian  Halal  ContainsBeef\nFalse  1841   1094        671    3919        \nTrue   2079   2826        3249   1           ",
      "text/html": "<div>\n<style scoped>\n    .dataframe tbody tr th:only-of-type {\n        vertical-align: middle;\n    }\n\n    .dataframe tbody tr th {\n        vertical-align: top;\n    }\n\n    .dataframe thead th {\n        text-align: right;\n    }\n</style>\n<table border=\"1\" class=\"dataframe\">\n  <thead>\n    <tr style=\"text-align: right;\">\n      <th></th>\n      <th>Vegan</th>\n      <th>Vegetarian</th>\n      <th>Halal</th>\n      <th>ContainsBeef</th>\n    </tr>\n  </thead>\n  <tbody>\n    <tr>\n      <th>False</th>\n      <td>1841</td>\n      <td>1094</td>\n      <td>671</td>\n      <td>3919</td>\n    </tr>\n    <tr>\n      <th>True</th>\n      <td>2079</td>\n      <td>2826</td>\n      <td>3249</td>\n      <td>1</td>\n    </tr>\n  </tbody>\n</table>\n</div>"
     },
     "metadata": {}
    },
    {
     "output_type": "display_data",
     "data": {
      "text/plain": "       Vegan  Vegetarian  Halal  ContainsBeef\nFalse  1750   1094        671    3919        \nTrue   2170   2826        3249   1           ",
      "text/html": "<div>\n<style scoped>\n    .dataframe tbody tr th:only-of-type {\n        vertical-align: middle;\n    }\n\n    .dataframe tbody tr th {\n        vertical-align: top;\n    }\n\n    .dataframe thead th {\n        text-align: right;\n    }\n</style>\n<table border=\"1\" class=\"dataframe\">\n  <thead>\n    <tr style=\"text-align: right;\">\n      <th></th>\n      <th>Vegan</th>\n      <th>Vegetarian</th>\n      <th>Halal</th>\n      <th>ContainsBeef</th>\n    </tr>\n  </thead>\n  <tbody>\n    <tr>\n      <th>False</th>\n      <td>1750</td>\n      <td>1094</td>\n      <td>671</td>\n      <td>3919</td>\n    </tr>\n    <tr>\n      <th>True</th>\n      <td>2170</td>\n      <td>2826</td>\n      <td>3249</td>\n      <td>1</td>\n    </tr>\n  </tbody>\n</table>\n</div>"
     },
     "metadata": {}
    }
   ],
   "source": [
    "labelName = 'Vegan'\n",
    "\n",
    "FoodGroups_False = FoodGroups_NonVegan\n",
    "FoodSubGroups_False = FoodSubGroups_NonVegan\n",
    "FoodKeywords_False = FoodKeywords_NonVegan\n",
    "\n",
    "FoodGroups_True = FoodGroups_Vegan\n",
    "FoodKeywords_True = FoodKeywords_Vegan\n",
    "\n",
    "display(data.select_dtypes(include='bool').apply(pd.value_counts))\n",
    "\n",
    "criteria = ~data['FoodGroup'].isin(['BEVERAGES']) &\\\n",
    "            (data['FoodGroup'].isin(FoodGroups_False) |\\\n",
    "            data['FoodSubGroup'].isin(FoodSubGroups_False) |\\\n",
    "            (sum([data['FoodName'].str.contains(word) for word in FoodKeywords_False]) > 0))\n",
    "data.loc[criteria, labelName] = False\n",
    "display(data.select_dtypes(include='bool').apply(pd.value_counts))\n",
    "\n",
    "criteria = ~data['FoodGroup'].isin(['BEVERAGES']) &\\\n",
    "            (data['FoodGroup'].isin(FoodGroups_True) |\\\n",
    "            (sum([data['FoodName'].str.contains(word) for word in FoodKeywords_True]) > 0))\n",
    "data.loc[criteria, labelName] = True\n",
    "display(data.select_dtypes(include='bool').apply(pd.value_counts))"
   ]
  },
  {
   "cell_type": "markdown",
   "metadata": {},
   "source": [
    "<h5>Update Vegetarian labels</h5>"
   ]
  },
  {
   "cell_type": "code",
   "execution_count": 139,
   "metadata": {},
   "outputs": [
    {
     "output_type": "display_data",
     "data": {
      "text/plain": "       Vegan  Vegetarian  Halal  ContainsBeef\nFalse  1750   1094        671    3919        \nTrue   2170   2826        3249   1           ",
      "text/html": "<div>\n<style scoped>\n    .dataframe tbody tr th:only-of-type {\n        vertical-align: middle;\n    }\n\n    .dataframe tbody tr th {\n        vertical-align: top;\n    }\n\n    .dataframe thead th {\n        text-align: right;\n    }\n</style>\n<table border=\"1\" class=\"dataframe\">\n  <thead>\n    <tr style=\"text-align: right;\">\n      <th></th>\n      <th>Vegan</th>\n      <th>Vegetarian</th>\n      <th>Halal</th>\n      <th>ContainsBeef</th>\n    </tr>\n  </thead>\n  <tbody>\n    <tr>\n      <th>False</th>\n      <td>1750</td>\n      <td>1094</td>\n      <td>671</td>\n      <td>3919</td>\n    </tr>\n    <tr>\n      <th>True</th>\n      <td>2170</td>\n      <td>2826</td>\n      <td>3249</td>\n      <td>1</td>\n    </tr>\n  </tbody>\n</table>\n</div>"
     },
     "metadata": {}
    },
    {
     "output_type": "display_data",
     "data": {
      "text/plain": "       Vegan  Vegetarian  Halal  ContainsBeef\nFalse  1750   1436        671    3919        \nTrue   2170   2484        3249   1           ",
      "text/html": "<div>\n<style scoped>\n    .dataframe tbody tr th:only-of-type {\n        vertical-align: middle;\n    }\n\n    .dataframe tbody tr th {\n        vertical-align: top;\n    }\n\n    .dataframe thead th {\n        text-align: right;\n    }\n</style>\n<table border=\"1\" class=\"dataframe\">\n  <thead>\n    <tr style=\"text-align: right;\">\n      <th></th>\n      <th>Vegan</th>\n      <th>Vegetarian</th>\n      <th>Halal</th>\n      <th>ContainsBeef</th>\n    </tr>\n  </thead>\n  <tbody>\n    <tr>\n      <th>False</th>\n      <td>1750</td>\n      <td>1436</td>\n      <td>671</td>\n      <td>3919</td>\n    </tr>\n    <tr>\n      <th>True</th>\n      <td>2170</td>\n      <td>2484</td>\n      <td>3249</td>\n      <td>1</td>\n    </tr>\n  </tbody>\n</table>\n</div>"
     },
     "metadata": {}
    },
    {
     "output_type": "display_data",
     "data": {
      "text/plain": "       Vegan  Vegetarian  Halal  ContainsBeef\nFalse  1750   1390        671    3919        \nTrue   2170   2530        3249   1           ",
      "text/html": "<div>\n<style scoped>\n    .dataframe tbody tr th:only-of-type {\n        vertical-align: middle;\n    }\n\n    .dataframe tbody tr th {\n        vertical-align: top;\n    }\n\n    .dataframe thead th {\n        text-align: right;\n    }\n</style>\n<table border=\"1\" class=\"dataframe\">\n  <thead>\n    <tr style=\"text-align: right;\">\n      <th></th>\n      <th>Vegan</th>\n      <th>Vegetarian</th>\n      <th>Halal</th>\n      <th>ContainsBeef</th>\n    </tr>\n  </thead>\n  <tbody>\n    <tr>\n      <th>False</th>\n      <td>1750</td>\n      <td>1390</td>\n      <td>671</td>\n      <td>3919</td>\n    </tr>\n    <tr>\n      <th>True</th>\n      <td>2170</td>\n      <td>2530</td>\n      <td>3249</td>\n      <td>1</td>\n    </tr>\n  </tbody>\n</table>\n</div>"
     },
     "metadata": {}
    }
   ],
   "source": [
    "labelName = 'Vegetarian'\n",
    "\n",
    "FoodGroups_False = FoodGroups_NonVegetarian\n",
    "FoodSubGroups_False = FoodSubGroups_NonVegetarian\n",
    "FoodKeywords_False = FoodKeywords_NonVegetarian\n",
    "\n",
    "FoodGroups_True = FoodGroups_Vegetarian\n",
    "FoodKeywords_True = FoodKeywords_Vegetarian\n",
    "\n",
    "display(data.select_dtypes(include='bool').apply(pd.value_counts))\n",
    "\n",
    "criteria = ~data['FoodGroup'].isin(['BEVERAGES']) &\\\n",
    "            (data['FoodGroup'].isin(FoodGroups_False) |\\\n",
    "            data['FoodSubGroup'].isin(FoodSubGroups_False) |\\\n",
    "            (sum([data['FoodName'].str.contains(word) for word in FoodKeywords_False]) > 0))\n",
    "data.loc[criteria, labelName] = False\n",
    "display(data.select_dtypes(include='bool').apply(pd.value_counts))\n",
    "\n",
    "criteria = ~data['FoodGroup'].isin(['BEVERAGES']) &\\\n",
    "            (data['FoodGroup'].isin(FoodGroups_True) |\\\n",
    "            (sum([data['FoodName'].str.contains(word) for word in FoodKeywords_True]) > 0))\n",
    "data.loc[criteria, labelName] = True\n",
    "display(data.select_dtypes(include='bool').apply(pd.value_counts))"
   ]
  },
  {
   "cell_type": "markdown",
   "metadata": {},
   "source": [
    "<h5>Update Halal labels</h5>"
   ]
  },
  {
   "cell_type": "code",
   "execution_count": 140,
   "metadata": {},
   "outputs": [
    {
     "output_type": "display_data",
     "data": {
      "text/plain": "       Vegan  Vegetarian  Halal  ContainsBeef\nFalse  1750   1390        671    3919        \nTrue   2170   2530        3249   1           ",
      "text/html": "<div>\n<style scoped>\n    .dataframe tbody tr th:only-of-type {\n        vertical-align: middle;\n    }\n\n    .dataframe tbody tr th {\n        vertical-align: top;\n    }\n\n    .dataframe thead th {\n        text-align: right;\n    }\n</style>\n<table border=\"1\" class=\"dataframe\">\n  <thead>\n    <tr style=\"text-align: right;\">\n      <th></th>\n      <th>Vegan</th>\n      <th>Vegetarian</th>\n      <th>Halal</th>\n      <th>ContainsBeef</th>\n    </tr>\n  </thead>\n  <tbody>\n    <tr>\n      <th>False</th>\n      <td>1750</td>\n      <td>1390</td>\n      <td>671</td>\n      <td>3919</td>\n    </tr>\n    <tr>\n      <th>True</th>\n      <td>2170</td>\n      <td>2530</td>\n      <td>3249</td>\n      <td>1</td>\n    </tr>\n  </tbody>\n</table>\n</div>"
     },
     "metadata": {}
    },
    {
     "output_type": "display_data",
     "data": {
      "text/plain": "       Vegan  Vegetarian  Halal  ContainsBeef\nFalse  1750   1390        858    3919        \nTrue   2170   2530        3062   1           ",
      "text/html": "<div>\n<style scoped>\n    .dataframe tbody tr th:only-of-type {\n        vertical-align: middle;\n    }\n\n    .dataframe tbody tr th {\n        vertical-align: top;\n    }\n\n    .dataframe thead th {\n        text-align: right;\n    }\n</style>\n<table border=\"1\" class=\"dataframe\">\n  <thead>\n    <tr style=\"text-align: right;\">\n      <th></th>\n      <th>Vegan</th>\n      <th>Vegetarian</th>\n      <th>Halal</th>\n      <th>ContainsBeef</th>\n    </tr>\n  </thead>\n  <tbody>\n    <tr>\n      <th>False</th>\n      <td>1750</td>\n      <td>1390</td>\n      <td>858</td>\n      <td>3919</td>\n    </tr>\n    <tr>\n      <th>True</th>\n      <td>2170</td>\n      <td>2530</td>\n      <td>3062</td>\n      <td>1</td>\n    </tr>\n  </tbody>\n</table>\n</div>"
     },
     "metadata": {}
    },
    {
     "output_type": "display_data",
     "data": {
      "text/plain": "       Vegan  Vegetarian  Halal  ContainsBeef\nFalse  1750   1390        800    3919        \nTrue   2170   2530        3120   1           ",
      "text/html": "<div>\n<style scoped>\n    .dataframe tbody tr th:only-of-type {\n        vertical-align: middle;\n    }\n\n    .dataframe tbody tr th {\n        vertical-align: top;\n    }\n\n    .dataframe thead th {\n        text-align: right;\n    }\n</style>\n<table border=\"1\" class=\"dataframe\">\n  <thead>\n    <tr style=\"text-align: right;\">\n      <th></th>\n      <th>Vegan</th>\n      <th>Vegetarian</th>\n      <th>Halal</th>\n      <th>ContainsBeef</th>\n    </tr>\n  </thead>\n  <tbody>\n    <tr>\n      <th>False</th>\n      <td>1750</td>\n      <td>1390</td>\n      <td>800</td>\n      <td>3919</td>\n    </tr>\n    <tr>\n      <th>True</th>\n      <td>2170</td>\n      <td>2530</td>\n      <td>3120</td>\n      <td>1</td>\n    </tr>\n  </tbody>\n</table>\n</div>"
     },
     "metadata": {}
    }
   ],
   "source": [
    "labelName = 'Halal'\n",
    "\n",
    "FoodGroups_False = FoodGroups_NonHalal\n",
    "FoodSubGroups_False = FoodSubGroups_NonHalal\n",
    "FoodKeywords_False = FoodKeywords_NonHalal\n",
    "\n",
    "FoodGroups_True = FoodGroups_Halal\n",
    "FoodKeywords_True = FoodKeywords_Halal\n",
    "\n",
    "display(data.select_dtypes(include='bool').apply(pd.value_counts))\n",
    "\n",
    "criteria = ~data['FoodGroup'].isin(['BEVERAGES']) &\\\n",
    "            (data['FoodGroup'].isin(FoodGroups_False) |\\\n",
    "            data['FoodSubGroup'].isin(FoodSubGroups_False) |\\\n",
    "            (sum([data['FoodName'].str.contains(word) for word in FoodKeywords_False]) > 0))\n",
    "data.loc[criteria, labelName] = False\n",
    "display(data.select_dtypes(include='bool').apply(pd.value_counts))\n",
    "\n",
    "criteria = ~data['FoodGroup'].isin(['BEVERAGES']) &\\\n",
    "            (data['FoodGroup'].isin(FoodGroups_True) |\\\n",
    "            (sum([data['FoodName'].str.contains(word) for word in FoodKeywords_True]) > 0))\n",
    "data.loc[criteria, labelName] = True\n",
    "display(data.select_dtypes(include='bool').apply(pd.value_counts))"
   ]
  },
  {
   "cell_type": "markdown",
   "metadata": {},
   "source": [
    "<h5>Update Contains Beef labels</h5>"
   ]
  },
  {
   "cell_type": "code",
   "execution_count": 141,
   "metadata": {},
   "outputs": [
    {
     "output_type": "display_data",
     "data": {
      "text/plain": "       Vegan  Vegetarian  Halal  ContainsBeef\nFalse  1750   1390        800    3919        \nTrue   2170   2530        3120   1           ",
      "text/html": "<div>\n<style scoped>\n    .dataframe tbody tr th:only-of-type {\n        vertical-align: middle;\n    }\n\n    .dataframe tbody tr th {\n        vertical-align: top;\n    }\n\n    .dataframe thead th {\n        text-align: right;\n    }\n</style>\n<table border=\"1\" class=\"dataframe\">\n  <thead>\n    <tr style=\"text-align: right;\">\n      <th></th>\n      <th>Vegan</th>\n      <th>Vegetarian</th>\n      <th>Halal</th>\n      <th>ContainsBeef</th>\n    </tr>\n  </thead>\n  <tbody>\n    <tr>\n      <th>False</th>\n      <td>1750</td>\n      <td>1390</td>\n      <td>800</td>\n      <td>3919</td>\n    </tr>\n    <tr>\n      <th>True</th>\n      <td>2170</td>\n      <td>2530</td>\n      <td>3120</td>\n      <td>1</td>\n    </tr>\n  </tbody>\n</table>\n</div>"
     },
     "metadata": {}
    },
    {
     "output_type": "display_data",
     "data": {
      "text/plain": "       Vegan  Vegetarian  Halal  ContainsBeef\nFalse  1750   1390        800    3878        \nTrue   2170   2530        3120   42          ",
      "text/html": "<div>\n<style scoped>\n    .dataframe tbody tr th:only-of-type {\n        vertical-align: middle;\n    }\n\n    .dataframe tbody tr th {\n        vertical-align: top;\n    }\n\n    .dataframe thead th {\n        text-align: right;\n    }\n</style>\n<table border=\"1\" class=\"dataframe\">\n  <thead>\n    <tr style=\"text-align: right;\">\n      <th></th>\n      <th>Vegan</th>\n      <th>Vegetarian</th>\n      <th>Halal</th>\n      <th>ContainsBeef</th>\n    </tr>\n  </thead>\n  <tbody>\n    <tr>\n      <th>False</th>\n      <td>1750</td>\n      <td>1390</td>\n      <td>800</td>\n      <td>3878</td>\n    </tr>\n    <tr>\n      <th>True</th>\n      <td>2170</td>\n      <td>2530</td>\n      <td>3120</td>\n      <td>42</td>\n    </tr>\n  </tbody>\n</table>\n</div>"
     },
     "metadata": {}
    }
   ],
   "source": [
    "labelName = 'ContainsBeef'\n",
    "\n",
    "FoodKeywords_True = FoodKeywords_Beef\n",
    "\n",
    "display(data.select_dtypes(include='bool').apply(pd.value_counts))\n",
    "criteria = ~data['FoodGroup'].isin(['BEVERAGES']) &\\\n",
    "            (sum([data['FoodName'].str.contains(word) for word in FoodKeywords_True]) > 0)\n",
    "data.loc[criteria, labelName] = True\n",
    "display(data.select_dtypes(include='bool').apply(pd.value_counts))"
   ]
  },
  {
   "cell_type": "markdown",
   "metadata": {},
   "source": [
    "<h4>Save data to another csv file</h4>"
   ]
  },
  {
   "cell_type": "code",
   "execution_count": 142,
   "metadata": {},
   "outputs": [
    {
     "output_type": "stream",
     "name": "stdout",
     "text": "<class 'pandas.core.frame.DataFrame'>\nRangeIndex: 3920 entries, 0 to 3919\nData columns (total 19 columns):\n #   Column                      Non-Null Count  Dtype  \n---  ------                      --------------  -----  \n 0   FoodName                    3920 non-null   object \n 1   FoodGroup                   3920 non-null   object \n 2   FoodSubGroup                3920 non-null   object \n 3   PerServingHouseholdMeasure  3920 non-null   object \n 4   CarbohydrateAmount_g        3920 non-null   float64\n 5   CholesterolAmount_mg        3445 non-null   float64\n 6   DietaryFibreAmount_g        3817 non-null   float64\n 7   EnergyAmount_kcal           3920 non-null   float64\n 8   GlycemicIndexAmount         101 non-null    float64\n 9   ProteinAmount_g             3917 non-null   float64\n 10  SugarAmount_g               3265 non-null   float64\n 11  MonounsaturatedFatAmount_g  3565 non-null   float64\n 12  PolyunsaturatedFatAmount_g  3590 non-null   float64\n 13  SaturatedFatAmount_g        3669 non-null   float64\n 14  TotalFatAmount_g            3912 non-null   float64\n 15  Vegan                       3920 non-null   bool   \n 16  Vegetarian                  3920 non-null   bool   \n 17  Halal                       3920 non-null   bool   \n 18  ContainsBeef                3920 non-null   bool   \ndtypes: bool(4), float64(11), object(4)\nmemory usage: 474.8+ KB\n"
    },
    {
     "output_type": "display_data",
     "data": {
      "text/plain": "None"
     },
     "metadata": {}
    },
    {
     "output_type": "display_data",
     "data": {
      "text/plain": "                               FoodName  \\\n0  2-in-1 coffee powder, with creamer     \n1  2-in-1 coffee powder, with sugar       \n2  3 in 1 ready to drink coffee instant   \n3  3-in-1 cereal                          \n4  3-in-1 coffee powder                   \n\n                                    FoodGroup             FoodSubGroup  \\\n0  BEVERAGES                                   Non-alcoholic beverages   \n1  BEVERAGES                                   Non-alcoholic beverages   \n2  BEVERAGES                                   Non-alcoholic beverages   \n3  CEREAL AND CEREAL PRODUCTS                  Breakfast cereals         \n4  MIXED ETHNIC DISHES, ANALYZED IN SINGAPORE  Beverages                 \n\n  PerServingHouseholdMeasure  CarbohydrateAmount_g  CholesterolAmount_mg  \\\n0  Packet (12g)               7.79                  0.16                   \n1  Sachet (15g)               13.28                NaN                     \n2  Can (240g)                 14.16                 3.36                   \n3  Sachet (30g)               13.11                 1.80                   \n4  Sachet (20g)               9.31                  0.50                   \n\n   DietaryFibreAmount_g  EnergyAmount_kcal  GlycemicIndexAmount  \\\n0  0.46                  56.28             NaN                    \n1  1.20                  60.60             NaN                    \n2  0.24                  81.60             NaN                    \n3  1.17                  89.10              23.1                  \n4  0.00                  65.40             NaN                    \n\n   ProteinAmount_g  SugarAmount_g  MonounsaturatedFatAmount_g  \\\n0  0.82             1.28           0.33                         \n1  0.87             10.17          0.06                         \n2  2.40             14.16          0.34                         \n3  2.37             5.91           0.90                         \n4  1.13             9.31           0.24                         \n\n   PolyunsaturatedFatAmount_g  SaturatedFatAmount_g  TotalFatAmount_g  Vegan  \\\n0  0.04                        1.95                  2.44              False   \n1  0.17                        0.20                  0.45              True    \n2  0.05                        1.30                  1.92              False   \n3  0.21                        1.74                  3.03              False   \n4  0.02                        2.22                  2.62              True    \n\n   Vegetarian  Halal  ContainsBeef  \n0  True        True   False         \n1  True        True   False         \n2  True        True   False         \n3  True        True   False         \n4  True        True   False         ",
      "text/html": "<div>\n<style scoped>\n    .dataframe tbody tr th:only-of-type {\n        vertical-align: middle;\n    }\n\n    .dataframe tbody tr th {\n        vertical-align: top;\n    }\n\n    .dataframe thead th {\n        text-align: right;\n    }\n</style>\n<table border=\"1\" class=\"dataframe\">\n  <thead>\n    <tr style=\"text-align: right;\">\n      <th></th>\n      <th>FoodName</th>\n      <th>FoodGroup</th>\n      <th>FoodSubGroup</th>\n      <th>PerServingHouseholdMeasure</th>\n      <th>CarbohydrateAmount_g</th>\n      <th>CholesterolAmount_mg</th>\n      <th>DietaryFibreAmount_g</th>\n      <th>EnergyAmount_kcal</th>\n      <th>GlycemicIndexAmount</th>\n      <th>ProteinAmount_g</th>\n      <th>SugarAmount_g</th>\n      <th>MonounsaturatedFatAmount_g</th>\n      <th>PolyunsaturatedFatAmount_g</th>\n      <th>SaturatedFatAmount_g</th>\n      <th>TotalFatAmount_g</th>\n      <th>Vegan</th>\n      <th>Vegetarian</th>\n      <th>Halal</th>\n      <th>ContainsBeef</th>\n    </tr>\n  </thead>\n  <tbody>\n    <tr>\n      <th>0</th>\n      <td>2-in-1 coffee powder, with creamer</td>\n      <td>BEVERAGES</td>\n      <td>Non-alcoholic beverages</td>\n      <td>Packet (12g)</td>\n      <td>7.79</td>\n      <td>0.16</td>\n      <td>0.46</td>\n      <td>56.28</td>\n      <td>NaN</td>\n      <td>0.82</td>\n      <td>1.28</td>\n      <td>0.33</td>\n      <td>0.04</td>\n      <td>1.95</td>\n      <td>2.44</td>\n      <td>False</td>\n      <td>True</td>\n      <td>True</td>\n      <td>False</td>\n    </tr>\n    <tr>\n      <th>1</th>\n      <td>2-in-1 coffee powder, with sugar</td>\n      <td>BEVERAGES</td>\n      <td>Non-alcoholic beverages</td>\n      <td>Sachet (15g)</td>\n      <td>13.28</td>\n      <td>NaN</td>\n      <td>1.20</td>\n      <td>60.60</td>\n      <td>NaN</td>\n      <td>0.87</td>\n      <td>10.17</td>\n      <td>0.06</td>\n      <td>0.17</td>\n      <td>0.20</td>\n      <td>0.45</td>\n      <td>True</td>\n      <td>True</td>\n      <td>True</td>\n      <td>False</td>\n    </tr>\n    <tr>\n      <th>2</th>\n      <td>3 in 1 ready to drink coffee instant</td>\n      <td>BEVERAGES</td>\n      <td>Non-alcoholic beverages</td>\n      <td>Can (240g)</td>\n      <td>14.16</td>\n      <td>3.36</td>\n      <td>0.24</td>\n      <td>81.60</td>\n      <td>NaN</td>\n      <td>2.40</td>\n      <td>14.16</td>\n      <td>0.34</td>\n      <td>0.05</td>\n      <td>1.30</td>\n      <td>1.92</td>\n      <td>False</td>\n      <td>True</td>\n      <td>True</td>\n      <td>False</td>\n    </tr>\n    <tr>\n      <th>3</th>\n      <td>3-in-1 cereal</td>\n      <td>CEREAL AND CEREAL PRODUCTS</td>\n      <td>Breakfast cereals</td>\n      <td>Sachet (30g)</td>\n      <td>13.11</td>\n      <td>1.80</td>\n      <td>1.17</td>\n      <td>89.10</td>\n      <td>23.1</td>\n      <td>2.37</td>\n      <td>5.91</td>\n      <td>0.90</td>\n      <td>0.21</td>\n      <td>1.74</td>\n      <td>3.03</td>\n      <td>False</td>\n      <td>True</td>\n      <td>True</td>\n      <td>False</td>\n    </tr>\n    <tr>\n      <th>4</th>\n      <td>3-in-1 coffee powder</td>\n      <td>MIXED ETHNIC DISHES, ANALYZED IN SINGAPORE</td>\n      <td>Beverages</td>\n      <td>Sachet (20g)</td>\n      <td>9.31</td>\n      <td>0.50</td>\n      <td>0.00</td>\n      <td>65.40</td>\n      <td>NaN</td>\n      <td>1.13</td>\n      <td>9.31</td>\n      <td>0.24</td>\n      <td>0.02</td>\n      <td>2.22</td>\n      <td>2.62</td>\n      <td>True</td>\n      <td>True</td>\n      <td>True</td>\n      <td>False</td>\n    </tr>\n  </tbody>\n</table>\n</div>"
     },
     "metadata": {}
    }
   ],
   "source": [
    "data.to_csv('foodDataBase_Working_HC2.csv', index=False)\n",
    "\n",
    "dataWorking = pd.read_csv(\"foodDataBase_Working_HC2.csv\")\n",
    "display(dataWorking.info())\n",
    "display(dataWorking.head())"
   ]
  },
  {
   "cell_type": "code",
   "execution_count": null,
   "metadata": {},
   "outputs": [],
   "source": []
  }
 ],
 "metadata": {
  "kernelspec": {
   "display_name": "Python 3",
   "language": "python",
   "name": "python3"
  },
  "language_info": {
   "codemirror_mode": {
    "name": "ipython",
    "version": 3
   },
   "file_extension": ".py",
   "mimetype": "text/x-python",
   "name": "python",
   "nbconvert_exporter": "python",
   "pygments_lexer": "ipython3",
   "version": "3.8.2-final"
  }
 },
 "nbformat": 4,
 "nbformat_minor": 4
}