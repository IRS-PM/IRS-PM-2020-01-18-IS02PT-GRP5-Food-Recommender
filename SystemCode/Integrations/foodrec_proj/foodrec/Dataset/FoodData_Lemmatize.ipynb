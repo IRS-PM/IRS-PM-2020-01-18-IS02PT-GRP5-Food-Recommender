{
 "cells": [
  {
   "cell_type": "code",
   "execution_count": 1,
   "metadata": {},
   "outputs": [],
   "source": [
    "import pandas as pd\n",
    "import numpy as np\n",
    "\n",
    "# Remove limit of display width, so require horizontal scroll bar\n",
    "pd.set_option('display.max_colwidth', 0)"
   ]
  },
  {
   "cell_type": "code",
   "execution_count": 2,
   "metadata": {},
   "outputs": [
    {
     "name": "stdout",
     "output_type": "stream",
     "text": [
      "<class 'pandas.core.frame.DataFrame'>\n",
      "RangeIndex: 3920 entries, 0 to 3919\n",
      "Data columns (total 25 columns):\n",
      "FoodName                      3920 non-null object\n",
      "FoodGroup                     3920 non-null object\n",
      "FoodSubGroup                  3920 non-null object\n",
      "PerServingHouseholdMeasure    3920 non-null object\n",
      "CarbohydrateAmount_g          3920 non-null float64\n",
      "CholesterolAmount_mg          3445 non-null float64\n",
      "DietaryFibreAmount_g          3817 non-null float64\n",
      "EnergyAmount_kcal             3920 non-null float64\n",
      "GlycemicIndexAmount           101 non-null float64\n",
      "ProteinAmount_g               3917 non-null float64\n",
      "SugarAmount_g                 3265 non-null float64\n",
      "MonounsaturatedFatAmount_g    3565 non-null float64\n",
      "PolyunsaturatedFatAmount_g    3590 non-null float64\n",
      "SaturatedFatAmount_g          3669 non-null float64\n",
      "TotalFatAmount_g              3912 non-null float64\n",
      "IsMainDish                    3920 non-null int64\n",
      "IsFastFood                    3920 non-null int64\n",
      "IsBreakfast                   3920 non-null int64\n",
      "IsBeverages                   3920 non-null int64\n",
      "IsOthers                      3920 non-null int64\n",
      "Vegan                         3920 non-null int64\n",
      "Vegetarian                    3920 non-null int64\n",
      "Halal                         3920 non-null int64\n",
      "ContainsBeef                  3920 non-null int64\n",
      "Alcohol                       3920 non-null int64\n",
      "dtypes: float64(11), int64(10), object(4)\n",
      "memory usage: 765.8+ KB\n"
     ]
    },
    {
     "data": {
      "text/plain": [
       "None"
      ]
     },
     "metadata": {},
     "output_type": "display_data"
    },
    {
     "data": {
      "text/html": [
       "<div>\n",
       "<style scoped>\n",
       "    .dataframe tbody tr th:only-of-type {\n",
       "        vertical-align: middle;\n",
       "    }\n",
       "\n",
       "    .dataframe tbody tr th {\n",
       "        vertical-align: top;\n",
       "    }\n",
       "\n",
       "    .dataframe thead th {\n",
       "        text-align: right;\n",
       "    }\n",
       "</style>\n",
       "<table border=\"1\" class=\"dataframe\">\n",
       "  <thead>\n",
       "    <tr style=\"text-align: right;\">\n",
       "      <th></th>\n",
       "      <th>FoodName</th>\n",
       "      <th>FoodGroup</th>\n",
       "      <th>FoodSubGroup</th>\n",
       "      <th>PerServingHouseholdMeasure</th>\n",
       "      <th>CarbohydrateAmount_g</th>\n",
       "      <th>CholesterolAmount_mg</th>\n",
       "      <th>DietaryFibreAmount_g</th>\n",
       "      <th>EnergyAmount_kcal</th>\n",
       "      <th>GlycemicIndexAmount</th>\n",
       "      <th>ProteinAmount_g</th>\n",
       "      <th>...</th>\n",
       "      <th>IsMainDish</th>\n",
       "      <th>IsFastFood</th>\n",
       "      <th>IsBreakfast</th>\n",
       "      <th>IsBeverages</th>\n",
       "      <th>IsOthers</th>\n",
       "      <th>Vegan</th>\n",
       "      <th>Vegetarian</th>\n",
       "      <th>Halal</th>\n",
       "      <th>ContainsBeef</th>\n",
       "      <th>Alcohol</th>\n",
       "    </tr>\n",
       "  </thead>\n",
       "  <tbody>\n",
       "    <tr>\n",
       "      <td>0</td>\n",
       "      <td>2-in-1 coffee powder, with creamer</td>\n",
       "      <td>BEVERAGES</td>\n",
       "      <td>Non-alcoholic beverages</td>\n",
       "      <td>Packet (12g)</td>\n",
       "      <td>7.79</td>\n",
       "      <td>0.16</td>\n",
       "      <td>0.46</td>\n",
       "      <td>56.28</td>\n",
       "      <td>NaN</td>\n",
       "      <td>0.82</td>\n",
       "      <td>...</td>\n",
       "      <td>0</td>\n",
       "      <td>0</td>\n",
       "      <td>0</td>\n",
       "      <td>1</td>\n",
       "      <td>0</td>\n",
       "      <td>0</td>\n",
       "      <td>1</td>\n",
       "      <td>1</td>\n",
       "      <td>0</td>\n",
       "      <td>0</td>\n",
       "    </tr>\n",
       "    <tr>\n",
       "      <td>1</td>\n",
       "      <td>2-in-1 coffee powder, with sugar</td>\n",
       "      <td>BEVERAGES</td>\n",
       "      <td>Non-alcoholic beverages</td>\n",
       "      <td>Sachet (15g)</td>\n",
       "      <td>13.28</td>\n",
       "      <td>NaN</td>\n",
       "      <td>1.20</td>\n",
       "      <td>60.60</td>\n",
       "      <td>NaN</td>\n",
       "      <td>0.87</td>\n",
       "      <td>...</td>\n",
       "      <td>0</td>\n",
       "      <td>0</td>\n",
       "      <td>0</td>\n",
       "      <td>1</td>\n",
       "      <td>0</td>\n",
       "      <td>1</td>\n",
       "      <td>1</td>\n",
       "      <td>1</td>\n",
       "      <td>0</td>\n",
       "      <td>0</td>\n",
       "    </tr>\n",
       "    <tr>\n",
       "      <td>2</td>\n",
       "      <td>3 in 1 ready to drink coffee instant</td>\n",
       "      <td>BEVERAGES</td>\n",
       "      <td>Non-alcoholic beverages</td>\n",
       "      <td>Can (240g)</td>\n",
       "      <td>14.16</td>\n",
       "      <td>3.36</td>\n",
       "      <td>0.24</td>\n",
       "      <td>81.60</td>\n",
       "      <td>NaN</td>\n",
       "      <td>2.40</td>\n",
       "      <td>...</td>\n",
       "      <td>0</td>\n",
       "      <td>0</td>\n",
       "      <td>0</td>\n",
       "      <td>1</td>\n",
       "      <td>0</td>\n",
       "      <td>0</td>\n",
       "      <td>1</td>\n",
       "      <td>1</td>\n",
       "      <td>0</td>\n",
       "      <td>0</td>\n",
       "    </tr>\n",
       "    <tr>\n",
       "      <td>3</td>\n",
       "      <td>3-in-1 cereal</td>\n",
       "      <td>CEREAL AND CEREAL PRODUCTS</td>\n",
       "      <td>Breakfast cereals</td>\n",
       "      <td>Sachet (30g)</td>\n",
       "      <td>13.11</td>\n",
       "      <td>1.80</td>\n",
       "      <td>1.17</td>\n",
       "      <td>89.10</td>\n",
       "      <td>23.1</td>\n",
       "      <td>2.37</td>\n",
       "      <td>...</td>\n",
       "      <td>0</td>\n",
       "      <td>0</td>\n",
       "      <td>0</td>\n",
       "      <td>0</td>\n",
       "      <td>1</td>\n",
       "      <td>0</td>\n",
       "      <td>1</td>\n",
       "      <td>1</td>\n",
       "      <td>0</td>\n",
       "      <td>0</td>\n",
       "    </tr>\n",
       "    <tr>\n",
       "      <td>4</td>\n",
       "      <td>3-in-1 coffee powder</td>\n",
       "      <td>MIXED ETHNIC DISHES, ANALYZED IN SINGAPORE</td>\n",
       "      <td>Beverages</td>\n",
       "      <td>Sachet (20g)</td>\n",
       "      <td>9.31</td>\n",
       "      <td>0.50</td>\n",
       "      <td>0.00</td>\n",
       "      <td>65.40</td>\n",
       "      <td>NaN</td>\n",
       "      <td>1.13</td>\n",
       "      <td>...</td>\n",
       "      <td>0</td>\n",
       "      <td>0</td>\n",
       "      <td>0</td>\n",
       "      <td>0</td>\n",
       "      <td>1</td>\n",
       "      <td>1</td>\n",
       "      <td>1</td>\n",
       "      <td>1</td>\n",
       "      <td>0</td>\n",
       "      <td>0</td>\n",
       "    </tr>\n",
       "  </tbody>\n",
       "</table>\n",
       "<p>5 rows × 25 columns</p>\n",
       "</div>"
      ],
      "text/plain": [
       "                               FoodName  \\\n",
       "0  2-in-1 coffee powder, with creamer     \n",
       "1  2-in-1 coffee powder, with sugar       \n",
       "2  3 in 1 ready to drink coffee instant   \n",
       "3  3-in-1 cereal                          \n",
       "4  3-in-1 coffee powder                   \n",
       "\n",
       "                                    FoodGroup             FoodSubGroup  \\\n",
       "0  BEVERAGES                                   Non-alcoholic beverages   \n",
       "1  BEVERAGES                                   Non-alcoholic beverages   \n",
       "2  BEVERAGES                                   Non-alcoholic beverages   \n",
       "3  CEREAL AND CEREAL PRODUCTS                  Breakfast cereals         \n",
       "4  MIXED ETHNIC DISHES, ANALYZED IN SINGAPORE  Beverages                 \n",
       "\n",
       "  PerServingHouseholdMeasure  CarbohydrateAmount_g  CholesterolAmount_mg  \\\n",
       "0  Packet (12g)               7.79                  0.16                   \n",
       "1  Sachet (15g)               13.28                NaN                     \n",
       "2  Can (240g)                 14.16                 3.36                   \n",
       "3  Sachet (30g)               13.11                 1.80                   \n",
       "4  Sachet (20g)               9.31                  0.50                   \n",
       "\n",
       "   DietaryFibreAmount_g  EnergyAmount_kcal  GlycemicIndexAmount  \\\n",
       "0  0.46                  56.28             NaN                    \n",
       "1  1.20                  60.60             NaN                    \n",
       "2  0.24                  81.60             NaN                    \n",
       "3  1.17                  89.10              23.1                  \n",
       "4  0.00                  65.40             NaN                    \n",
       "\n",
       "   ProteinAmount_g  ...  IsMainDish  IsFastFood  IsBreakfast  IsBeverages  \\\n",
       "0  0.82             ...  0           0           0            1             \n",
       "1  0.87             ...  0           0           0            1             \n",
       "2  2.40             ...  0           0           0            1             \n",
       "3  2.37             ...  0           0           0            0             \n",
       "4  1.13             ...  0           0           0            0             \n",
       "\n",
       "   IsOthers  Vegan  Vegetarian  Halal  ContainsBeef  Alcohol  \n",
       "0  0         0      1           1      0             0        \n",
       "1  0         1      1           1      0             0        \n",
       "2  0         0      1           1      0             0        \n",
       "3  1         0      1           1      0             0        \n",
       "4  1         1      1           1      0             0        \n",
       "\n",
       "[5 rows x 25 columns]"
      ]
     },
     "metadata": {},
     "output_type": "display_data"
    }
   ],
   "source": [
    "#data = pd.read_csv(\"FoodDatabase.csv\")\n",
    "data = pd.read_csv(\"foodDataBase_PleaseUseThis_DC2.csv\")\n",
    "display(data.info())\n",
    "display(data.head())"
   ]
  },
  {
   "cell_type": "code",
   "execution_count": 3,
   "metadata": {},
   "outputs": [
    {
     "name": "stdout",
     "output_type": "stream",
     "text": [
      "<class 'pandas.core.frame.DataFrame'>\n",
      "RangeIndex: 3920 entries, 0 to 3919\n",
      "Data columns (total 25 columns):\n",
      "FoodName                      3920 non-null object\n",
      "FoodGroup                     3920 non-null object\n",
      "FoodSubGroup                  3920 non-null object\n",
      "PerServingHouseholdMeasure    3920 non-null object\n",
      "CarbohydrateAmount_g          3920 non-null float64\n",
      "CholesterolAmount_mg          3445 non-null float64\n",
      "DietaryFibreAmount_g          3817 non-null float64\n",
      "EnergyAmount_kcal             3920 non-null float64\n",
      "GlycemicIndexAmount           101 non-null float64\n",
      "ProteinAmount_g               3917 non-null float64\n",
      "SugarAmount_g                 3265 non-null float64\n",
      "MonounsaturatedFatAmount_g    3565 non-null float64\n",
      "PolyunsaturatedFatAmount_g    3590 non-null float64\n",
      "SaturatedFatAmount_g          3669 non-null float64\n",
      "TotalFatAmount_g              3912 non-null float64\n",
      "IsMainDish                    3920 non-null bool\n",
      "IsFastFood                    3920 non-null bool\n",
      "IsBreakfast                   3920 non-null bool\n",
      "IsBeverages                   3920 non-null bool\n",
      "IsOthers                      3920 non-null bool\n",
      "Vegan                         3920 non-null bool\n",
      "Vegetarian                    3920 non-null bool\n",
      "Halal                         3920 non-null bool\n",
      "ContainsBeef                  3920 non-null bool\n",
      "Alcohol                       3920 non-null bool\n",
      "dtypes: bool(10), float64(11), object(4)\n",
      "memory usage: 497.8+ KB\n"
     ]
    },
    {
     "data": {
      "text/plain": [
       "None"
      ]
     },
     "metadata": {},
     "output_type": "display_data"
    },
    {
     "data": {
      "text/html": [
       "<div>\n",
       "<style scoped>\n",
       "    .dataframe tbody tr th:only-of-type {\n",
       "        vertical-align: middle;\n",
       "    }\n",
       "\n",
       "    .dataframe tbody tr th {\n",
       "        vertical-align: top;\n",
       "    }\n",
       "\n",
       "    .dataframe thead th {\n",
       "        text-align: right;\n",
       "    }\n",
       "</style>\n",
       "<table border=\"1\" class=\"dataframe\">\n",
       "  <thead>\n",
       "    <tr style=\"text-align: right;\">\n",
       "      <th></th>\n",
       "      <th>FoodName</th>\n",
       "      <th>FoodGroup</th>\n",
       "      <th>FoodSubGroup</th>\n",
       "      <th>PerServingHouseholdMeasure</th>\n",
       "      <th>CarbohydrateAmount_g</th>\n",
       "      <th>CholesterolAmount_mg</th>\n",
       "      <th>DietaryFibreAmount_g</th>\n",
       "      <th>EnergyAmount_kcal</th>\n",
       "      <th>GlycemicIndexAmount</th>\n",
       "      <th>ProteinAmount_g</th>\n",
       "      <th>...</th>\n",
       "      <th>IsMainDish</th>\n",
       "      <th>IsFastFood</th>\n",
       "      <th>IsBreakfast</th>\n",
       "      <th>IsBeverages</th>\n",
       "      <th>IsOthers</th>\n",
       "      <th>Vegan</th>\n",
       "      <th>Vegetarian</th>\n",
       "      <th>Halal</th>\n",
       "      <th>ContainsBeef</th>\n",
       "      <th>Alcohol</th>\n",
       "    </tr>\n",
       "  </thead>\n",
       "  <tbody>\n",
       "    <tr>\n",
       "      <td>0</td>\n",
       "      <td>2-in-1 coffee powder, with creamer</td>\n",
       "      <td>BEVERAGES</td>\n",
       "      <td>Non-alcoholic beverages</td>\n",
       "      <td>Packet (12g)</td>\n",
       "      <td>7.79</td>\n",
       "      <td>0.16</td>\n",
       "      <td>0.46</td>\n",
       "      <td>56.28</td>\n",
       "      <td>NaN</td>\n",
       "      <td>0.82</td>\n",
       "      <td>...</td>\n",
       "      <td>False</td>\n",
       "      <td>False</td>\n",
       "      <td>False</td>\n",
       "      <td>True</td>\n",
       "      <td>False</td>\n",
       "      <td>False</td>\n",
       "      <td>True</td>\n",
       "      <td>True</td>\n",
       "      <td>False</td>\n",
       "      <td>False</td>\n",
       "    </tr>\n",
       "    <tr>\n",
       "      <td>1</td>\n",
       "      <td>2-in-1 coffee powder, with sugar</td>\n",
       "      <td>BEVERAGES</td>\n",
       "      <td>Non-alcoholic beverages</td>\n",
       "      <td>Sachet (15g)</td>\n",
       "      <td>13.28</td>\n",
       "      <td>NaN</td>\n",
       "      <td>1.20</td>\n",
       "      <td>60.60</td>\n",
       "      <td>NaN</td>\n",
       "      <td>0.87</td>\n",
       "      <td>...</td>\n",
       "      <td>False</td>\n",
       "      <td>False</td>\n",
       "      <td>False</td>\n",
       "      <td>True</td>\n",
       "      <td>False</td>\n",
       "      <td>True</td>\n",
       "      <td>True</td>\n",
       "      <td>True</td>\n",
       "      <td>False</td>\n",
       "      <td>False</td>\n",
       "    </tr>\n",
       "    <tr>\n",
       "      <td>2</td>\n",
       "      <td>3 in 1 ready to drink coffee instant</td>\n",
       "      <td>BEVERAGES</td>\n",
       "      <td>Non-alcoholic beverages</td>\n",
       "      <td>Can (240g)</td>\n",
       "      <td>14.16</td>\n",
       "      <td>3.36</td>\n",
       "      <td>0.24</td>\n",
       "      <td>81.60</td>\n",
       "      <td>NaN</td>\n",
       "      <td>2.40</td>\n",
       "      <td>...</td>\n",
       "      <td>False</td>\n",
       "      <td>False</td>\n",
       "      <td>False</td>\n",
       "      <td>True</td>\n",
       "      <td>False</td>\n",
       "      <td>False</td>\n",
       "      <td>True</td>\n",
       "      <td>True</td>\n",
       "      <td>False</td>\n",
       "      <td>False</td>\n",
       "    </tr>\n",
       "    <tr>\n",
       "      <td>3</td>\n",
       "      <td>3-in-1 cereal</td>\n",
       "      <td>CEREAL AND CEREAL PRODUCTS</td>\n",
       "      <td>Breakfast cereals</td>\n",
       "      <td>Sachet (30g)</td>\n",
       "      <td>13.11</td>\n",
       "      <td>1.80</td>\n",
       "      <td>1.17</td>\n",
       "      <td>89.10</td>\n",
       "      <td>23.1</td>\n",
       "      <td>2.37</td>\n",
       "      <td>...</td>\n",
       "      <td>False</td>\n",
       "      <td>False</td>\n",
       "      <td>False</td>\n",
       "      <td>False</td>\n",
       "      <td>True</td>\n",
       "      <td>False</td>\n",
       "      <td>True</td>\n",
       "      <td>True</td>\n",
       "      <td>False</td>\n",
       "      <td>False</td>\n",
       "    </tr>\n",
       "    <tr>\n",
       "      <td>4</td>\n",
       "      <td>3-in-1 coffee powder</td>\n",
       "      <td>MIXED ETHNIC DISHES, ANALYZED IN SINGAPORE</td>\n",
       "      <td>Beverages</td>\n",
       "      <td>Sachet (20g)</td>\n",
       "      <td>9.31</td>\n",
       "      <td>0.50</td>\n",
       "      <td>0.00</td>\n",
       "      <td>65.40</td>\n",
       "      <td>NaN</td>\n",
       "      <td>1.13</td>\n",
       "      <td>...</td>\n",
       "      <td>False</td>\n",
       "      <td>False</td>\n",
       "      <td>False</td>\n",
       "      <td>False</td>\n",
       "      <td>True</td>\n",
       "      <td>True</td>\n",
       "      <td>True</td>\n",
       "      <td>True</td>\n",
       "      <td>False</td>\n",
       "      <td>False</td>\n",
       "    </tr>\n",
       "  </tbody>\n",
       "</table>\n",
       "<p>5 rows × 25 columns</p>\n",
       "</div>"
      ],
      "text/plain": [
       "                               FoodName  \\\n",
       "0  2-in-1 coffee powder, with creamer     \n",
       "1  2-in-1 coffee powder, with sugar       \n",
       "2  3 in 1 ready to drink coffee instant   \n",
       "3  3-in-1 cereal                          \n",
       "4  3-in-1 coffee powder                   \n",
       "\n",
       "                                    FoodGroup             FoodSubGroup  \\\n",
       "0  BEVERAGES                                   Non-alcoholic beverages   \n",
       "1  BEVERAGES                                   Non-alcoholic beverages   \n",
       "2  BEVERAGES                                   Non-alcoholic beverages   \n",
       "3  CEREAL AND CEREAL PRODUCTS                  Breakfast cereals         \n",
       "4  MIXED ETHNIC DISHES, ANALYZED IN SINGAPORE  Beverages                 \n",
       "\n",
       "  PerServingHouseholdMeasure  CarbohydrateAmount_g  CholesterolAmount_mg  \\\n",
       "0  Packet (12g)               7.79                  0.16                   \n",
       "1  Sachet (15g)               13.28                NaN                     \n",
       "2  Can (240g)                 14.16                 3.36                   \n",
       "3  Sachet (30g)               13.11                 1.80                   \n",
       "4  Sachet (20g)               9.31                  0.50                   \n",
       "\n",
       "   DietaryFibreAmount_g  EnergyAmount_kcal  GlycemicIndexAmount  \\\n",
       "0  0.46                  56.28             NaN                    \n",
       "1  1.20                  60.60             NaN                    \n",
       "2  0.24                  81.60             NaN                    \n",
       "3  1.17                  89.10              23.1                  \n",
       "4  0.00                  65.40             NaN                    \n",
       "\n",
       "   ProteinAmount_g  ...  IsMainDish  IsFastFood  IsBreakfast  IsBeverages  \\\n",
       "0  0.82             ...  False       False       False        True          \n",
       "1  0.87             ...  False       False       False        True          \n",
       "2  2.40             ...  False       False       False        True          \n",
       "3  2.37             ...  False       False       False        False         \n",
       "4  1.13             ...  False       False       False        False         \n",
       "\n",
       "   IsOthers  Vegan  Vegetarian  Halal  ContainsBeef  Alcohol  \n",
       "0  False     False  True        True   False         False    \n",
       "1  False     True   True        True   False         False    \n",
       "2  False     False  True        True   False         False    \n",
       "3  True      False  True        True   False         False    \n",
       "4  True      True   True        True   False         False    \n",
       "\n",
       "[5 rows x 25 columns]"
      ]
     },
     "metadata": {},
     "output_type": "display_data"
    }
   ],
   "source": [
    "column_names = data.select_dtypes(include='int64').columns\n",
    "data[column_names] = data[column_names].astype(bool)\n",
    "display(data.info())\n",
    "display(data.head())"
   ]
  },
  {
   "cell_type": "code",
   "execution_count": 4,
   "metadata": {},
   "outputs": [
    {
     "data": {
      "text/html": [
       "<div>\n",
       "<style scoped>\n",
       "    .dataframe tbody tr th:only-of-type {\n",
       "        vertical-align: middle;\n",
       "    }\n",
       "\n",
       "    .dataframe tbody tr th {\n",
       "        vertical-align: top;\n",
       "    }\n",
       "\n",
       "    .dataframe thead th {\n",
       "        text-align: right;\n",
       "    }\n",
       "</style>\n",
       "<table border=\"1\" class=\"dataframe\">\n",
       "  <thead>\n",
       "    <tr style=\"text-align: right;\">\n",
       "      <th></th>\n",
       "      <th>FoodName</th>\n",
       "      <th>FoodGroup</th>\n",
       "      <th>FoodSubGroup</th>\n",
       "    </tr>\n",
       "  </thead>\n",
       "  <tbody>\n",
       "    <tr>\n",
       "      <td>0</td>\n",
       "      <td>2-in-1 coffee powder, with creamer</td>\n",
       "      <td>BEVERAGES</td>\n",
       "      <td>Non-alcoholic beverages</td>\n",
       "    </tr>\n",
       "    <tr>\n",
       "      <td>1</td>\n",
       "      <td>2-in-1 coffee powder, with sugar</td>\n",
       "      <td>BEVERAGES</td>\n",
       "      <td>Non-alcoholic beverages</td>\n",
       "    </tr>\n",
       "    <tr>\n",
       "      <td>2</td>\n",
       "      <td>3 in 1 ready to drink coffee instant</td>\n",
       "      <td>BEVERAGES</td>\n",
       "      <td>Non-alcoholic beverages</td>\n",
       "    </tr>\n",
       "    <tr>\n",
       "      <td>3</td>\n",
       "      <td>3-in-1 cereal</td>\n",
       "      <td>CEREAL AND CEREAL PRODUCTS</td>\n",
       "      <td>Breakfast cereals</td>\n",
       "    </tr>\n",
       "    <tr>\n",
       "      <td>4</td>\n",
       "      <td>3-in-1 coffee powder</td>\n",
       "      <td>MIXED ETHNIC DISHES, ANALYZED IN SINGAPORE</td>\n",
       "      <td>Beverages</td>\n",
       "    </tr>\n",
       "  </tbody>\n",
       "</table>\n",
       "</div>"
      ],
      "text/plain": [
       "                               FoodName  \\\n",
       "0  2-in-1 coffee powder, with creamer     \n",
       "1  2-in-1 coffee powder, with sugar       \n",
       "2  3 in 1 ready to drink coffee instant   \n",
       "3  3-in-1 cereal                          \n",
       "4  3-in-1 coffee powder                   \n",
       "\n",
       "                                    FoodGroup             FoodSubGroup  \n",
       "0  BEVERAGES                                   Non-alcoholic beverages  \n",
       "1  BEVERAGES                                   Non-alcoholic beverages  \n",
       "2  BEVERAGES                                   Non-alcoholic beverages  \n",
       "3  CEREAL AND CEREAL PRODUCTS                  Breakfast cereals        \n",
       "4  MIXED ETHNIC DISHES, ANALYZED IN SINGAPORE  Beverages                "
      ]
     },
     "metadata": {},
     "output_type": "display_data"
    }
   ],
   "source": [
    "colDesc = ['FoodName','FoodGroup','FoodSubGroup']\n",
    "dataDesc= data[colDesc]\n",
    "display(dataDesc.head())"
   ]
  },
  {
   "cell_type": "code",
   "execution_count": 5,
   "metadata": {},
   "outputs": [
    {
     "data": {
      "text/plain": [
       "array([], dtype=object)"
      ]
     },
     "metadata": {},
     "output_type": "display_data"
    },
    {
     "data": {
      "text/html": [
       "<div>\n",
       "<style scoped>\n",
       "    .dataframe tbody tr th:only-of-type {\n",
       "        vertical-align: middle;\n",
       "    }\n",
       "\n",
       "    .dataframe tbody tr th {\n",
       "        vertical-align: top;\n",
       "    }\n",
       "\n",
       "    .dataframe thead th {\n",
       "        text-align: right;\n",
       "    }\n",
       "</style>\n",
       "<table border=\"1\" class=\"dataframe\">\n",
       "  <thead>\n",
       "    <tr style=\"text-align: right;\">\n",
       "      <th></th>\n",
       "      <th>FoodGroup</th>\n",
       "    </tr>\n",
       "  </thead>\n",
       "  <tbody>\n",
       "  </tbody>\n",
       "</table>\n",
       "</div>"
      ],
      "text/plain": [
       "Empty DataFrame\n",
       "Columns: [FoodGroup]\n",
       "Index: []"
      ]
     },
     "metadata": {},
     "output_type": "display_data"
    }
   ],
   "source": [
    "duplicated_names = dataDesc[dataDesc.duplicated('FoodName')]['FoodName'].unique()\n",
    "display(duplicated_names)\n",
    "display(pd.DataFrame(dataDesc[dataDesc.duplicated('FoodName')].groupby(['FoodName','FoodSubGroup'])['FoodGroup'].unique()))"
   ]
  },
  {
   "cell_type": "code",
   "execution_count": 6,
   "metadata": {},
   "outputs": [],
   "source": [
    "if (len(duplicated_names) > 0) :\n",
    "    num_group=data.select_dtypes(include=np.number).columns\n",
    "    group=['PerServingHouseholdMeasure']+num_group\n",
    "    display(data[data['FoodName'] == duplicated_names[0]].groupby('PerServingHouseholdMeasure')[num_group].nunique())\n",
    "    for col in data.columns:\n",
    "        if (col in group):\n",
    "            print(f\"{col}:\\t{list(data[data['FoodName'] == duplicated_names[0]][col].unique())}\")"
   ]
  },
  {
   "cell_type": "code",
   "execution_count": 7,
   "metadata": {},
   "outputs": [],
   "source": [
    "if (len(duplicated_names) > 0) :\n",
    "    dictSmall={}\n",
    "    dictLarge={}\n",
    "\n",
    "    for col in data.columns:\n",
    "        uniqueValues = data[data['FoodName'] == duplicated_names[0]][col].unique()\n",
    "\n",
    "        if ((col not in num_group) & (col not in group)):\n",
    "            dictSmall[col]=uniqueValues[0]\n",
    "            dictLarge[col]=uniqueValues[0]\n",
    "        elif (col not in num_group):\n",
    "            print(uniqueValues)\n",
    "            dictSmall[col]=uniqueValues[0]#.str.contains('16cm')\n",
    "            dictLarge[col]=uniqueValues[1]#.str.contains('23cm')\n",
    "\n",
    "        if (col in num_group):\n",
    "            print(f'{col} : {uniqueValues}')\n",
    "            dictSmall[col]=min(uniqueValues)\n",
    "            dictLarge[col]=max(uniqueValues)\n",
    "\n",
    "    dictSmall['FoodName'] = dictSmall['FoodName'] + ' (small)'\n",
    "    dictLarge['FoodName'] = dictLarge['FoodName'] + ' (large)'\n",
    "\n",
    "    display(dictSmall)\n",
    "    display(dictLarge)"
   ]
  },
  {
   "cell_type": "code",
   "execution_count": 8,
   "metadata": {},
   "outputs": [],
   "source": [
    "if (len(duplicated_names) > 0) :\n",
    "    data = data[data['FoodName'] != duplicated_names[0]]\n",
    "    data = data.append(dictSmall, ignore_index=True)\n",
    "    data = data.append(dictLarge, ignore_index=True)\n",
    "    data.drop_duplicates(subset='FoodName', inplace=True)\n",
    "    data[data['FoodName'].str.contains('assam prawn', case=False)]"
   ]
  },
  {
   "cell_type": "code",
   "execution_count": 9,
   "metadata": {},
   "outputs": [
    {
     "name": "stdout",
     "output_type": "stream",
     "text": [
      "No. of rows of data = 3920\n",
      "No. of distinct food names = 3920\n",
      "No. of distinct food groups = 18\n",
      "No. of distinct food sub groups = 78\n"
     ]
    }
   ],
   "source": [
    "dataDesc= data[colDesc]\n",
    "print(f\"No. of rows of data = {dataDesc.shape[0]}\")\n",
    "print(f\"No. of distinct food names = {dataDesc['FoodName'].nunique()}\")\n",
    "print(f\"No. of distinct food groups = {dataDesc['FoodGroup'].nunique()}\")\n",
    "print(f\"No. of distinct food sub groups = {dataDesc['FoodSubGroup'].nunique()}\")"
   ]
  },
  {
   "cell_type": "code",
   "execution_count": 10,
   "metadata": {},
   "outputs": [
    {
     "name": "stdout",
     "output_type": "stream",
     "text": [
      "<class 'list'>\n",
      "<class 'str'>\n"
     ]
    },
    {
     "data": {
      "text/plain": [
       "['2-in-1 coffee powder, with creamer',\n",
       " '2-in-1 coffee powder, with sugar',\n",
       " '3 in 1 ready to drink coffee instant',\n",
       " '3-in-1 cereal',\n",
       " '3-in-1 coffee powder']"
      ]
     },
     "metadata": {},
     "output_type": "display_data"
    }
   ],
   "source": [
    "listFoodNames = data['FoodName'].str.lower().tolist()\n",
    "print(type(listFoodNames))\n",
    "print(type(listFoodNames[0]))\n",
    "display(listFoodNames[:5])"
   ]
  },
  {
   "cell_type": "code",
   "execution_count": 11,
   "metadata": {},
   "outputs": [],
   "source": [
    "import nltk\n",
    "import string"
   ]
  },
  {
   "cell_type": "code",
   "execution_count": 12,
   "metadata": {},
   "outputs": [
    {
     "name": "stdout",
     "output_type": "stream",
     "text": [
      "['2-in-1 coffee powder, with creamer', '2-in-1 coffee powder, with sugar', '3 in 1 ready to drink coffee instant', '3-in-1 cereal', '3-in-1 coffee powder', '3-in-1 coffee powder, less sugar, low fat (hcs)', '3-in-1 coffee powder, low sugar', '3-in-1 instant cereal (hcs)', '3-in-1 tea, powder', '4 in 1 brown rice cereal']\n",
      "['2-in-1', 'coffee', 'powder', ',', 'with', 'creamer', '2-in-1', 'coffee', 'powder', ',']\n"
     ]
    }
   ],
   "source": [
    "sent_tokens = []\n",
    "word_tokens = []\n",
    "for name in listFoodNames:\n",
    "    sent_tokens += nltk.sent_tokenize(name)\n",
    "    word_tokens += nltk.word_tokenize(name)\n",
    "print(sent_tokens[:10])\n",
    "print(word_tokens[:10])"
   ]
  },
  {
   "cell_type": "code",
   "execution_count": 13,
   "metadata": {},
   "outputs": [],
   "source": [
    "lemmer = nltk.stem.WordNetLemmatizer()"
   ]
  },
  {
   "cell_type": "code",
   "execution_count": 14,
   "metadata": {},
   "outputs": [],
   "source": [
    "def LemTokens(tokens):\n",
    "    return [lemmer.lemmatize(token) for token in tokens]"
   ]
  },
  {
   "cell_type": "code",
   "execution_count": 43,
   "metadata": {},
   "outputs": [
    {
     "name": "stdout",
     "output_type": "stream",
     "text": [
      "<class 'str'>\n",
      "<class 'dict'>\n",
      "{33: None, 34: None, 35: None, 36: None, 37: None, 38: None, 39: None, 40: None, 41: None, 42: None, 43: None, 44: None, 45: None, 46: None, 47: None, 58: None, 59: None, 60: None, 61: None, 62: None, 63: None, 64: None, 91: None, 92: None, 93: None, 94: None, 95: None, 96: None, 123: None, 124: None, 125: None, 126: None}\n"
     ]
    }
   ],
   "source": [
    "remove_punct_dict = dict((ord(punct), None) for punct in string.punctuation)\n",
    "print(type(string.punctuation))\n",
    "print(type(remove_punct_dict))\n",
    "print(remove_punct_dict)"
   ]
  },
  {
   "cell_type": "code",
   "execution_count": 16,
   "metadata": {},
   "outputs": [
    {
     "name": "stdout",
     "output_type": "stream",
     "text": [
      "True\n"
     ]
    }
   ],
   "source": [
    "from nltk.corpus import stopwords\n",
    "remove_stop_dict = dict((stopword, None) for stopword in stopwords.words())\n",
    "print('with' in stopwords.words())"
   ]
  },
  {
   "cell_type": "code",
   "execution_count": 17,
   "metadata": {},
   "outputs": [],
   "source": [
    "def LemNormalize(text):\n",
    "    return LemTokens(nltk.word_tokenize(text.lower().translate(remove_punct_dict)))"
   ]
  },
  {
   "cell_type": "code",
   "execution_count": 18,
   "metadata": {},
   "outputs": [
    {
     "data": {
      "text/plain": [
       "['2in1', 'coffee', 'powder', 'with', 'creamer']"
      ]
     },
     "execution_count": 18,
     "metadata": {},
     "output_type": "execute_result"
    }
   ],
   "source": [
    "LemNormalize(sent_tokens[0])"
   ]
  },
  {
   "cell_type": "code",
   "execution_count": 19,
   "metadata": {},
   "outputs": [],
   "source": [
    "word_tokens2 = []\n",
    "for s in sent_tokens:\n",
    "    word_tokens2 += LemNormalize(s)"
   ]
  },
  {
   "cell_type": "code",
   "execution_count": 48,
   "metadata": {},
   "outputs": [],
   "source": [
    "from nltk.corpus import stopwords\n",
    "listStopWords = stopwords.words()\n",
    "word_tokens2  = [word for word in word_tokens2 if word.lower() not in listStopWords]"
   ]
  },
  {
   "cell_type": "code",
   "execution_count": 49,
   "metadata": {},
   "outputs": [
    {
     "name": "stdout",
     "output_type": "stream",
     "text": [
      "<FreqDist with 2009 samples and 13539 outcomes>\n"
     ]
    }
   ],
   "source": [
    "from nltk.book import FreqDist\n",
    "freqDist = FreqDist(word_tokens2)\n",
    "print(freqDist)"
   ]
  },
  {
   "cell_type": "code",
   "execution_count": 22,
   "metadata": {},
   "outputs": [
    {
     "name": "stdout",
     "output_type": "stream",
     "text": [
      "<class 'dict_keys'>\n",
      "\n"
     ]
    }
   ],
   "source": [
    "words = freqDist.keys()\n",
    "print(type(words))\n",
    "print()"
   ]
  },
  {
   "cell_type": "code",
   "execution_count": 23,
   "metadata": {},
   "outputs": [
    {
     "name": "stdout",
     "output_type": "stream",
     "text": [
      "['2in1', 'coffee', 'powder', 'creamer', 'sugar', '3', '1', 'ready', 'drink', 'instant', '3in1', 'cereal', 'low', 'fat', 'hcs', 'tea', '4', 'brown', 'rice', '6inch', 'hearty', 'italian', 'bread', 'subway', 'honey', 'oat', 'white', 'parmesan', 'oregano', 'wheat', 'sandwich', 'bmt', 'meatball', 'marinara', 'oven', 'roasted', 'chicken', 'breast', 'roast', 'beef', 'spicy', 'steak', 'cheese', 'club', 'melt', 'sweet', 'onion', 'teriyaki', 'tuna', 'turkey', 'veggie', 'delite', 'abalone', 'noodle', 'soup', 'canned', 'brine', 'drained', 'dried', 'raw', 'abok', 'sago', 'acai', 'bowl', 'achar', 'african', 'bream', 'fried', 'chilli', 'agaragar', 'plain', 'agedeshi', 'tofu', 'aiyu', 'dessert', 'red', 'bean', 'topping', 'ajinomoto', 'msg', 'allspice', 'ground', 'almond', 'jelly', 'paste', 'aloe', 'vera', 'amocan', 'singapore', 'rendang', 'anchovy', 'oil', 'peanut', 'fresh', 'whole', 'minus', 'head', 'entrail', 'ang', 'koo', 'kueh', 'green', 'fillling', 'filling', 'anise', 'seed', 'apple', 'dipper', 'caramel', 'sauce', 'mcdonalds', 'crumble', 'juice', 'added', 'pie', 'strudel', 'peel', 'core', 'stalk', 'stewed', 'without', 'unspecified', 'type', 'skin', 'apricot', 'nectar', 'artificially', 'sweetened', 'liquid', 'pear', 'syrup', 'aquaresin', 'garlic', 'artificial', 'sweetener', 'aspartame', 'saccharin', 'arugula', 'asparagus', 'solid', 'assam', 'buoy', 'fish', 'petai', 'malay', 'prawn', 'athirasam', 'deep', 'avocado', 'milk', 'commercial', 'variety', 'ayam', 'buah', 'keluak', 'kurmah', 'masak', 'lemak', 'cili', 'padi', 'merah', 'panggang', 'penyet', 'sioh', 'tempra', 'bbq', 'bacon', 'double', 'cheeseburger', 'burger', 'king', 'bk', 'big', 'baby', 'corn', 'ball', 'cooked', 'baked', 'panfried', 'bagel', 'bak', 'kua', 'pork', 'lean', 'vegetarian', 'kut', 'durian', 'mooncake', 'lapis', 'lotus', 'otah', 'bun', 'baking', 'doubleacting', 'soda', 'bakwan', 'kepiting', 'bamboo', 'shoot', 'coconut', 'braised', 'pickled', 'ban', 'mian', 'banana', 'pisang', 'nangka', 'rajah', 'udang', 'rastali', 'tanduk', 'cake', 'chip', 'flower', 'fritter', 'bandung', 'barbecued', 'wing', 'spare', 'rib', 'spring', 'barfi', 'barilla', 'arrabbiata', 'napoletana', 'barley', 'water', 'pearl', 'basan', 'base', 'flavour', 'natural', 'shrimp', 'basil', 'crayfish', 'pasta', 'pizzahut', 'dry', 'bass', 'sharptooth', 'batang', 'bathusa', 'batter', 'mix', 'baulu', 'cermai', 'bay', 'leaf', 'fermented', 'sprout', 'broad', 'boiled', 'beancurd', 'preserved', 'coated', 'satay', 'black', 'mature', 'salt', 'four', 'angled', 'french', 'hyacinth', 'immature', 'kidney', 'navy', 'soya', 'beansprouts', 'salted', 'stir', 'mung', 'bee', 'hoon', 'soto', 'bolognese', 'goulash', 'lasagne', 'taco', 'bento', 'egg', 'porridge', 'kway', 'teow', 'banh', 'broth', '2018', 'hor', 'fun', 'tomato', 'patty', 'pho', 'serunding', 'shin', 'vegetable', 'stomach', 'udon', 'blade', 'grilled', 'boneless', 'cut', 'brisket', 'corned', 'chuck', 'simmered', 'turmeric', 'ginger', 'fillet', 'style', 'liver', 'minced', 'regular', 'ribeye', 'round', 'rump', 'silverside', 'semitrimmed', 'sirloin', 'pan', 'topside', 'leek', 'oyster', 'snow', 'pea', 'button', 'mushroom', 'spice', 'indian', 'wrapped', 'pepper', 'beehoon', 'goreng', 'cuttlefish', 'kangkong', 'beer', 'lager', 'light', 'malt', 'beetroot', 'halwa', 'peeled', 'belacan', 'belimbi', 'benedictine', 'dom', 'bengka', 'ambon', 'bergedil', 'betel', 'bhatura', 'bibigo', 'sliced', 'kimchi', 'bibimbap', 'bidaran', 'breakfast', 'bigeye', 'scad', 'bingka', 'pulot', 'tepung', 'beras', 'ubi', 'kayu', 'ubikayu', 'gula', 'bingsu', 'fruit', 'binjai', 'birdnest', 'soaked', 'biscuit', 'japanese', 'popeyes', 'alphabet', 'chocolate', 'nut', 'sandwiched', 'cream', 'chocolatecoated', 'filled', 'cracker', 'old', 'finger', 'flavoured', 'gram', 'iced', 'jamfilled', 'lemon', 'puff', 'macaroon', 'marie', 'oatmeal', 'ovaltine', 'jam', 'butter', 'savoury', 'cheeseflavoured', 'rye', 'crispbread', 'salada', 'wholemeal', 'shortbread', 'sultana', 'wheatmeal', 'vanilla', 'wafer', 'high', 'calcium', 'icing', 'top', 'bitter', 'gourd', 'gravy', 'carrot', 'herbal', 'beverage', 'crab', 'pomfret', 'blackberry', 'blood', 'dark', 'bloody', 'mary', 'blue', 'elephant', 'royal', 'thai', 'cuisine', 'hot', 'curry', 'blueberry', 'waffle', 'luo', 'bao', 'pineapple', 'intestine', 'clam', 'shell', 'crocodile', 'meat', 'kampung', 'potato', 'bologna', 'mildly', 'seasoned', 'cured', 'pre', 'bombay', 'original', 'boonthi', 'bragg', 'amino', 'tendon', 'skinless', 'cucumber', 'duck', 'foot', 'gizzard', 'tongue', 'yam', 'large', 'lung', 'mixed', 'pig', 'trotter', 'taucheo', 'fungus', 'chinese', 'cabbage', 'small', 'taupok', 'brandy', 'roll', 'soft', 'toasted', 'butterscotchflavoured', 'focaccia', 'sundried', 'multigrain', 'bran', 'pita', 'raisin', 'ryemeal', 'aerated', 'protein', 'fibre', 'increased', 'bakery', 'shop', 'whitemeal', 'enriched', 'walnut', 'breadcrumb', 'breadfruit', 'contains', 'grain', 'wholegrain', 'fruitsnuts', 'threadfin', 'brewed', 'brinjal', 'pachadi', 'deepfried', 'broccoli', 'laksa', 'yellow', 'brussel', 'bubble', 'bubor', 'cha', 'bubur', 'kanji', 'terigu', 'bulgar', 'bulgogi', 'gimbap', 'korean', 'bulgur', 'cinnamon', 'custard', 'glazed', 'melon', 'floss', 'sausage', 'steamed', 'sugared', 'susi', 'mac', 'whopper', 'toast', 'canola', 'spread', 'reduced', '44', 'cooky', 'unsalted', 'butterfly', 'cookie', 'buttermilk', 'celery', 'straight', 'cylindrical', 'common', 'pekinese', 'caesar', 'salad', 'cafe', '26', 'oriental', 'dressing', 'tangy', 'forest', 'frosting', 'homemade', 'uniced', 'sponge', 'candy', 'bar', 'creamywhite', 'rabbit', 'sesame', 'luncheon', 'sardine', 'cappucino', 'colour', 'macchiato', 'confectionery', 'caraway', 'carbonara', 'cardamon', 'carp', 'javanese', 'freshwater', 'grass', 'carrageenan', 'gum', 'mashed', 'cauliflower', 'dehydrated', 'orange', 'cashew', 'casserole', 'castella', 'catfish', 'eel', 'giant', 'river', 'masala', 'cayenne', 'century', 'puffed', 'cocoa', 'coating', 'flake', 'pellet', 'readytoeat', 'muesli', 'chai', 'champagne', 'champignon', 'heated', 'chao', 'san', 'sheng', 'chapati', 'char', 'siew', 'chee', 'cheong', 'soh', 'chasoba', 'chawamushi', 'pah', 'tart', 'fiesta', 'foam', '0', 'liho', 'prata', 'bomb', 'slice', 'spreadcheddar', 'taiyaki', 'uncooked', 'neufchatel', 'vein', 'brie', 'camembert', 'cheddar', 'processed', 'cheedam', 'cheshire', 'colby', 'cottage', 'creamed', 'cotto', 'edam', 'gloucester', 'gouda', 'haloumy', 'havarti', 'mozzarella', 'nimbin', 'pecorino', 'pepato', 'pizza', 'provolone', 'quark', 'raclette', 'ricotta', 'romano', 'samsue', 'steppen', 'swiss', 'tilsit', 'cheesecake', 'cheesy', 'meltz', 'kfc', 'chendol', 'mango', 'cheng', 'tng', 'cherry', 'chic', '10', 'crispy', 'thin', 'chick', 'hut', 'drumlets', 'tender', 'crepe', 'briyani', 'burrito', 'chop', 'croquette', 'frank', 'katsu', 'omurice', 'kurma', 'macaroni', 'murtabak', 'chowder', 'nns', 'nugget', 'opor', 'pau', 'plank', 'dinner', 'long', 'john', 'silver', 'pongteh', 'pratal', 'removed', 'sambal', 'stock', 'thigh', 'tikka', 'breaded', 'quarter', 'rotisseried', 'recipe', 'battered', 'broiler', 'fryer', 'drumstick', 'colonel', 'strip', 'flour', 'ran', 'w', 'breading', 'heart', 'tonic', 'leg', 'matured', 'dressed', 'carcass', 'neck', 'unspec', 'tip', 'capsicum', 'nutmeg', 'chickpea', 'bottle', 'soyabean', 'chin', 'lok', 'china', 'mutton', 'rojak', 'chipotle', 'southwest', 'jackfruit', 'sunchips', 'harvest', 'chirashi', 'chive', 'chunk', 'croissant', 'lava', 'doughnut', 'burfi', 'frappuccino', 'whipped', 'eclair', 'muffin', 'sprinkle', 'choko', 'choy', 'sum', 'chrysanthemum', 'garland', 'churros', 'chutney', 'coriander', 'chwee', 'chye', 'sim', 'ciku', 'cilantro', 'citric', 'acid', 'anhydrous', 'citrus', 'carbonated', 'cj', 'claypot', 'fishchicken', 'clove', 'coca', 'cola', 'coke', 'cockle', 'icecream', 'pong', 'gelato', 'flesh', 'young', 'tutu', 'mee', 'chang', 'fluid', 'first', 'squeeze', 'second', 'grated', 'desiccated', 'cod', 'coral', 'smoked', 'stripe', 'liqueur', 'decaffeinated', 'latte', 'full', 'cokodok', 'coleslaw', 'coleus', 'tuberosus', 'colouring', 'powdered', 'thick', 'milkshake', 'concentrated', 'jellyfish', 'cornflake', 'brownie', 'commercially', 'prepared', 'cordial', 'blackcurrant', '25', 'diluted', 'undiluted', '40', 'lime', '15', 'cup', '3oz', '45oz', 'barbecue', 'pancake', 'snack', 'starch', 'stick', 'cob', 'bluesea', 'crabmeat', 'sprinkled', 'cranberry', 'concentrate', 'based', 'dip', 'extract', 'pure', 'sour', 'whipping', 'dairy', 'creamy', 'claw', 'crouton', 'crystal', 'dumpling', 'hairy', 'cucur', 'badak', 'cultured', 'cumin', 'cummin', 'cupcake', 'curd', 'cow', 'zazzle', 'yoghurt', 'eggplant', 'dhal', 'lamb', 'frozen', 'twisted', 'pumpkin', 'mackerel', 'use', 'daging', 'kambing', 'rempah', 'dahi', 'bhalla', 'daiquiri', 'dakgalbi', 'danish', 'pastry', 'dao', 'xiao', 'date', 'sotong', 'lard', 'shallot', 'fishcake', 'tempeh', 'wanton', 'deervenison', 'deli', 'dhansak', 'wang', 'belachan', 'digestive', 'dim', 'sharkfin', 'turnip', 'tiao', 'dodol', 'berdurian', 'donut', 'pounder', 'dough', 'yeast', 'dragonfruit', 'draught', 'thousand', 'island', 'ee', 'flavor', 'dripping', 'drunken', 'sherry', 'confit', 'kiam', 'domesticated', 'lettuce', 'duku', 'durain', 'ice', 'kacang', 'pudding', 'malaysian', 'midrange', 'easy', 'economic', 'mcmuffin', 'banjo', 'foo', 'yong', 'mayonnaise', 'yolk', 'goose', 'hen', 'poached', 'scrambled', 'hard', 'lower', 'cholesterol', 'quail', 'turtle', 'tempura', 'pureed', 'restaurant', 'benedict', 'emping', 'muda', 'emulsifier', 'food', 'endive', 'ensure', 'life', 'escargot', 'espresso', 'essence', 'peach', 'farm', 'fast', 'tossed', 'featherback', 'fennel', 'fenugreek', 'fig', 'filetofish', 'firni', 'zinger', 'pok', 'foochow', 'spirulina', 'cutlet', 'pedas', 'maw', 'ngoh', 'hiang', 'roe', 'platter', 'bladder', 'crumbed', 'goa', 'ceylonese', 'tamarind', 'five', 'shark', '0706', 'hg', '0700', 'arrowroot', 'atta', 'besan', 'gluten', 'glutinous', 'soyafluff', 'tapioca', 'self', 'raising', 'frankfurter', 'precooked', 'fry', 'medium', 'mo', 'made', '2', 'squid', 'ring', 'ebi', 'tested', 'set', 'hong', 'kong', 'khun', 'neng', 'siam', 'mock', 'okra', 'szechuan', 'spiced', 'seafood', 'mussel', 'tang', 'tau', 'kwa', 'samosa', 'frog', 'froot', 'loop', 'kellogg', 'punch', 'heavy', 'gado', 'game', 'boar', 'wild', 'garam', 'garoupa', 'getuk', 'ghee', 'gin', 'gingko', 'ginseng', 'american', 'imperial', 'glass', 'glaze', 'glucolin', 'glucose', 'goat', 'goby', 'golden', 'kiwi', 'gouramy', 'snakeskin', 'bitterboiled', 'snake', 'wax', 'granola', 'quaker', 'grape', 'grapefruit', 'pack', 'pink', 'area', 'rebus', 'served', 'roti', 'canai', 'mochi', 'grey', 'mullet', 'wrap', 'salmon', 'broccolli', 'stingray', 'grouper', 'greasy', 'grunter', 'guava', 'skinned', 'melaka', 'gulab', 'jamun', 'chewing', 'xanthan', 'gyoza', 'hair', 'moss', 'hairtail', 'vinegar', 'halibut', 'peng', 'chopped', 'noncanned', 'shoulder', 'hamburger', 'gow', 'harum', 'manis', 'hash', 'hashima', 'doubled', 'haw', 'hawaiian', '12', '9', 'swensens', 'hee', 'keow', 'heinz', 'premium', 'horseradish', 'herbalife', 'nutritional', 'shake', 'herring', 'wolf', 'hog', 'plum', 'hokkien', 'mustard', 'free', 'dew', 'smack', 'mc', 'donalds', 'honeydew', 'egglets', 'kuih', 'horlick', 'dinosaur', 'hoshisoba', 'plate', 'hotcake', 'hotplate', 'venison', 'huai', 'huat', 'hum', 'hummus', 'hush', 'puppy', 'hydrolysed', 'cone', 'strawberry', 'sundae', 'fudge', 'selashi', 'kachang', 'limau', 'lolly', 'soursop', 'sweetcorn', 'longan', 'lychee', 'idli', 'ikan', 'bilis', 'bone', 'imitation', 'scallop', 'ipoh', 'isolated', 'isotonic', 'itik', 'potong', 'jajangmyeon', 'jalebi', 'berry', 'kaya', 'stone', 'jangri', 'ramen', 'shio', 'shoyu', 'japchae', 'jemput', 'jew', 'ear', 'jewfish', 'sparkling', 'unsweetened', 'bottled', 'prune', 'popcorn', 'pool', 'kale', 'kantan', 'katsuofuridashi', 'kebab', 'kee', 'kei', 'kembong', 'kesari', 'keseri', 'ketupat', 'kheema', 'kissing', 'kiwifruit', 'yen', 'konjac', 'kopi', 'siu', 'stew', '2011', '2017', 'ku', 'ongol', 'bahulu', 'bugis', 'dadar', 'kasturi', 'swee', 'surabaya', 'lope', 'pulut', 'makmur', 'pietee', 'rose', 'sarlat', 'talam', 'apam', 'hangus', 'bakul', 'bangkit', 'sagu', 'bawang', 'rotan', 'kapit', 'karas', 'kastad', 'jagung', 'keria', 'ketayap', 'koci', 'hitam', 'putih', 'lepat', 'lidah', 'kucing', 'lompang', 'mysore', 'pakoda', 'peneram', 'sri', 'muka', 'seri', 'telur', 'labah', 'kuini', 'kundur', 'candied', 'kung', 'chap', 'laddu', 'tauhu', 'peratal', 'rolled', 'stuffed', 'chump', 'midloin', 'ribloin', 'shank', 'langsat', 'lasagnelasagna', 'lassi', 'seasoning', 'flavouring', 'lemonade', 'lengat', 'lengkuas', 'lentil', 'spinach', 'iceburg', 'licorice', 'lily', 'bud', 'musk', 'liquorice', 'liu', 'sha', 'lobster', 'hotdog', 'loh', 'fan', 'longbeans', 'longtail', 'shad', 'lontong', 'loofah', 'smooth', 'loquat', 'kai', 'new', 'root', 'loveletter', 'alcohol', 'alcoholic', 'fortified', 'lowfat', 'guo', 'xiang', 'macadamia', 'unenriched', 'mace', 'spanish', 'barred', 'maize', 'makhani', 'mamee', 'mandarin', 'pomelo', 'mangosteen', 'manhattan', 'mapo', 'margarine', 'monounsaturated', 'polyunsaturated', 'cooking', 'nonchilled', 'marmalade', 'marshmallow', 'marzipan', 'mata', 'kuching', 'mcchicken', 'mccormick', 'buffalo', 'mcflurry', 'oreo', 'mcspicy', 'mcwings', 'mdh', 'pav', 'bhaji', 'galore', 'meatloaf', 'mamak', 'kuah', 'mekhala', 'lemongrass', 'meringue', 'commerial', 'skimmedlow', '100', 'condensed', 'uht', 'malted', 'packet', 'evaporated', 'skimmed', 'millet', 'milo', 'godzilla', 'australia', 'easycool', 'readytodrink', 'preseved', 'mini', 'boat', 'miso', 'bhujjia', 'mizkan', 'wafu', 'flavored', 'yuzu', 'kuo', 'mocha', 'modified', 'waxy', 'mollusk', 'specie', 'two', 'moonfish', 'muah', 'englishstyle', 'english', 'mui', 'mulberry', 'bluetail', 'murukku', 'readytoserve', 'risotto', 'shitake', 'straw', 'mushrooom', 'stem', 'highland', 'lowland', 'dalcha', 'kofta', 'vindaloo', 'mysorepak', 'naan', 'nasi', 'dagang', 'sayur', 'kunyit', 'minyak', 'pattaya', 'rawan', 'nata', 'coco', 'nectarine', 'item', 'nian', 'gao', 'noni', 'nonya', 'flavourwith', 'tanmen', 'wet', 'nougat', 'nutrifos', '088', 'sodium', 'tripolyphosphate', 'nutrigrain', 'blanched', 'brazil', 'unblanched', 'candlenut', 'chestnut', 'hazelnut', 'oilroasted', 'pine', 'pistachio', 'tinned', 'ocean', 'catch', 'octopus', 'mufa', 'pufa', 'sfa', 'unspecificed', 'blended', 'healthier', 'hawker', 'olive', 'blend', 'sunflower', 'grapeseed', 'palm', 'crude', 'olein', 'safflower', 'thyme', 'okonomiyaki', 'omelette', 'sharksfin', 'omu', 'home', 'squeezed', 'navel', 'washington', 'valencia', 'junior', 'ostrich', 'loin', 'otak', 'ox', 'tail', 'oyakodon', 'chow', 'paal', 'kova', 'pacific', 'organic', 'range', 'packing', 'pad', 'painted', 'sweetlip', 'tong', 'koh', 'crust', 'pandan', 'chiffon', 'paneer', 'pakora', 'papa', 'alfredo', 'papadum', 'papaya', 'exotica', 'hawaii', 'paper', 'thosai', 'paprika', 'oleoresin', 'parathas', 'parfait', 'parsley', 'paru', 'passion', 'hainanese', 'shortcrust', 'pate', 'foie', 'payasam', 'pilaf', 'peached', 'puree', 'sulfured', 'prickly', 'yellowbrown', 'garden', 'unbattered', 'pecan', 'pectin', 'peking', 'penang', 'pepperoni', 'perch', 'climbing', 'persimmon', 'pickle', 'relish', 'picnic', 'organ', 'brain', 'pancreas', 'pigeon', 'pikelet', 'homeprepared', 'sarawak', 'supreme', 'personal', 'super', 'pesto', 'aglio', 'poke', 'pomegranate', 'tandoori', 'pomodoro', 'piah', 'ponyfish', 'cammon', 'pop', 'buttered', 'unpopped', 'popiah', 'circular', 'shape', 'spaghetti', 'radish', 'belly', '50', 'trimmed', '75', 'centre', 'cubed', 'forequarter', 'medallion', 'waxed', 'port', 'portuguese', 'ovenfried', 'packaged', 'processing', 'purchased', 'pound', 'pow', 'gelatine', 'unflavoured', 'sifted', 'olio', 'cocktail', 'stirfried', 'pretzel', 'psyllium', 'husk', 'puding', 'pulasan', 'pulled', 'inti', 'serikaya', 'squash', 'kernals', 'kernel', 'pung', 'puri', 'putu', 'bambu', 'mayam', 'piring', 'queenfish', 'quiche', 'quince', 'quinoa', 'rabbitfish', 'streaked', 'ragu', 'rainbow', 'seedless', 'rambai', 'rambutan', 'rasberry', 'rasgulla', 'rasmalai', 'raspberry', 'rawa', 'bull', 'ruby', 'snapper', 'tilapia', 'wine', 'rempeyek', 'hati', 'rhubarb', 'ribbonfish', 'coarse', 'extruded', 'fine', 'kheer', 'broken', 'longgrain', 'parboiled', 'unpolished', 'roasta', 'suckling', 'rockmelon', 'rohu', 'rokam', 'roller', 'float', 'rosti', 'jala', 'rum', 'saba', 'saffron', 'sake', 'chef', 'salak', 'salami', 'australian', 'brinedrained', 'salsa', 'pansalt', 'table', 'salty', 'sah', 'taukwa', 'lala', 'sambar', 'remo', 'undrained', 'hoisin', 'tabasco', 'tartar', 'worcestershire', 'lea', 'perrins', 'mcgriddle', 'individual', 'size', 'eat', 'cabanossi', 'smoke', 'linked', 'lodeh', 'finlet', 'yellowtail', 'scone', 'screwdriver', 'cock', 'pike', 'blunt', 'jawed', 'paella', 'assorted', 'tom', 'yum', 'seaweed', 'cempedak', 'poppy', 'watermelon', 'semolina', 'slender', 'shanghai', 'fin', 'shepherd', 'shibuya', 'shishamo', 'semidried', 'kia', 'shrooms', 'sickle', 'spotted', 'consist', 'largely', 'fatty', 'whiting', 'skinny', 'smoothy', 'snail', 'snakehead', 'striped', 'russell', 'benzoate', 'softmeal', 'sohn', 'papadi', 'sole', 'sooji', 'soon', 'sorbet', 'sorbitol', 'samsui', 'herb', 'main', 'meal', 'minestrone', 'resum', 'sheet', 'strand', 'soyabeans', 'spectrum', 'orient', 'trio', 'ceylon', 'spirit', 'trevally', 'chocolateflavoured', 'marmite', 'vegemite', 'starfruit', 'carambola', 'starry', 'triggerfish', 'mantou', 'kow', 'bittergourd', 'fuchok', 'dou', 'miao', 'kailan', 'nai', 'bai', 'powdercube', 'shortcake', 'suan', 'fen', 'cane', 'rock', 'fusion', 'suji', 'sup', 'tulang', 'surimi', 'finfish', 'sushi', 'california', 'futomaki', 'ondeh', 'ginkgo', 'swordfish', 'maple', 'refiner', 'sze', 'chaun', 'tahini', 'taho', 'blachanhcs', 'taiwanese', 'tamarillo', 'gui', 'tanghoon', 'tangyuen', 'tao', 'tapai', 'taro', 'tarragon', 'bubblepassion', 'infusion', 'chamomile', 'kosong', 'halia', 'tarik', 'teochew', 'teppanyaki', 'bungkus', 'tequila', 'sunrise', 'textured', 'heritage', 'thairu', 'thread', 'beam', 'threadfinwhole', 'thunder', 'tiramisu', 'bandito', 'pocket', 'toman', 'chong', 'butterscotch', 'tortilla', 'nacho', 'readytobake', 'traditional', 'bolognaise', 'treacle', 'malabar', 'banded', 'tropical', 'truffle', 'tumpi', 'little', 'sashimi', 'class', 'fryerroasters', 'unagi', 'vadai', 'kuning', 'vanaspati', 'bit', 'veal', '50trimmed', '75trimmed', 'umian', 'shortening', 'leafy', 'nonleafy', 'pale', 'lover', 'vetsin', 'monosodium', 'glutamate', 'vietnamese', 'balsamic', 'cider', 'violet', 'vodka', 'vongole', 'wajik', 'contain', 'warabi', 'wasabi', 'convulvolus', 'mineral', 'waterchestnut', 'watercress', 'jambu', 'weetbix', 'germ', 'unprocessed', 'wheatgrass', 'whey', 'whisky', 'macademia', 'pregelatinized', 'whitebait', 'trumpeter', 'wife', 'cooler', 'time', 'winglets', 'winter', 'wintermelon', 'woh', 'hup', 'marinade', 'wolfberry', 'wu', 'xxl', 'wan', 'seafoodmeat', 'yaki', 'yakitori', 'brewer', 'grit', 'dahl', 'fusilier', 'nonfat', 'bengal', 'fishmeat', 'taukee', 'included', 'yu', 'zha', 'jiang', 'burgerkfc', 'zucchini', 'twister', 'soba', 'serve', 'prosciutto', 'paleo', 'yogurt', 'overnight', 'smoothie', 'swirl', 'blueberrybanana', 'buckwheat', 'german', 'practical', 'swirly', 'crustless', 'caramelized', 'frittata', 'chia', 'omelet', 'flax', 'skillet', 'taquitos', 'fluffy', 'vegan', 'coconutchia', 'heuvos', 'rancheros', 'diced', 'cobbler', 'vega', 'jar', 'soymilk', 'scramble', 'gingerbread', 'tomatillo', 'denver', 'yummy', 'chunky', 'monkey', 'power', 'chorizo', 'margherita', 'carb', 'lasagna', 'bake', 'best', 'keto', 'mexican', 'antiinflammatory', 'philly', 'cheesesteak', 'breyani', 'burgundy', 'filet', 'hoisinmarinated', 'tritip', 'basic', 'panroasted', 'pineapplechile', 'panko', 'crusted', 'saltimbocca', 'butternut', 'cordon', 'bleu', 'slowroasted', 'chile', 'dill', 'bilbaostyle', 'fenneldusted', 'caper', 'smoky', 'greekspiced', 'browned', 'vinaigrette', 'sauteed', 'scallion', 'orzo', 'mahimahi', 'openface', 'kielbasa', 'pineappleglazed', 'chilecaper', 'broiled', 'chimichurri', 'cornichons', 'seared', 'flounder', 'orangeshallot', 'healthy', 'misoglazed', 'dynamite', 'chili', 'piccata', 'snap', 'pressure', 'cooker', 'onepan', 'clean', 'eating', 'pao', 'edamame', 'skordalia', 'moroccan', 'bangladeshistyle', 'korma', 'crockpot', 'paprikash', 'calorie', 'coq', 'vin', 'fiveminute', 'quick', 'asian', 'bok', 'shiitake', 'pounded', 'mediterranean', 'caprese', 'crock', 'wih', 'curried', 'blackened', 'tenderloin', 'cilantrolime', 'sticky', 'rosemary', 'foil', 'bed', 'crescent', 'tuscan', 'papillote', 'ovenroasted']\n"
     ]
    }
   ],
   "source": [
    "wordsList = list(freqDist.keys())\n",
    "print(wordsList)"
   ]
  },
  {
   "cell_type": "code",
   "execution_count": 24,
   "metadata": {},
   "outputs": [
    {
     "data": {
      "image/png": "[encoded data removed]",
      "text/plain": [
       "<Figure size 432x288 with 1 Axes>"
      ]
     },
     "metadata": {
      "needs_background": "light"
     },
     "output_type": "display_data"
    },
    {
     "data": {
      "text/plain": [
       "<matplotlib.axes._subplots.AxesSubplot at 0x23e2fc55c50>"
      ]
     },
     "execution_count": 24,
     "metadata": {},
     "output_type": "execute_result"
    }
   ],
   "source": [
    "freqDist.plot(30)"
   ]
  },
  {
   "cell_type": "code",
   "execution_count": 25,
   "metadata": {},
   "outputs": [
    {
     "name": "stdout",
     "output_type": "stream",
     "text": [
      "[('raw', 490), ('chicken', 301), ('fried', 263), ('lean', 192), ('pork', 166), ('beef', 146), ('soup', 129), ('fat', 123), ('fish', 121), ('canned', 116), ('sauce', 113), ('milk', 105), ('rice', 103), ('bean', 103), ('dried', 102), ('boiled', 97), ('cheese', 92), ('egg', 88), ('noodle', 78), ('stir', 73), ('cream', 73), ('vegetable', 72), ('juice', 71), ('coconut', 71), ('curry', 69), ('cooked', 68), ('grilled', 68), ('skin', 67), ('steak', 63), ('red', 60)]\n"
     ]
    }
   ],
   "source": [
    "from collections import Counter\n",
    "wordsCount = Counter(word_tokens3)\n",
    "print(wordsCount.most_common(30))"
   ]
  },
  {
   "cell_type": "code",
   "execution_count": 50,
   "metadata": {},
   "outputs": [
    {
     "name": "stdout",
     "output_type": "stream",
     "text": [
      "{'raw': 490, 'chicken': 301, 'fried': 263, 'lean': 192, 'pork': 166, 'beef': 146, 'soup': 129, 'fat': 123, 'fish': 121, 'canned': 116, 'sauce': 113, 'milk': 105, 'rice': 103, 'bean': 103, 'dried': 102, 'boiled': 97, 'cheese': 92, 'egg': 88, 'noodle': 78, 'stir': 73, 'cream': 73, 'vegetable': 72, 'juice': 71, 'coconut': 71, 'curry': 69, 'cooked': 68, 'grilled': 68, 'skin': 67, 'steak': 63, 'red': 60, 'green': 59, 'powder': 58, 'white': 58, 'prawn': 56, 'baked': 56, 'potato': 56, 'sweet': 55, 'unspecified': 55, 'commercial': 55, 'nut': 55, 'sugar': 54, 'chocolate': 53, 'biscuit': 52, 'paste': 51, 'seed': 51, 'deep': 50, 'cake': 50, 'bread': 49, 'drained': 49, 'without': 48, 'chop': 47, 'oil': 45, 'mushroom': 45, 'pizza': 45, 'subway': 44, 'chilli': 44, 'meat': 44, 'peanut': 43, 'burger': 43, 'black': 42, 'style': 41, 'steamed': 41, 'mcdonalds': 40, 'tomato': 40, 'dry': 39, 'soya': 39, 'roasted': 38, 'syrup': 38, 'tea': 37, 'braised': 37, 'fruit': 37, 'roll': 36, 'salad': 36, 'veal': 36, 'plain': 35, 'ball': 35, 'kfc': 35, 'drink': 34, 'duck': 34, 'chinese': 34, 'leg': 34, 'lamb': 34, 'whole': 33, 'salt': 33, 'mee': 33, 'ice': 33, 'rib': 32, 'pig': 32, 'hcs': 31, 'cut': 31, 'indian': 31, 'onion': 30, 'kueh': 30, 'bun': 30, 'kuih': 30, 'instant': 29, 'butter': 29, 'long': 29, 'salmon': 29, 'trimmed': 29, 'tofu': 28, 'boneless': 28, 'breakfast': 28, 'flour': 28, 'breast': 27, 'filling': 27, 'salted': 27, 'fresh': 26, 'hoon': 26, 'minced': 26, 'mixed': 26, 'mutton': 26, 'prepared': 26, 'frozen': 26, 'tuna': 25, 'stewed': 25, 'shrimp': 25, 'porridge': 25, 'cabbage': 25, 'sausage': 25, 'dressing': 25, 'low': 24, 'spicy': 24, 'apple': 24, 'king': 24, 'chip': 24, 'french': 24, 'gravy': 24, 'reduced': 24, 'malay': 23, 'corn': 23, 'banana': 23, 'pasta': 23, 'sushi': 23, 'sandwich': 22, 'wing': 22, 'orange': 22, 'pepper': 21, 'carrot': 21, 'hot': 21, 'pineapple': 21, 'crispy': 21, 'silver': 21, 'seafood': 21, 'spinach': 21, 'topping': 20, 'pear': 20, 'vegetarian': 20, 'leaf': 20, 'peeled': 20, 'lemon': 20, 'sambal': 20, 'brown': 19, '6inch': 19, 'turkey': 19, 'added': 19, 'type': 19, 'garlic': 19, 'flavour': 19, 'oyster': 19, 'flavoured': 19, 'original': 19, 'john': 19, 'cereal': 18, 'simmered': 18, 'regular': 18, 'tau': 18, 'coffee': 17, 'honey': 17, 'sweetened': 17, 'lotus': 17, 'preserved': 17, 'bee': 17, 'liver': 17, 'pan': 17, 'pea': 17, 'puff': 17, 'yam': 17, 'mango': 17, 'dumpling': 17, 'oat': 16, 'mix': 16, 'cuttlefish': 16, 'drumstick': 16, 'yoghurt': 16, 'wheat': 15, 'ground': 15, 'water': 15, 'pizzahut': 15, 'satay': 15, 'ginger': 15, 'wholemeal': 15, 'dark': 15, 'mackerel': 15, 'foo': 15, 'yong': 15, 'fry': 15, 'nasi': 15, '50': 15, 'jelly': 14, 'pickled': 14, 'mian': 14, 'kway': 14, 'japanese': 14, 'cracker': 14, 'crab': 14, 'korean': 14, 'spread': 14, 'sesame': 14, 'siew': 14, 'lime': 14, 'pancake': 14, 'mustard': 14, '75': 14, 'forequarter': 14, 'durian': 13, 'fritter': 13, 'spring': 13, 'goreng': 13, 'cucumber': 13, 'hut': 13, 'flesh': 13, 'abalone': 12, 'bacon': 12, '2018': 12, 'spice': 12, 'thai': 12, 'protein': 12, 'toast': 12, 'cooky': 12, 'char': 12, 'sum': 12, 'sour': 12, 'yolk': 12, 'scallop': 12, 'midloin': 12, 'seasoning': 12, 'wine': 12, 'italian': 11, 'roast': 11, 'head': 11, 'caramel': 11, 'apricot': 11, 'spare': 11, 'teow': 11, 'oatmeal': 11, 'jam': 11, 'vanilla': 11, 'bran': 11, 'laksa': 11, 'bar': 11, 'tart': 11, 'thin': 11, 'muffin': 11, 'claypot': 11, 'eggplant': 11, 'strawberry': 11, 'brine': 10, 'ayam': 10, 'mooncake': 10, 'pearl': 10, 'gourd': 10, 'small': 10, 'grain': 10, 'yellow': 10, 'butterfly': 10, 'battered': 10, 'dim': 10, 'plum': 10, 'margarine': 10, 'omelette': 10, 'pow': 10, 'tangyuen': 10, 'smoothie': 10, 'teriyaki': 9, 'peel': 9, 'liquid': 9, 'assam': 9, 'bak': 9, 'shoot': 9, 'natural': 9, 'basil': 9, 'coated': 9, 'fun': 9, 'corned': 9, 'round': 9, 'silverside': 9, 'savoury': 9, 'herbal': 9, 'pomfret': 9, 'blueberry': 9, 'shell': 9, 'large': 9, 'cinnamon': 9, 'sardine': 9, 'masala': 9, 'uncooked': 9, 'stock': 9, 'thigh': 9, 'jackfruit': 9, 'snack': 9, 'curd': 9, 'pumpkin': 9, 'wanton': 9, 'pudding': 9, 'cutlet': 9, 'ngoh': 9, 'hiang': 9, 'tapioca': 9, 'tang': 9, 'vinegar': 9, 'pulut': 9, 'shank': 9, 'milo': 9, 'home': 9, '3in1': 8, 'bowl': 8, 'dessert': 8, 'almond': 8, 'rendang': 8, 'avocado': 8, 'pisang': 8, 'fermented': 8, 'beancurd': 8, 'fillet': 8, 'sliced': 8, 'scad': 8, 'soaked': 8, 'waffle': 8, 'soft': 8, 'toasted': 8, 'custard': 8, 'cookie': 8, 'luncheon': 8, 'cauliflower': 8, 'cordial': 8, 'pastry': 8, 'mayonnaise': 8, 'hen': 8, 'squid': 8, 'shoulder': 8, 'longan': 8, 'olive': 8, 'spaghetti': 8, 'medallion': 8, 'snapper': 8, '3': 7, 'double': 7, 'mature': 7, 'beer': 7, 'old': 7, 'wafer': 7, 'bubble': 7, 'celery': 7, 'candy': 7, 'freshwater': 7, 'cashew': 7, 'muesli': 7, 'cheddar': 7, 'dinner': 7, 'breaded': 7, 'frappuccino': 7, 'chutney': 7, 'citrus': 7, 'lettuce': 7, 'kacang': 7, 'goose': 7, 'peach': 7, 'tamarind': 7, 'okra': 7, 'kaya': 7, 'stuffed': 7, 'root': 7, 'loin': 7, 'ox': 7, 'yogurt': 7, 'omelet': 7, 'anchovy': 6, 'merah': 6, 'ban': 6, 'crayfish': 6, 'batter': 6, 'sprout': 6, 'beansprouts': 6, 'bento': 6, 'snow': 6, 'light': 6, 'high': 6, 'intestine': 6, 'clam': 6, 'foot': 6, 'fungus': 6, 'fibre': 6, 'increased': 6, 'walnut': 6, 'broccoli': 6, 'flake': 6, 'chee': 6, 'cheong': 6, 'prata': 6, 'crepe': 6, 'katsu': 6, 'nugget': 6, 'recipe': 6, 'fryer': 6, 'heart': 6, 'chickpea': 6, 'chive': 6, 'chye': 6, 'smoked': 6, 'milkshake': 6, 'starch': 6, 'concentrate': 6, 'based': 6, 'extract': 6, 'tempeh': 6, 'easy': 6, 'tempura': 6, 'roe': 6, 'shark': 6, 'glutinous': 6, 'siam': 6, 'mock': 6, 'spiced': 6, 'heavy': 6, 'goat': 6, 'roti': 6, 'guava': 6, 'berry': 6, 'unsweetened': 6, 'kopi': 6, 'spanish': 6, 'skimmed': 6, 'mini': 6, 'nonya': 6, 'chestnut': 6, 'tail': 6, 'papaya': 6, 'supreme': 6, 'pesto': 6, 'radish': 6, 'seaweed': 6, 'leafy': 6, 'parmesan': 5, 'veggie': 5, 'sago': 5, 'bream': 5, 'pie': 5, 'asparagus': 5, 'buah': 5, 'lemak': 5, 'cheeseburger': 5, 'big': 5, 'baby': 5, 'kua': 5, 'bamboo': 5, 'base': 5, 'bass': 5, 'kidney': 5, 'hor': 5, 'patty': 5, 'stomach': 5, 'udon': 5, 'turmeric': 5, 'sirloin': 5, 'topside': 5, 'wrapped': 5, 'beehoon': 5, 'halwa': 5, 'ubi': 5, 'finger': 5, 'gram': 5, 'iced': 5, 'blood': 5, 'seasoned': 5, 'skinless': 5, 'trotter': 5, 'multigrain': 5, 'raisin': 5, 'cha': 5, 'floss': 5, 'whopper': 5, 'carp': 5, 'grass': 5, 'catfish': 5, 'chai': 5, 'slice': 5, 'cottage': 5, '10': 5, 'macaroni': 5, 'nns': 5, 'removed': 5, 'broiler': 5, 'doughnut': 5, 'whipped': 5, 'coriander': 5, 'undiluted': 5, 'dhal': 5, 'xiao': 5, 'food': 5, 'gluten': 5, 'medium': 5, 'ring': 5, 'hong': 5, 'kong': 5, 'szechuan': 5, 'grape': 5, 'grapefruit': 5, 'hamburger': 5, 'sweetcorn': 5, 'lychee': 5, 'bone': 5, 'ramen': 5, 'hitam': 5, 'candied': 5, 'lentil': 5, 'condensed': 5, 'uht': 5, 'evaporated': 5, 'octopus': 5, 'blended': 5, 'super': 5, 'centre': 5, 'quiche': 5, 'quinoa': 5, 'overnight': 5, 'chia': 5, 'scramble': 5, 'keto': 5, 'creamer': 4, 'meatball': 4, 'oven': 4, 'aloe': 4, 'vera': 4, 'stalk': 4, 'artificially': 4, 'variety': 4, 'masak': 4, 'bbq': 4, 'baking': 4, 'soda': 4, 'bandung': 4, 'barbecued': 4, 'broad': 4, 'blade': 4, 'brisket': 4, 'chuck': 4, 'ribeye': 4, 'rump': 4, 'bingka': 4, 'gula': 4, 'sandwiched': 4, 'filled': 4, 'calcium': 4, 'blackberry': 4, 'blue': 4, 'cured': 4, 'gizzard': 4, 'tongue': 4, 'taupok': 4, 'enriched': 4, 'deepfried': 4, 'bulgogi': 4, 'bulgur': 4, 'canola': 4, 'unsalted': 4, 'homemade': 4, 'uniced': 4, 'mashed': 4, 'eel': 4, 'chendol': 4, 'cherry': 4, 'briyani': 4, 'quarter': 4, 'tonic': 4, 'tip': 4, 'capsicum': 4, 'nutmeg': 4, 'soyabean': 4, 'croissant': 4, 'chrysanthemum': 4, 'chang': 4, 'grated': 4, 'cod': 4, 'coleslaw': 4, 'jellyfish': 4, 'diluted': 4, 'cup': 4, 'crabmeat': 4, 'cranberry': 4, 'cumin': 4, 'daging': 4, 'sotong': 4, 'turnip': 4, 'dough': 4, 'yeast': 4, 'ee': 4, 'scrambled': 4, 'hard': 4, 'turtle': 4, 'restaurant': 4, 'fennel': 4, 'maw': 4, 'frankfurter': 4, 'tested': 4, 'set': 4, 'golden': 4, 'pink': 4, 'rebus': 4, 'served': 4, 'hairtail': 4, 'hash': 4, 'free': 4, 'ikan': 4, 'ear': 4, 'popcorn': 4, 'kale': 4, 'siu': 4, 'ribloin': 4, 'polyunsaturated': 4, 'miso': 4, 'flavored': 4, 'english': 4, 'stem': 4, 'sodium': 4, 'hazelnut': 4, 'pistachio': 4, 'blend': 4, 'sunflower': 4, 'ostrich': 4, 'packing': 4, 'thosai': 4, 'pepperoni': 4, 'taukwa': 4, 'tom': 4, 'watermelon': 4, 'fin': 4, 'trevally': 4, 'suan': 4, 'ondeh': 4, 'maple': 4, 'tortilla': 4, 'pale': 4, 'sauteed': 4, 'club': 3, 'delite': 3, 'african': 3, 'nectar': 3, 'keluak': 3, 'panfried': 3, 'lapis': 3, 'udang': 3, 'barley': 3, 'angled': 3, 'soto': 3, 'bolognese': 3, 'banh': 3, 'leek': 3, 'button': 3, 'kangkong': 3, 'kimchi': 3, 'popeyes': 3, 'chocolatecoated': 3, 'icing': 3, 'bitter': 3, 'bao': 3, 'crocodile': 3, 'kampung': 3, 'bologna': 3, 'lung': 3, 'taucheo': 3, 'contains': 3, 'threadfin': 3, 'glazed': 3, 'melon': 3, 'common': 3, 'gum': 3, 'dehydrated': 3, 'casserole': 3, 'giant': 3, 'cocoa': 3, 'coating': 3, 'heated': 3, 'chao': 3, 'soh': 3, '0': 3, 'quark': 3, 'kurma': 3, 'chowder': 3, 'rotisseried': 3, 'w': 3, 'rojak': 3, 'choy': 3, 'sim': 3, 'cilantro': 3, 'cockle': 3, 'gelato': 3, 'fluid': 3, 'liqueur': 3, 'thick': 3, '25': 3, 'barbecue': 3, 'stick': 3, 'dip': 3, 'dairy': 3, 'date': 3, 'shallot': 3, 'dodol': 3, 'thousand': 3, 'island': 3, 'sherry': 3, 'mcmuffin': 3, 'quail': 3, 'essence': 3, 'fig': 3, 'platter': 3, 'mo': 3, 'ebi': 3, 'mussel': 3, 'frog': 3, 'kellogg': 3, 'ghee': 3, 'gingko': 3, 'glass': 3, 'glaze': 3, 'kiwi': 3, 'gouramy': 3, 'snake': 3, 'wax': 3, 'mochi': 3, 'stingray': 3, 'halibut': 3, 'hawaiian': 3, '12': 3, '9': 3, 'shake': 3, 'cone': 3, 'limau': 3, 'soursop': 3, 'bilis': 3, 'bottled': 3, 'prune': 3, 'kei': 3, 'stew': 3, 'rose': 3, 'talam': 3, 'apam': 3, 'jagung': 3, 'telur': 3, 'kung': 3, 'chap': 3, 'tauhu': 3, 'rolled': 3, 'lobster': 3, 'longbeans': 3, 'shad': 3, 'loofah': 3, 'fortified': 3, 'unenriched': 3, 'monounsaturated': 3, 'mizkan': 3, 'wafu': 3, 'modified': 3, 'shitake': 3, 'straw': 3, 'hawker': 3, 'palm': 3, 'thyme': 3, 'otak': 3, 'tong': 3, 'crust': 3, 'pandan': 3, 'parfait': 3, 'puree': 3, 'penang': 3, 'pickle': 3, 'relish': 3, 'aglio': 3, 'popiah': 3, 'belly': 3, 'waxed': 3, 'stirfried': 3, 'squash': 3, 'putu': 3, 'raspberry': 3, 'tilapia': 3, 'rhubarb': 3, 'salsa': 3, 'individual': 3, 'yellowtail': 3, 'spotted': 3, 'skinny': 3, 'sole': 3, 'herb': 3, 'starfruit': 3, 'bittergourd': 3, 'lover': 3, 'wasabi': 3, 'wan': 3, 'yakitori': 3, 'zucchini': 3, 'paleo': 3, 'frittata': 3, '2in1': 2, '1': 2, 'ready': 2, '4': 2, 'hearty': 2, 'oregano': 2, 'marinara': 2, 'melt': 2, 'abok': 2, 'acai': 2, 'entrail': 2, 'ang': 2, 'koo': 2, 'crumble': 2, 'core': 2, 'artificial': 2, 'sweetener': 2, 'petai': 2, 'panggang': 2, 'sioh': 2, 'bagel': 2, 'kut': 2, 'nangka': 2, 'flower': 2, 'barilla': 2, 'four': 2, 'mung': 2, 'taco': 2, 'broth': 2, 'pho': 2, 'semitrimmed': 2, 'malt': 2, 'beetroot': 2, 'belacan': 2, 'bibimbap': 2, 'tepung': 2, 'kayu': 2, 'birdnest': 2, 'ovaltine': 2, 'cheeseflavoured': 2, 'rye': 2, 'crispbread': 2, 'top': 2, 'beverage': 2, 'luo': 2, 'mildly': 2, 'focaccia': 2, 'brewed': 2, 'brinjal': 2, 'bubor': 2, 'bubur': 2, 'gimbap': 2, 'sugared': 2, 'mac': 2, 'cafe': 2, '26': 2, 'sponge': 2, 'colour': 2, 'confectionery': 2, 'carbonara': 2, 'century': 2, 'puffed': 2, 'readytoeat': 2, 'san': 2, 'sheng': 2, 'bomb': 2, 'taiyaki': 2, 'processed': 2, 'mozzarella': 2, 'ricotta': 2, 'swiss': 2, 'cheesecake': 2, 'cheesy': 2, 'cheng': 2, 'tng': 2, 'burrito': 2, 'omurice': 2, 'murtabak': 2, 'tikka': 2, 'breading': 2, 'matured': 2, 'dressed': 2, 'carcass': 2, 'neck': 2, 'unspec': 2, 'bottle': 2, 'southwest': 2, 'sunchips': 2, 'burfi': 2, 'eclair': 2, 'choko': 2, 'garland': 2, 'coca': 2, 'cola': 2, 'pong': 2, 'tutu': 2, 'squeeze': 2, 'coral': 2, 'latte': 2, 'full': 2, 'colouring': 2, 'powdered': 2, 'concentrated': 2, 'brownie': 2, 'blackcurrant': 2, '40': 2, '15': 2, 'cob': 2, 'pure': 2, 'creamy': 2, 'crouton': 2, 'crystal': 2, 'hairy': 2, 'cucur': 2, 'cultured': 2, 'cupcake': 2, 'cow': 2, 'twisted': 2, 'rempah': 2, 'tiao': 2, 'pounder': 2, 'domesticated': 2, 'economic': 2, 'pureed': 2, 'emping': 2, 'emulsifier': 2, 'fast': 2, 'tossed': 2, 'zinger': 2, 'pok': 2, 'pedas': 2, 'hg': 2, 'kwa': 2, 'samosa': 2, 'gado': 2, 'gin': 2, 'ginseng': 2, 'american': 2, 'area': 2, 'canai': 2, 'grey': 2, 'mullet': 2, 'wrap': 2, 'grouper': 2, 'melaka': 2, 'moss': 2, 'peng': 2, 'noncanned': 2, 'hashima': 2, 'herbalife': 2, 'herring': 2, 'hog': 2, 'dew': 2, 'honeydew': 2, 'dinosaur': 2, 'hotcake': 2, 'hummus': 2, 'sundae': 2, 'potong': 2, 'jew': 2, 'jewfish': 2, 'kebab': 2, 'kheema': 2, 'bangkit': 2, 'sagu': 2, 'koci': 2, 'peratal': 2, 'chump': 2, 'lassi': 2, 'lemonade': 2, 'hotdog': 2, 'fan': 2, 'smooth': 2, 'guo': 2, 'maize': 2, 'pomelo': 2, 'cooking': 2, 'buffalo': 2, 'mcspicy': 2, 'bhaji': 2, 'meatloaf': 2, 'lemongrass': 2, 'malted': 2, 'packet': 2, 'boat': 2, 'mocha': 2, 'risotto': 2, 'dalcha': 2, 'vindaloo': 2, 'sayur': 2, 'nectarine': 2, 'item': 2, 'tanmen': 2, 'wet': 2, 'oilroasted': 2, 'ocean': 2, 'junior': 2, 'organic': 2, 'papadum': 2, 'paper': 2, 'paprika': 2, 'parsley': 2, 'passion': 2, 'shortcrust': 2, 'pecan': 2, 'peking': 2, 'perch': 2, 'persimmon': 2, 'brain': 2, 'pancreas': 2, 'poke': 2, 'tandoori': 2, 'piah': 2, 'pop': 2, 'packaged': 2, 'unflavoured': 2, 'cocktail': 2, 'saba': 2, 'australian': 2, 'table': 2, 'worcestershire': 2, 'mcgriddle': 2, 'scone': 2, 'assorted': 2, 'semolina': 2, 'shishamo': 2, 'shrooms': 2, 'whiting': 2, 'snakehead': 2, 'sheet': 2, 'cane': 2, 'suji': 2, 'tahini': 2, 'taiwanese': 2, 'taro': 2, 'tarragon': 2, 'teppanyaki': 2, 'thread': 2, 'traditional': 2, 'banded': 2, 'tropical': 2, 'little': 2, 'fryerroasters': 2, 'vadai': 2, 'nonleafy': 2, 'vietnamese': 2, 'waterchestnut': 2, 'watercress': 2, 'wheatgrass': 2, 'wintermelon': 2, 'nonfat': 2, 'yu': 2, 'twister': 2, 'crustless': 2, 'skillet': 2, 'mexican': 2, 'crusted': 2, 'chile': 2, 'vinaigrette': 2, 'scallion': 2, 'broiled': 2, 'flounder': 2, 'chili': 2, 'pressure': 2, 'cooker': 2, 'crockpot': 2, 'asian': 2, 'bok': 2, 'bmt': 1, 'achar': 1, 'agaragar': 1, 'agedeshi': 1, 'aiyu': 1, 'ajinomoto': 1, 'msg': 1, 'allspice': 1, 'amocan': 1, 'singapore': 1, 'minus': 1, 'fillling': 1, 'anise': 1, 'dipper': 1, 'strudel': 1, 'aquaresin': 1, 'aspartame': 1, 'saccharin': 1, 'arugula': 1, 'solid': 1, 'buoy': 1, 'athirasam': 1, 'kurmah': 1, 'cili': 1, 'padi': 1, 'penyet': 1, 'tempra': 1, 'bk': 1, 'otah': 1, 'doubleacting': 1, 'bakwan': 1, 'kepiting': 1, 'rajah': 1, 'rastali': 1, 'tanduk': 1, 'barfi': 1, 'arrabbiata': 1, 'napoletana': 1, 'basan': 1, 'sharptooth': 1, 'batang': 1, 'bathusa': 1, 'baulu': 1, 'cermai': 1, 'bay': 1, 'hyacinth': 1, 'immature': 1, 'navy': 1, 'goulash': 1, 'lasagne': 1, 'serunding': 1, 'shin': 1, 'lager': 1, 'belimbi': 1, 'benedictine': 1, 'dom': 1, 'bengka': 1, 'ambon': 1, 'bergedil': 1, 'betel': 1, 'bhatura': 1, 'bibigo': 1, 'bidaran': 1, 'bigeye': 1, 'pulot': 1, 'beras': 1, 'ubikayu': 1, 'bingsu': 1, 'binjai': 1, 'alphabet': 1, 'jamfilled': 1, 'macaroon': 1, 'marie': 1, 'salada': 1, 'shortbread': 1, 'sultana': 1, 'wheatmeal': 1, 'bloody': 1, 'mary': 1, 'elephant': 1, 'royal': 1, 'cuisine': 1, 'pre': 1, 'bombay': 1, 'boonthi': 1, 'bragg': 1, 'amino': 1, 'tendon': 1, 'brandy': 1, 'butterscotchflavoured': 1, 'sundried': 1, 'pita': 1, 'ryemeal': 1, 'aerated': 1, 'bakery': 1, 'shop': 1, 'whitemeal': 1, 'breadcrumb': 1, 'breadfruit': 1, 'wholegrain': 1, 'fruitsnuts': 1, 'pachadi': 1, 'brussel': 1, 'kanji': 1, 'terigu': 1, 'bulgar': 1, 'susi': 1, '44': 1, 'buttermilk': 1, 'straight': 1, 'cylindrical': 1, 'pekinese': 1, 'caesar': 1, 'oriental': 1, 'tangy': 1, 'forest': 1, 'frosting': 1, 'creamywhite': 1, 'rabbit': 1, 'cappucino': 1, 'macchiato': 1, 'caraway': 1, 'cardamon': 1, 'javanese': 1, 'carrageenan': 1, 'castella': 1, 'river': 1, 'cayenne': 1, 'pellet': 1, 'champagne': 1, 'champignon': 1, 'chapati': 1, 'chasoba': 1, 'chawamushi': 1, 'pah': 1, 'fiesta': 1, 'foam': 1, 'liho': 1, 'spreadcheddar': 1, 'neufchatel': 1, 'vein': 1, 'brie': 1, 'camembert': 1, 'cheedam': 1, 'cheshire': 1, 'colby': 1, 'creamed': 1, 'cotto': 1, 'edam': 1, 'gloucester': 1, 'gouda': 1, 'haloumy': 1, 'havarti': 1, 'nimbin': 1, 'pecorino': 1, 'pepato': 1, 'provolone': 1, 'raclette': 1, 'romano': 1, 'samsue': 1, 'steppen': 1, 'tilsit': 1, 'meltz': 1, 'chic': 1, 'chick': 1, 'drumlets': 1, 'tender': 1, 'croquette': 1, 'frank': 1, 'opor': 1, 'pau': 1, 'plank': 1, 'pongteh': 1, 'pratal': 1, 'colonel': 1, 'strip': 1, 'ran': 1, 'chin': 1, 'lok': 1, 'china': 1, 'chipotle': 1, 'harvest': 1, 'chirashi': 1, 'chunk': 1, 'lava': 1, 'sprinkle': 1, 'churros': 1, 'chwee': 1, 'ciku': 1, 'citric': 1, 'acid': 1, 'anhydrous': 1, 'carbonated': 1, 'cj': 1, 'fishchicken': 1, 'clove': 1, 'coke': 1, 'icecream': 1, 'young': 1, 'first': 1, 'second': 1, 'desiccated': 1, 'stripe': 1, 'decaffeinated': 1, 'cokodok': 1, 'coleus': 1, 'tuberosus': 1, 'cornflake': 1, 'commercially': 1, '3oz': 1, '45oz': 1, 'bluesea': 1, 'sprinkled': 1, 'whipping': 1, 'claw': 1, 'badak': 1, 'cummin': 1, 'zazzle': 1, 'use': 1, 'kambing': 1, 'dahi': 1, 'bhalla': 1, 'daiquiri': 1, 'dakgalbi': 1, 'danish': 1, 'dao': 1, 'lard': 1, 'fishcake': 1, 'deervenison': 1, 'deli': 1, 'dhansak': 1, 'wang': 1, 'belachan': 1, 'digestive': 1, 'sharkfin': 1, 'berdurian': 1, 'donut': 1, 'dragonfruit': 1, 'draught': 1, 'flavor': 1, 'dripping': 1, 'drunken': 1, 'confit': 1, 'kiam': 1, 'duku': 1, 'durain': 1, 'malaysian': 1, 'midrange': 1, 'banjo': 1, 'poached': 1, 'lower': 1, 'cholesterol': 1, 'benedict': 1, 'muda': 1, 'endive': 1, 'ensure': 1, 'life': 1, 'escargot': 1, 'espresso': 1, 'farm': 1, 'featherback': 1, 'fenugreek': 1, 'filetofish': 1, 'firni': 1, 'foochow': 1, 'spirulina': 1, 'bladder': 1, 'crumbed': 1, 'goa': 1, 'ceylonese': 1, 'five': 1, '0706': 1, '0700': 1, 'arrowroot': 1, 'atta': 1, 'besan': 1, 'soyafluff': 1, 'self': 1, 'raising': 1, 'precooked': 1, 'made': 1, '2': 1, 'khun': 1, 'neng': 1, 'froot': 1, 'loop': 1, 'punch': 1, 'game': 1, 'boar': 1, 'wild': 1, 'garam': 1, 'garoupa': 1, 'getuk': 1, 'imperial': 1, 'glucolin': 1, 'glucose': 1, 'goby': 1, 'snakeskin': 1, 'bitterboiled': 1, 'granola': 1, 'quaker': 1, 'pack': 1, 'broccolli': 1, 'greasy': 1, 'grunter': 1, 'skinned': 1, 'gulab': 1, 'jamun': 1, 'chewing': 1, 'xanthan': 1, 'gyoza': 1, 'hair': 1, 'chopped': 1, 'gow': 1, 'harum': 1, 'manis': 1, 'doubled': 1, 'haw': 1, 'swensens': 1, 'hee': 1, 'keow': 1, 'heinz': 1, 'premium': 1, 'horseradish': 1, 'nutritional': 1, 'wolf': 1, 'hokkien': 1, 'smack': 1, 'mc': 1, 'donalds': 1, 'egglets': 1, 'horlick': 1, 'hoshisoba': 1, 'plate': 1, 'hotplate': 1, 'venison': 1, 'huai': 1, 'huat': 1, 'hum': 1, 'hush': 1, 'puppy': 1, 'hydrolysed': 1, 'fudge': 1, 'selashi': 1, 'kachang': 1, 'lolly': 1, 'idli': 1, 'imitation': 1, 'ipoh': 1, 'isolated': 1, 'isotonic': 1, 'itik': 1, 'jajangmyeon': 1, 'jalebi': 1, 'stone': 1, 'jangri': 1, 'shio': 1, 'shoyu': 1, 'japchae': 1, 'jemput': 1, 'sparkling': 1, 'pool': 1, 'kantan': 1, 'katsuofuridashi': 1, 'kee': 1, 'kembong': 1, 'kesari': 1, 'keseri': 1, 'ketupat': 1, 'kissing': 1, 'kiwifruit': 1, 'yen': 1, 'konjac': 1, '2011': 1, '2017': 1, 'ku': 1, 'ongol': 1, 'bahulu': 1, 'bugis': 1, 'dadar': 1, 'kasturi': 1, 'swee': 1, 'surabaya': 1, 'lope': 1, 'makmur': 1, 'pietee': 1, 'sarlat': 1, 'hangus': 1, 'bakul': 1, 'bawang': 1, 'rotan': 1, 'kapit': 1, 'karas': 1, 'kastad': 1, 'keria': 1, 'ketayap': 1, 'putih': 1, 'lepat': 1, 'lidah': 1, 'kucing': 1, 'lompang': 1, 'mysore': 1, 'pakoda': 1, 'peneram': 1, 'sri': 1, 'muka': 1, 'seri': 1, 'labah': 1, 'kuini': 1, 'kundur': 1, 'laddu': 1, 'langsat': 1, 'lasagnelasagna': 1, 'flavouring': 1, 'lengat': 1, 'lengkuas': 1, 'iceburg': 1, 'licorice': 1, 'lily': 1, 'bud': 1, 'musk': 1, 'liquorice': 1, 'liu': 1, 'sha': 1, 'loh': 1, 'longtail': 1, 'lontong': 1, 'loquat': 1, 'kai': 1, 'new': 1, 'loveletter': 1, 'alcohol': 1, 'alcoholic': 1, 'lowfat': 1, 'xiang': 1, 'macadamia': 1, 'mace': 1, 'barred': 1, 'makhani': 1, 'mamee': 1, 'mandarin': 1, 'mangosteen': 1, 'manhattan': 1, 'mapo': 1, 'nonchilled': 1, 'marmalade': 1, 'marshmallow': 1, 'marzipan': 1, 'mata': 1, 'kuching': 1, 'mcchicken': 1, 'mccormick': 1, 'mcflurry': 1, 'oreo': 1, 'mcwings': 1, 'mdh': 1, 'pav': 1, 'galore': 1, 'mamak': 1, 'kuah': 1, 'mekhala': 1, 'meringue': 1, 'commerial': 1, 'skimmedlow': 1, '100': 1, 'millet': 1, 'godzilla': 1, 'australia': 1, 'easycool': 1, 'readytodrink': 1, 'preseved': 1, 'bhujjia': 1, 'yuzu': 1, 'kuo': 1, 'waxy': 1, 'mollusk': 1, 'specie': 1, 'two': 1, 'moonfish': 1, 'muah': 1, 'englishstyle': 1, 'mui': 1, 'mulberry': 1, 'bluetail': 1, 'murukku': 1, 'readytoserve': 1, 'mushrooom': 1, 'highland': 1, 'lowland': 1, 'kofta': 1, 'mysorepak': 1, 'naan': 1, 'dagang': 1, 'kunyit': 1, 'minyak': 1, 'pattaya': 1, 'rawan': 1, 'nata': 1, 'coco': 1, 'nian': 1, 'gao': 1, 'noni': 1, 'flavourwith': 1, 'nougat': 1, 'nutrifos': 1, '088': 1, 'tripolyphosphate': 1, 'nutrigrain': 1, 'blanched': 1, 'brazil': 1, 'unblanched': 1, 'candlenut': 1, 'pine': 1, 'tinned': 1, 'catch': 1, 'mufa': 1, 'pufa': 1, 'sfa': 1, 'unspecificed': 1, 'healthier': 1, 'grapeseed': 1, 'crude': 1, 'olein': 1, 'safflower': 1, 'okonomiyaki': 1, 'sharksfin': 1, 'omu': 1, 'squeezed': 1, 'navel': 1, 'washington': 1, 'valencia': 1, 'oyakodon': 1, 'chow': 1, 'paal': 1, 'kova': 1, 'pacific': 1, 'range': 1, 'pad': 1, 'painted': 1, 'sweetlip': 1, 'koh': 1, 'chiffon': 1, 'paneer': 1, 'pakora': 1, 'papa': 1, 'alfredo': 1, 'exotica': 1, 'hawaii': 1, 'oleoresin': 1, 'parathas': 1, 'paru': 1, 'hainanese': 1, 'pate': 1, 'foie': 1, 'payasam': 1, 'pilaf': 1, 'peached': 1, 'sulfured': 1, 'prickly': 1, 'yellowbrown': 1, 'garden': 1, 'unbattered': 1, 'pectin': 1, 'climbing': 1, 'picnic': 1, 'organ': 1, 'pigeon': 1, 'pikelet': 1, 'homeprepared': 1, 'sarawak': 1, 'personal': 1, 'pomegranate': 1, 'pomodoro': 1, 'ponyfish': 1, 'cammon': 1, 'buttered': 1, 'unpopped': 1, 'circular': 1, 'shape': 1, 'cubed': 1, 'port': 1, 'portuguese': 1, 'ovenfried': 1, 'processing': 1, 'purchased': 1, 'pound': 1, 'gelatine': 1, 'sifted': 1, 'olio': 1, 'pretzel': 1, 'psyllium': 1, 'husk': 1, 'puding': 1, 'pulasan': 1, 'pulled': 1, 'inti': 1, 'serikaya': 1, 'kernals': 1, 'kernel': 1, 'pung': 1, 'puri': 1, 'bambu': 1, 'mayam': 1, 'piring': 1, 'queenfish': 1, 'quince': 1, 'rabbitfish': 1, 'streaked': 1, 'ragu': 1, 'rainbow': 1, 'seedless': 1, 'rambai': 1, 'rambutan': 1, 'rasberry': 1, 'rasgulla': 1, 'rasmalai': 1, 'rawa': 1, 'bull': 1, 'ruby': 1, 'rempeyek': 1, 'hati': 1, 'ribbonfish': 1, 'coarse': 1, 'extruded': 1, 'fine': 1, 'kheer': 1, 'broken': 1, 'longgrain': 1, 'parboiled': 1, 'unpolished': 1, 'roasta': 1, 'suckling': 1, 'rockmelon': 1, 'rohu': 1, 'rokam': 1, 'roller': 1, 'float': 1, 'rosti': 1, 'jala': 1, 'rum': 1, 'saffron': 1, 'sake': 1, 'chef': 1, 'salak': 1, 'salami': 1, 'brinedrained': 1, 'pansalt': 1, 'salty': 1, 'sah': 1, 'lala': 1, 'sambar': 1, 'remo': 1, 'undrained': 1, 'hoisin': 1, 'tabasco': 1, 'tartar': 1, 'lea': 1, 'perrins': 1, 'size': 1, 'eat': 1, 'cabanossi': 1, 'smoke': 1, 'linked': 1, 'lodeh': 1, 'finlet': 1, 'screwdriver': 1, 'cock': 1, 'pike': 1, 'blunt': 1, 'jawed': 1, 'paella': 1, 'yum': 1, 'cempedak': 1, 'poppy': 1, 'slender': 1, 'shanghai': 1, 'shepherd': 1, 'shibuya': 1, 'semidried': 1, 'kia': 1, 'sickle': 1, 'consist': 1, 'largely': 1, 'fatty': 1, 'smoothy': 1, 'snail': 1, 'striped': 1, 'russell': 1, 'benzoate': 1, 'softmeal': 1, 'sohn': 1, 'papadi': 1, 'sooji': 1, 'soon': 1, 'sorbet': 1, 'sorbitol': 1, 'samsui': 1, 'main': 1, 'meal': 1, 'minestrone': 1, 'resum': 1, 'strand': 1, 'soyabeans': 1, 'spectrum': 1, 'orient': 1, 'trio': 1, 'ceylon': 1, 'spirit': 1, 'chocolateflavoured': 1, 'marmite': 1, 'vegemite': 1, 'carambola': 1, 'starry': 1, 'triggerfish': 1, 'mantou': 1, 'kow': 1, 'fuchok': 1, 'dou': 1, 'miao': 1, 'kailan': 1, 'nai': 1, 'bai': 1, 'powdercube': 1, 'shortcake': 1, 'fen': 1, 'rock': 1, 'fusion': 1, 'sup': 1, 'tulang': 1, 'surimi': 1, 'finfish': 1, 'california': 1, 'futomaki': 1, 'ginkgo': 1, 'swordfish': 1, 'refiner': 1, 'sze': 1, 'chaun': 1, 'taho': 1, 'blachanhcs': 1, 'tamarillo': 1, 'gui': 1, 'tanghoon': 1, 'tao': 1, 'tapai': 1, 'bubblepassion': 1, 'infusion': 1, 'chamomile': 1, 'kosong': 1, 'halia': 1, 'tarik': 1, 'teochew': 1, 'bungkus': 1, 'tequila': 1, 'sunrise': 1, 'textured': 1, 'heritage': 1, 'thairu': 1, 'beam': 1, 'threadfinwhole': 1, 'thunder': 1, 'tiramisu': 1, 'bandito': 1, 'pocket': 1, 'toman': 1, 'chong': 1, 'butterscotch': 1, 'nacho': 1, 'readytobake': 1, 'bolognaise': 1, 'treacle': 1, 'malabar': 1, 'truffle': 1, 'tumpi': 1, 'sashimi': 1, 'class': 1, 'unagi': 1, 'kuning': 1, 'vanaspati': 1, 'bit': 1, '50trimmed': 1, '75trimmed': 1, 'umian': 1, 'shortening': 1, 'vetsin': 1, 'monosodium': 1, 'glutamate': 1, 'balsamic': 1, 'cider': 1, 'violet': 1, 'vodka': 1, 'vongole': 1, 'wajik': 1, 'contain': 1, 'warabi': 1, 'convulvolus': 1, 'mineral': 1, 'jambu': 1, 'weetbix': 1, 'germ': 1, 'unprocessed': 1, 'whey': 1, 'whisky': 1, 'macademia': 1, 'pregelatinized': 1, 'whitebait': 1, 'trumpeter': 1, 'wife': 1, 'cooler': 1, 'time': 1, 'winglets': 1, 'winter': 1, 'woh': 1, 'hup': 1, 'marinade': 1, 'wolfberry': 1, 'wu': 1, 'xxl': 1, 'seafoodmeat': 1, 'yaki': 1, 'brewer': 1, 'grit': 1, 'dahl': 1, 'fusilier': 1, 'bengal': 1, 'fishmeat': 1, 'taukee': 1, 'included': 1, 'zha': 1, 'jiang': 1, 'burgerkfc': 1, 'soba': 1, 'serve': 1, 'prosciutto': 1, 'swirl': 1, 'blueberrybanana': 1, 'buckwheat': 1, 'german': 1, 'practical': 1, 'swirly': 1, 'caramelized': 1, 'flax': 1, 'taquitos': 1, 'fluffy': 1, 'vegan': 1, 'coconutchia': 1, 'heuvos': 1, 'rancheros': 1, 'diced': 1, 'cobbler': 1, 'vega': 1, 'jar': 1, 'soymilk': 1, 'gingerbread': 1, 'tomatillo': 1, 'denver': 1, 'yummy': 1, 'chunky': 1, 'monkey': 1, 'power': 1, 'chorizo': 1, 'margherita': 1, 'carb': 1, 'lasagna': 1, 'bake': 1, 'best': 1, 'antiinflammatory': 1, 'philly': 1, 'cheesesteak': 1, 'breyani': 1, 'burgundy': 1, 'filet': 1, 'hoisinmarinated': 1, 'tritip': 1, 'basic': 1, 'panroasted': 1, 'pineapplechile': 1, 'panko': 1, 'saltimbocca': 1, 'butternut': 1, 'cordon': 1, 'bleu': 1, 'slowroasted': 1, 'dill': 1, 'bilbaostyle': 1, 'fenneldusted': 1, 'caper': 1, 'smoky': 1, 'greekspiced': 1, 'browned': 1, 'orzo': 1, 'mahimahi': 1, 'openface': 1, 'kielbasa': 1, 'pineappleglazed': 1, 'chilecaper': 1, 'chimichurri': 1, 'cornichons': 1, 'seared': 1, 'orangeshallot': 1, 'healthy': 1, 'misoglazed': 1, 'dynamite': 1, 'piccata': 1, 'snap': 1, 'onepan': 1, 'clean': 1, 'eating': 1, 'pao': 1, 'edamame': 1, 'skordalia': 1, 'moroccan': 1, 'bangladeshistyle': 1, 'korma': 1, 'paprikash': 1, 'calorie': 1, 'coq': 1, 'vin': 1, 'fiveminute': 1, 'quick': 1, 'shiitake': 1, 'pounded': 1, 'mediterranean': 1, 'caprese': 1, 'crock': 1, 'wih': 1, 'curried': 1, 'blackened': 1, 'tenderloin': 1, 'cilantrolime': 1, 'sticky': 1, 'rosemary': 1, 'foil': 1, 'bed': 1, 'crescent': 1, 'tuscan': 1, 'papillote': 1, 'ovenroasted': 1}\n"
     ]
    }
   ],
   "source": [
    "wordCount = {k: v for k, v in sorted(wordsCount.items(), key=lambda item: item[1], reverse=True)}\n",
    "print(wordCount)"
   ]
  },
  {
   "cell_type": "code",
   "execution_count": 27,
   "metadata": {},
   "outputs": [
    {
     "data": {
      "image/png": "[encoded data removed]",
      "text/plain": [
       "<Figure size 432x288 with 1 Axes>"
      ]
     },
     "metadata": {
      "needs_background": "light"
     },
     "output_type": "display_data"
    }
   ],
   "source": [
    "import matplotlib.pyplot as plt\n",
    "plt.bar(list(wordCount_sorted.keys())[:30], list(wordCount_sorted.values())[:30])\n",
    "plt.xticks(rotation=90)\n",
    "plt.show()"
   ]
  },
  {
   "cell_type": "code",
   "execution_count": 51,
   "metadata": {},
   "outputs": [
    {
     "name": "stdout",
     "output_type": "stream",
     "text": [
      "             Counts\n",
      "raw          490   \n",
      "chicken      301   \n",
      "fried        263   \n",
      "lean         192   \n",
      "pork         166   \n",
      "...          ...   \n",
      "kembong      1     \n",
      "kesari       1     \n",
      "keseri       1     \n",
      "ketupat      1     \n",
      "ovenroasted  1     \n",
      "\n",
      "[2009 rows x 1 columns]\n"
     ]
    }
   ],
   "source": [
    "df_wordCounts = pd.DataFrame.from_dict(wordsCount, orient='index', columns=['Counts'])\n",
    "df_wordCounts.sort_values(by='Counts', ascending=False, inplace=True)\n",
    "print(df_wordCounts)"
   ]
  },
  {
   "cell_type": "code",
   "execution_count": 29,
   "metadata": {},
   "outputs": [
    {
     "name": "stdout",
     "output_type": "stream",
     "text": [
      "Index(['chunky', 'inti', 'pulled', 'pulasan', 'yummy', 'breyani',\n",
      "       'saltimbocca', 'rempeyek', 'olio', 'slowroasted',\n",
      "       ...\n",
      "       'sparkling', 'pool', 'kantan', 'katsuofuridashi', 'kee', 'kembong',\n",
      "       'kesari', 'keseri', 'ketupat', 'ovenroasted'],\n",
      "      dtype='object', length=938)\n"
     ]
    }
   ],
   "source": [
    "print(df_wordCounts[df_wordCounts['Counts']<=1].index)"
   ]
  },
  {
   "cell_type": "code",
   "execution_count": 42,
   "metadata": {},
   "outputs": [
    {
     "name": "stdout",
     "output_type": "stream",
     "text": [
      "         Counts\n",
      "raw      490   \n",
      "chicken  301   \n",
      "fried    263   \n",
      "lean     192   \n",
      "pork     166   \n",
      "...      ...   \n",
      "fun      9     \n",
      "pudding  9     \n",
      "shoot    9     \n",
      "shank    9     \n",
      "sardine  9     \n",
      "\n",
      "[315 rows x 1 columns]\n",
      "Index(['raw', 'chicken', 'fried', 'lean', 'pork', 'beef', 'soup', 'fat',\n",
      "       'fish', 'canned',\n",
      "       ...\n",
      "       'thigh', 'cutlet', 'pomfret', 'herbal', 'curd', 'fun', 'pudding',\n",
      "       'shoot', 'shank', 'sardine'],\n",
      "      dtype='object', length=315)\n"
     ]
    }
   ],
   "source": [
    "print(df_wordCounts[df_wordCounts['Counts']>=df_wordCounts['Counts'].quantile(0.85)])\n",
    "print(df_wordCounts[df_wordCounts['Counts']>=df_wordCounts['Counts'].quantile(0.85)].index)"
   ]
  },
  {
   "cell_type": "code",
   "execution_count": null,
   "metadata": {},
   "outputs": [],
   "source": []
  }
 ],
 "metadata": {
  "kernelspec": {
   "display_name": "Python 3",
   "language": "python",
   "name": "python3"
  },
  "language_info": {
   "codemirror_mode": {
    "name": "ipython",
    "version": 3
   },
   "file_extension": ".py",
   "mimetype": "text/x-python",
   "name": "python",
   "nbconvert_exporter": "python",
   "pygments_lexer": "ipython3",
   "version": "3.7.1"
  }
 },
 "nbformat": 4,
 "nbformat_minor": 4
}
