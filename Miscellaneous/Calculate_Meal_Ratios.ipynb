{
 "cells": [
  {
   "cell_type": "code",
   "execution_count": 1,
   "metadata": {},
   "outputs": [],
   "source": [
    "import ipywidgets as widgets"
   ]
  },
  {
   "cell_type": "code",
   "execution_count": 72,
   "metadata": {},
   "outputs": [],
   "source": [
    "def NormValue(ratio, sumratio, value):\n",
    "    return (ratio / sumratio) * value\n",
    "\n",
    "def CalcMealCalories (cal, bf_r, lun_r, din_r):\n",
    "    sum_r = bf.value + lun.value + din.value\n",
    "    bf_cal = NormValue(bf.value, sum_r, cal)\n",
    "    lun_cal = NormValue(lun.value, sum_r, cal)\n",
    "    din_cal = NormValue(din.value, sum_r, cal)\n",
    "    return (bf_cal, lun_cal, din_cal)"
   ]
  },
  {
   "cell_type": "code",
   "execution_count": 71,
   "metadata": {},
   "outputs": [
    {
     "data": {
      "application/vnd.jupyter.widget-view+json": {
       "model_id": "cd48653113794d28a29b003b3618a4fa",
       "version_major": 2,
       "version_minor": 0
      },
      "text/plain": [
       "IntText(value=2000, description='Calories')"
      ]
     },
     "metadata": {},
     "output_type": "display_data"
    },
    {
     "data": {
      "application/vnd.jupyter.widget-view+json": {
       "model_id": "e1b19c819e104757a1d85b73e303e0e3",
       "version_major": 2,
       "version_minor": 0
      },
      "text/plain": [
       "IntSlider(value=5, description='Breakfast', max=10)"
      ]
     },
     "metadata": {},
     "output_type": "display_data"
    },
    {
     "data": {
      "application/vnd.jupyter.widget-view+json": {
       "model_id": "496d46f7b02d49d2926cf30005a78bcd",
       "version_major": 2,
       "version_minor": 0
      },
      "text/plain": [
       "IntSlider(value=5, description='Lunch', max=10)"
      ]
     },
     "metadata": {},
     "output_type": "display_data"
    },
    {
     "data": {
      "application/vnd.jupyter.widget-view+json": {
       "model_id": "c349d0cd0b454307a5db72d6d85b629d",
       "version_major": 2,
       "version_minor": 0
      },
      "text/plain": [
       "IntSlider(value=5, description='Dinner', max=10)"
      ]
     },
     "metadata": {},
     "output_type": "display_data"
    }
   ],
   "source": [
    "cal = widgets.IntText(value=2000, description='Calories')\n",
    "bf = widgets.IntSlider(value=5, min=0, max=10, description='Breakfast')\n",
    "lun = widgets.IntSlider(value=5, min=0, max=10, description='Lunch')\n",
    "din = widgets.IntSlider(value=5, min=0, max=10, description='Dinner')\n",
    "display(cal, bf, lun, din)"
   ]
  },
  {
   "cell_type": "code",
   "execution_count": 85,
   "metadata": {},
   "outputs": [
    {
     "name": "stdout",
     "output_type": "stream",
     "text": [
      "Breakfast calories = 555.556\r\n",
      "Lunch calories = 555.556\r\n",
      "Dinner calories = 888.889\r\n",
      "Sum of calories = 2000.0\n"
     ]
    }
   ],
   "source": [
    "bf_cal, lun_cal, din_cal = CalcMealCalories(cal.value, bf.value, lun.value, din.value)\n",
    "sum_cal = bf_cal + lun_cal + din_cal\n",
    "print(\"Breakfast calories = {}\\r\\nLunch calories = {}\\r\\nDinner calories = {}\\r\\nSum of calories = {}\".\\\n",
    "      format(round(bf_cal, 3), round(lun_cal, 3), round(din_cal, 3), round(sum_cal, 3)))"
   ]
  },
  {
   "cell_type": "code",
   "execution_count": null,
   "metadata": {},
   "outputs": [],
   "source": []
  }
 ],
 "metadata": {
  "kernelspec": {
   "display_name": "Python 3",
   "language": "python",
   "name": "python3"
  },
  "language_info": {
   "codemirror_mode": {
    "name": "ipython",
    "version": 3
   },
   "file_extension": ".py",
   "mimetype": "text/x-python",
   "name": "python",
   "nbconvert_exporter": "python",
   "pygments_lexer": "ipython3",
   "version": "3.7.5"
  }
 },
 "nbformat": 4,
 "nbformat_minor": 2
}
